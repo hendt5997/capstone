{
 "cells": [
  {
   "cell_type": "code",
   "execution_count": 1,
   "metadata": {},
   "outputs": [],
   "source": [
    "import pandas as pd"
   ]
  },
  {
   "cell_type": "code",
   "execution_count": 3,
   "metadata": {},
   "outputs": [],
   "source": [
    "df_device = pd.read_csv('./device.csv')"
   ]
  },
  {
   "cell_type": "code",
   "execution_count": 39,
   "metadata": {},
   "outputs": [
    {
     "data": {
      "text/plain": [
       "Index(['id', 'date', 'user', 'pc', 'activity'], dtype='object')"
      ]
     },
     "execution_count": 39,
     "metadata": {},
     "output_type": "execute_result"
    }
   ],
   "source": [
    "df_device.columns"
   ]
  },
  {
   "cell_type": "code",
   "execution_count": 4,
   "metadata": {},
   "outputs": [
    {
     "data": {
      "text/html": [
       "<div>\n",
       "<style scoped>\n",
       "    .dataframe tbody tr th:only-of-type {\n",
       "        vertical-align: middle;\n",
       "    }\n",
       "\n",
       "    .dataframe tbody tr th {\n",
       "        vertical-align: top;\n",
       "    }\n",
       "\n",
       "    .dataframe thead th {\n",
       "        text-align: right;\n",
       "    }\n",
       "</style>\n",
       "<table border=\"1\" class=\"dataframe\">\n",
       "  <thead>\n",
       "    <tr style=\"text-align: right;\">\n",
       "      <th></th>\n",
       "      <th>id</th>\n",
       "      <th>date</th>\n",
       "      <th>user</th>\n",
       "      <th>pc</th>\n",
       "      <th>activity</th>\n",
       "    </tr>\n",
       "  </thead>\n",
       "  <tbody>\n",
       "    <tr>\n",
       "      <th>count</th>\n",
       "      <td>417588</td>\n",
       "      <td>417588</td>\n",
       "      <td>417588</td>\n",
       "      <td>417588</td>\n",
       "      <td>417588</td>\n",
       "    </tr>\n",
       "    <tr>\n",
       "      <th>unique</th>\n",
       "      <td>417588</td>\n",
       "      <td>412105</td>\n",
       "      <td>218</td>\n",
       "      <td>215</td>\n",
       "      <td>2</td>\n",
       "    </tr>\n",
       "    <tr>\n",
       "      <th>top</th>\n",
       "      <td>{I5K5-M8HD47HI-6694GOIH}</td>\n",
       "      <td>10/29/2010 09:08:19</td>\n",
       "      <td>PCM0369</td>\n",
       "      <td>PC-2094</td>\n",
       "      <td>Connect</td>\n",
       "    </tr>\n",
       "    <tr>\n",
       "      <th>freq</th>\n",
       "      <td>1</td>\n",
       "      <td>3</td>\n",
       "      <td>8085</td>\n",
       "      <td>8085</td>\n",
       "      <td>211663</td>\n",
       "    </tr>\n",
       "  </tbody>\n",
       "</table>\n",
       "</div>"
      ],
      "text/plain": [
       "                              id                 date     user       pc  \\\n",
       "count                     417588               417588   417588   417588   \n",
       "unique                    417588               412105      218      215   \n",
       "top     {I5K5-M8HD47HI-6694GOIH}  10/29/2010 09:08:19  PCM0369  PC-2094   \n",
       "freq                           1                    3     8085     8085   \n",
       "\n",
       "       activity  \n",
       "count    417588  \n",
       "unique        2  \n",
       "top     Connect  \n",
       "freq     211663  "
      ]
     },
     "execution_count": 4,
     "metadata": {},
     "output_type": "execute_result"
    }
   ],
   "source": [
    "df_device.describe()"
   ]
  },
  {
   "cell_type": "code",
   "execution_count": 8,
   "metadata": {},
   "outputs": [],
   "source": [
    "df_device.sort_values('date', inplace=True)"
   ]
  },
  {
   "cell_type": "code",
   "execution_count": 21,
   "metadata": {},
   "outputs": [],
   "source": [
    "df_firstActivity = df_device.groupby(['user','activity'])['date'].min().reset_index()\n",
    "df_firstActivity['date'] = pd.to_datetime(df_firstActivity['date'])\n",
    "df_firstActivity['calendarDay'] = df_firstActivity['date'].dt.date\n",
    "df_firstActivity['dateString'] = df_firstActivity['calendarDay'].apply(lambda x: x.strftime('%Y%m%d'))\n",
    "df_firstActivity['userDate'] = df_firstActivity.apply(lambda x: x['user'] + '_' + x['dateString'], axis=1)\n",
    "df_firstActivity = df_firstActivity[['userDate','activity']]\n",
    "df_firstActivity['firstActivity'] = 1\n",
    "df_firstActivity.to_pickle('firstActivity.pkl')"
   ]
  },
  {
   "cell_type": "code",
   "execution_count": 22,
   "metadata": {},
   "outputs": [
    {
     "data": {
      "text/html": [
       "<div>\n",
       "<style scoped>\n",
       "    .dataframe tbody tr th:only-of-type {\n",
       "        vertical-align: middle;\n",
       "    }\n",
       "\n",
       "    .dataframe tbody tr th {\n",
       "        vertical-align: top;\n",
       "    }\n",
       "\n",
       "    .dataframe thead th {\n",
       "        text-align: right;\n",
       "    }\n",
       "</style>\n",
       "<table border=\"1\" class=\"dataframe\">\n",
       "  <thead>\n",
       "    <tr style=\"text-align: right;\">\n",
       "      <th></th>\n",
       "      <th>userDate</th>\n",
       "      <th>activity</th>\n",
       "      <th>firstActivity</th>\n",
       "    </tr>\n",
       "  </thead>\n",
       "  <tbody>\n",
       "    <tr>\n",
       "      <th>0</th>\n",
       "      <td>AAS0850_20100104</td>\n",
       "      <td>Connect</td>\n",
       "      <td>1</td>\n",
       "    </tr>\n",
       "    <tr>\n",
       "      <th>1</th>\n",
       "      <td>AAS0850_20100104</td>\n",
       "      <td>Disconnect</td>\n",
       "      <td>1</td>\n",
       "    </tr>\n",
       "    <tr>\n",
       "      <th>2</th>\n",
       "      <td>ABH0821_20110102</td>\n",
       "      <td>Connect</td>\n",
       "      <td>1</td>\n",
       "    </tr>\n",
       "    <tr>\n",
       "      <th>3</th>\n",
       "      <td>ABH0821_20110102</td>\n",
       "      <td>Disconnect</td>\n",
       "      <td>1</td>\n",
       "    </tr>\n",
       "    <tr>\n",
       "      <th>4</th>\n",
       "      <td>ACR0100_20110104</td>\n",
       "      <td>Connect</td>\n",
       "      <td>1</td>\n",
       "    </tr>\n",
       "  </tbody>\n",
       "</table>\n",
       "</div>"
      ],
      "text/plain": [
       "           userDate    activity  firstActivity\n",
       "0  AAS0850_20100104     Connect              1\n",
       "1  AAS0850_20100104  Disconnect              1\n",
       "2  ABH0821_20110102     Connect              1\n",
       "3  ABH0821_20110102  Disconnect              1\n",
       "4  ACR0100_20110104     Connect              1"
      ]
     },
     "execution_count": 22,
     "metadata": {},
     "output_type": "execute_result"
    }
   ],
   "source": [
    "df_firstActivity.head(5)"
   ]
  },
  {
   "cell_type": "code",
   "execution_count": 36,
   "metadata": {},
   "outputs": [],
   "source": [
    "df_hasConnect = df_device[df_device['activity'] == 'Connect'].copy()\n",
    "df_hasConnect['date'] = pd.to_datetime(df_hasConnect['date'])\n",
    "df_hasConnect['calendarDay'] = df_hasConnect['date'].dt.date\n",
    "df_hasConnect['dateString'] = df_hasConnect['calendarDay'].apply(lambda x: x.strftime('%Y%m%d'))\n",
    "df_hasConnect['userDate'] = df_hasConnect.apply(lambda x: x['user'] + '_' + x['dateString'], axis=1)\n",
    "df_hasConnect = df_hasConnect[['userDate']]\n",
    "df_hasConnect['hasConnect'] = 1\n",
    "df_hasConnect = df_hasConnect.groupby('userDate').sum().reset_index()\n",
    "df_hasConnect.to_pickle('hasConnect.pkl')"
   ]
  }
 ],
 "metadata": {
  "kernelspec": {
   "display_name": ".venv",
   "language": "python",
   "name": "python3"
  },
  "language_info": {
   "codemirror_mode": {
    "name": "ipython",
    "version": 3
   },
   "file_extension": ".py",
   "mimetype": "text/x-python",
   "name": "python",
   "nbconvert_exporter": "python",
   "pygments_lexer": "ipython3",
   "version": "3.10.10"
  },
  "orig_nbformat": 4,
  "vscode": {
   "interpreter": {
    "hash": "59a61050de5602df89d115e2a8b106731378e82c33a23b198cb5069ccb3357e6"
   }
  }
 },
 "nbformat": 4,
 "nbformat_minor": 2
}
