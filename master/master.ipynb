{
 "cells": [
  {
   "cell_type": "code",
   "execution_count": 1,
   "metadata": {},
   "outputs": [],
   "source": [
    "import pandas as pd"
   ]
  },
  {
   "cell_type": "code",
   "execution_count": 2,
   "metadata": {},
   "outputs": [],
   "source": [
    "df_ldap = pd.read_pickle('../ldap/ldap.pkl')"
   ]
  },
  {
   "cell_type": "code",
   "execution_count": 3,
   "metadata": {},
   "outputs": [
    {
     "data": {
      "text/html": [
       "<div>\n",
       "<style scoped>\n",
       "    .dataframe tbody tr th:only-of-type {\n",
       "        vertical-align: middle;\n",
       "    }\n",
       "\n",
       "    .dataframe tbody tr th {\n",
       "        vertical-align: top;\n",
       "    }\n",
       "\n",
       "    .dataframe thead th {\n",
       "        text-align: right;\n",
       "    }\n",
       "</style>\n",
       "<table border=\"1\" class=\"dataframe\">\n",
       "  <thead>\n",
       "    <tr style=\"text-align: right;\">\n",
       "      <th></th>\n",
       "      <th>employee_name</th>\n",
       "      <th>user_id</th>\n",
       "      <th>email</th>\n",
       "      <th>role</th>\n",
       "      <th>business_unit</th>\n",
       "      <th>functional_unit</th>\n",
       "      <th>department</th>\n",
       "      <th>team</th>\n",
       "      <th>supervisor</th>\n",
       "      <th>date</th>\n",
       "    </tr>\n",
       "  </thead>\n",
       "  <tbody>\n",
       "    <tr>\n",
       "      <th>0</th>\n",
       "      <td>Macey Colleen Nash</td>\n",
       "      <td>MCN0973</td>\n",
       "      <td>Macey.Colleen.Nash@dtaa.com</td>\n",
       "      <td>ElectricalEngineer</td>\n",
       "      <td>1</td>\n",
       "      <td>3 - Manufacturing</td>\n",
       "      <td>2 - ManufacturingEngineering</td>\n",
       "      <td>NaN</td>\n",
       "      <td>Ann Hannah Dickerson</td>\n",
       "      <td>2009-12</td>\n",
       "    </tr>\n",
       "    <tr>\n",
       "      <th>1</th>\n",
       "      <td>Nelle Sharon Cherry</td>\n",
       "      <td>NSC0622</td>\n",
       "      <td>Nelle.Sharon.Cherry@dtaa.com</td>\n",
       "      <td>Technician</td>\n",
       "      <td>1</td>\n",
       "      <td>5 - SalesAndMarketing</td>\n",
       "      <td>3 - FieldService</td>\n",
       "      <td>3 - RegionalFieldService</td>\n",
       "      <td>Amethyst Suki Norris</td>\n",
       "      <td>2009-12</td>\n",
       "    </tr>\n",
       "    <tr>\n",
       "      <th>2</th>\n",
       "      <td>Kathleen Audrey Vargas</td>\n",
       "      <td>KAV0428</td>\n",
       "      <td>Kathleen.Audrey.Vargas@dtaa.com</td>\n",
       "      <td>ProductionLineWorker</td>\n",
       "      <td>1</td>\n",
       "      <td>3 - Manufacturing</td>\n",
       "      <td>3 - Assembly</td>\n",
       "      <td>2 - AssemblyDept</td>\n",
       "      <td>Brenna Martha Russell</td>\n",
       "      <td>2009-12</td>\n",
       "    </tr>\n",
       "    <tr>\n",
       "      <th>3</th>\n",
       "      <td>Adrienne Joelle Mclean</td>\n",
       "      <td>AJM0772</td>\n",
       "      <td>Adrienne.Joelle.Mclean@dtaa.com</td>\n",
       "      <td>Scientist</td>\n",
       "      <td>1</td>\n",
       "      <td>2 - ResearchAndEngineering</td>\n",
       "      <td>1 - Research</td>\n",
       "      <td>5 - Lab</td>\n",
       "      <td>Emmanuel Casey Wiggins</td>\n",
       "      <td>2009-12</td>\n",
       "    </tr>\n",
       "    <tr>\n",
       "      <th>4</th>\n",
       "      <td>Nicole Maris Valentine</td>\n",
       "      <td>NMV0507</td>\n",
       "      <td>Nicole.Maris.Valentine@dtaa.com</td>\n",
       "      <td>Manager</td>\n",
       "      <td>1</td>\n",
       "      <td>5 - SalesAndMarketing</td>\n",
       "      <td>2 - Sales</td>\n",
       "      <td>3 - RegionalSales</td>\n",
       "      <td>Perry Reese Morton</td>\n",
       "      <td>2009-12</td>\n",
       "    </tr>\n",
       "  </tbody>\n",
       "</table>\n",
       "</div>"
      ],
      "text/plain": [
       "            employee_name  user_id                            email  \\\n",
       "0      Macey Colleen Nash  MCN0973      Macey.Colleen.Nash@dtaa.com   \n",
       "1     Nelle Sharon Cherry  NSC0622     Nelle.Sharon.Cherry@dtaa.com   \n",
       "2  Kathleen Audrey Vargas  KAV0428  Kathleen.Audrey.Vargas@dtaa.com   \n",
       "3  Adrienne Joelle Mclean  AJM0772  Adrienne.Joelle.Mclean@dtaa.com   \n",
       "4  Nicole Maris Valentine  NMV0507  Nicole.Maris.Valentine@dtaa.com   \n",
       "\n",
       "                   role  business_unit             functional_unit  \\\n",
       "0    ElectricalEngineer              1           3 - Manufacturing   \n",
       "1            Technician              1       5 - SalesAndMarketing   \n",
       "2  ProductionLineWorker              1           3 - Manufacturing   \n",
       "3             Scientist              1  2 - ResearchAndEngineering   \n",
       "4               Manager              1       5 - SalesAndMarketing   \n",
       "\n",
       "                     department                      team  \\\n",
       "0  2 - ManufacturingEngineering                       NaN   \n",
       "1              3 - FieldService  3 - RegionalFieldService   \n",
       "2                  3 - Assembly          2 - AssemblyDept   \n",
       "3                  1 - Research                   5 - Lab   \n",
       "4                     2 - Sales         3 - RegionalSales   \n",
       "\n",
       "               supervisor     date  \n",
       "0    Ann Hannah Dickerson  2009-12  \n",
       "1    Amethyst Suki Norris  2009-12  \n",
       "2   Brenna Martha Russell  2009-12  \n",
       "3  Emmanuel Casey Wiggins  2009-12  \n",
       "4      Perry Reese Morton  2009-12  "
      ]
     },
     "execution_count": 3,
     "metadata": {},
     "output_type": "execute_result"
    }
   ],
   "source": [
    "df_ldap.head(5)"
   ]
  },
  {
   "cell_type": "code",
   "execution_count": 4,
   "metadata": {},
   "outputs": [],
   "source": [
    "df_users = pd.DataFrame(df_ldap['user_id'].unique())"
   ]
  },
  {
   "cell_type": "code",
   "execution_count": 5,
   "metadata": {},
   "outputs": [],
   "source": [
    "df_dates = pd.date_range('1/1/2010', '5/31/2011').to_frame()\n",
    "df_dates[0] = df_dates[0].dt.strftime('%Y%m%d')"
   ]
  },
  {
   "cell_type": "code",
   "execution_count": 6,
   "metadata": {},
   "outputs": [],
   "source": [
    "df_master = pd.merge(df_users.assign(key=1), df_dates.assign(key=1), on='key').drop('key', axis=1)"
   ]
  },
  {
   "cell_type": "code",
   "execution_count": 63,
   "metadata": {},
   "outputs": [
    {
     "data": {
      "text/html": [
       "<div>\n",
       "<style scoped>\n",
       "    .dataframe tbody tr th:only-of-type {\n",
       "        vertical-align: middle;\n",
       "    }\n",
       "\n",
       "    .dataframe tbody tr th {\n",
       "        vertical-align: top;\n",
       "    }\n",
       "\n",
       "    .dataframe thead th {\n",
       "        text-align: right;\n",
       "    }\n",
       "</style>\n",
       "<table border=\"1\" class=\"dataframe\">\n",
       "  <thead>\n",
       "    <tr style=\"text-align: right;\">\n",
       "      <th></th>\n",
       "      <th>user_id</th>\n",
       "      <th>dateString</th>\n",
       "      <th>userDate</th>\n",
       "      <th>isEmployed</th>\n",
       "      <th>isInsider</th>\n",
       "      <th>hasLogin</th>\n",
       "      <th>firstActivity</th>\n",
       "      <th>hasConnect</th>\n",
       "      <th>role</th>\n",
       "      <th>dateHour</th>\n",
       "      <th>...</th>\n",
       "      <th>psyc_C</th>\n",
       "      <th>psyc_E</th>\n",
       "      <th>psyc_A</th>\n",
       "      <th>psyc_N</th>\n",
       "      <th>numMonthsEmployed</th>\n",
       "      <th>sumExtEmailSize</th>\n",
       "      <th>sumExtEmailAttachments</th>\n",
       "      <th>numExtEmails</th>\n",
       "      <th>probLogonUser</th>\n",
       "      <th>changeNumRole</th>\n",
       "    </tr>\n",
       "  </thead>\n",
       "  <tbody>\n",
       "    <tr>\n",
       "      <th>0</th>\n",
       "      <td>MCN0973</td>\n",
       "      <td>20100101</td>\n",
       "      <td>MCN0973_20100101</td>\n",
       "      <td>1</td>\n",
       "      <td>0</td>\n",
       "      <td>NaN</td>\n",
       "      <td>NaN</td>\n",
       "      <td>NaN</td>\n",
       "      <td>ElectricalEngineer</td>\n",
       "      <td>NaN</td>\n",
       "      <td>...</td>\n",
       "      <td>39</td>\n",
       "      <td>41</td>\n",
       "      <td>14</td>\n",
       "      <td>29</td>\n",
       "      <td>18</td>\n",
       "      <td>NaN</td>\n",
       "      <td>NaN</td>\n",
       "      <td>NaN</td>\n",
       "      <td>0.000000</td>\n",
       "      <td>0</td>\n",
       "    </tr>\n",
       "    <tr>\n",
       "      <th>1</th>\n",
       "      <td>MCN0973</td>\n",
       "      <td>20100102</td>\n",
       "      <td>MCN0973_20100102</td>\n",
       "      <td>1</td>\n",
       "      <td>0</td>\n",
       "      <td>NaN</td>\n",
       "      <td>NaN</td>\n",
       "      <td>NaN</td>\n",
       "      <td>ElectricalEngineer</td>\n",
       "      <td>NaN</td>\n",
       "      <td>...</td>\n",
       "      <td>39</td>\n",
       "      <td>41</td>\n",
       "      <td>14</td>\n",
       "      <td>29</td>\n",
       "      <td>18</td>\n",
       "      <td>NaN</td>\n",
       "      <td>NaN</td>\n",
       "      <td>NaN</td>\n",
       "      <td>0.000000</td>\n",
       "      <td>0</td>\n",
       "    </tr>\n",
       "    <tr>\n",
       "      <th>2</th>\n",
       "      <td>MCN0973</td>\n",
       "      <td>20100103</td>\n",
       "      <td>MCN0973_20100103</td>\n",
       "      <td>1</td>\n",
       "      <td>0</td>\n",
       "      <td>NaN</td>\n",
       "      <td>NaN</td>\n",
       "      <td>NaN</td>\n",
       "      <td>ElectricalEngineer</td>\n",
       "      <td>NaN</td>\n",
       "      <td>...</td>\n",
       "      <td>39</td>\n",
       "      <td>41</td>\n",
       "      <td>14</td>\n",
       "      <td>29</td>\n",
       "      <td>18</td>\n",
       "      <td>NaN</td>\n",
       "      <td>NaN</td>\n",
       "      <td>NaN</td>\n",
       "      <td>0.000000</td>\n",
       "      <td>0</td>\n",
       "    </tr>\n",
       "    <tr>\n",
       "      <th>3</th>\n",
       "      <td>MCN0973</td>\n",
       "      <td>20100104</td>\n",
       "      <td>MCN0973_20100104</td>\n",
       "      <td>1</td>\n",
       "      <td>0</td>\n",
       "      <td>1.0</td>\n",
       "      <td>NaN</td>\n",
       "      <td>NaN</td>\n",
       "      <td>ElectricalEngineer</td>\n",
       "      <td>9.0</td>\n",
       "      <td>...</td>\n",
       "      <td>39</td>\n",
       "      <td>41</td>\n",
       "      <td>14</td>\n",
       "      <td>29</td>\n",
       "      <td>18</td>\n",
       "      <td>21124.0</td>\n",
       "      <td>0.0</td>\n",
       "      <td>1.0</td>\n",
       "      <td>0.398942</td>\n",
       "      <td>0</td>\n",
       "    </tr>\n",
       "    <tr>\n",
       "      <th>4</th>\n",
       "      <td>MCN0973</td>\n",
       "      <td>20100105</td>\n",
       "      <td>MCN0973_20100105</td>\n",
       "      <td>1</td>\n",
       "      <td>0</td>\n",
       "      <td>1.0</td>\n",
       "      <td>NaN</td>\n",
       "      <td>NaN</td>\n",
       "      <td>ElectricalEngineer</td>\n",
       "      <td>9.0</td>\n",
       "      <td>...</td>\n",
       "      <td>39</td>\n",
       "      <td>41</td>\n",
       "      <td>14</td>\n",
       "      <td>29</td>\n",
       "      <td>18</td>\n",
       "      <td>NaN</td>\n",
       "      <td>NaN</td>\n",
       "      <td>NaN</td>\n",
       "      <td>0.398942</td>\n",
       "      <td>0</td>\n",
       "    </tr>\n",
       "    <tr>\n",
       "      <th>...</th>\n",
       "      <td>...</td>\n",
       "      <td>...</td>\n",
       "      <td>...</td>\n",
       "      <td>...</td>\n",
       "      <td>...</td>\n",
       "      <td>...</td>\n",
       "      <td>...</td>\n",
       "      <td>...</td>\n",
       "      <td>...</td>\n",
       "      <td>...</td>\n",
       "      <td>...</td>\n",
       "      <td>...</td>\n",
       "      <td>...</td>\n",
       "      <td>...</td>\n",
       "      <td>...</td>\n",
       "      <td>...</td>\n",
       "      <td>...</td>\n",
       "      <td>...</td>\n",
       "      <td>...</td>\n",
       "      <td>...</td>\n",
       "      <td>...</td>\n",
       "    </tr>\n",
       "    <tr>\n",
       "      <th>642975</th>\n",
       "      <td>FPS0900</td>\n",
       "      <td>20110527</td>\n",
       "      <td>FPS0900_20110527</td>\n",
       "      <td>1</td>\n",
       "      <td>0</td>\n",
       "      <td>NaN</td>\n",
       "      <td>NaN</td>\n",
       "      <td>NaN</td>\n",
       "      <td>ComputerProgrammer</td>\n",
       "      <td>NaN</td>\n",
       "      <td>...</td>\n",
       "      <td>48</td>\n",
       "      <td>39</td>\n",
       "      <td>16</td>\n",
       "      <td>30</td>\n",
       "      <td>18</td>\n",
       "      <td>NaN</td>\n",
       "      <td>NaN</td>\n",
       "      <td>NaN</td>\n",
       "      <td>0.000000</td>\n",
       "      <td>1</td>\n",
       "    </tr>\n",
       "    <tr>\n",
       "      <th>642976</th>\n",
       "      <td>FPS0900</td>\n",
       "      <td>20110528</td>\n",
       "      <td>FPS0900_20110528</td>\n",
       "      <td>1</td>\n",
       "      <td>0</td>\n",
       "      <td>NaN</td>\n",
       "      <td>NaN</td>\n",
       "      <td>NaN</td>\n",
       "      <td>ComputerProgrammer</td>\n",
       "      <td>NaN</td>\n",
       "      <td>...</td>\n",
       "      <td>48</td>\n",
       "      <td>39</td>\n",
       "      <td>16</td>\n",
       "      <td>30</td>\n",
       "      <td>18</td>\n",
       "      <td>NaN</td>\n",
       "      <td>NaN</td>\n",
       "      <td>NaN</td>\n",
       "      <td>0.000000</td>\n",
       "      <td>1</td>\n",
       "    </tr>\n",
       "    <tr>\n",
       "      <th>642977</th>\n",
       "      <td>FPS0900</td>\n",
       "      <td>20110529</td>\n",
       "      <td>FPS0900_20110529</td>\n",
       "      <td>1</td>\n",
       "      <td>0</td>\n",
       "      <td>NaN</td>\n",
       "      <td>NaN</td>\n",
       "      <td>NaN</td>\n",
       "      <td>ComputerProgrammer</td>\n",
       "      <td>NaN</td>\n",
       "      <td>...</td>\n",
       "      <td>48</td>\n",
       "      <td>39</td>\n",
       "      <td>16</td>\n",
       "      <td>30</td>\n",
       "      <td>18</td>\n",
       "      <td>NaN</td>\n",
       "      <td>NaN</td>\n",
       "      <td>NaN</td>\n",
       "      <td>0.000000</td>\n",
       "      <td>1</td>\n",
       "    </tr>\n",
       "    <tr>\n",
       "      <th>642978</th>\n",
       "      <td>FPS0900</td>\n",
       "      <td>20110530</td>\n",
       "      <td>FPS0900_20110530</td>\n",
       "      <td>1</td>\n",
       "      <td>0</td>\n",
       "      <td>NaN</td>\n",
       "      <td>NaN</td>\n",
       "      <td>NaN</td>\n",
       "      <td>ComputerProgrammer</td>\n",
       "      <td>NaN</td>\n",
       "      <td>...</td>\n",
       "      <td>48</td>\n",
       "      <td>39</td>\n",
       "      <td>16</td>\n",
       "      <td>30</td>\n",
       "      <td>18</td>\n",
       "      <td>NaN</td>\n",
       "      <td>NaN</td>\n",
       "      <td>NaN</td>\n",
       "      <td>0.000000</td>\n",
       "      <td>1</td>\n",
       "    </tr>\n",
       "    <tr>\n",
       "      <th>642979</th>\n",
       "      <td>FPS0900</td>\n",
       "      <td>20110531</td>\n",
       "      <td>FPS0900_20110531</td>\n",
       "      <td>1</td>\n",
       "      <td>0</td>\n",
       "      <td>NaN</td>\n",
       "      <td>NaN</td>\n",
       "      <td>NaN</td>\n",
       "      <td>ComputerProgrammer</td>\n",
       "      <td>NaN</td>\n",
       "      <td>...</td>\n",
       "      <td>48</td>\n",
       "      <td>39</td>\n",
       "      <td>16</td>\n",
       "      <td>30</td>\n",
       "      <td>18</td>\n",
       "      <td>NaN</td>\n",
       "      <td>NaN</td>\n",
       "      <td>NaN</td>\n",
       "      <td>0.000000</td>\n",
       "      <td>1</td>\n",
       "    </tr>\n",
       "  </tbody>\n",
       "</table>\n",
       "<p>642980 rows × 26 columns</p>\n",
       "</div>"
      ],
      "text/plain": [
       "        user_id dateString          userDate  isEmployed  isInsider  hasLogin  \\\n",
       "0       MCN0973   20100101  MCN0973_20100101           1          0       NaN   \n",
       "1       MCN0973   20100102  MCN0973_20100102           1          0       NaN   \n",
       "2       MCN0973   20100103  MCN0973_20100103           1          0       NaN   \n",
       "3       MCN0973   20100104  MCN0973_20100104           1          0       1.0   \n",
       "4       MCN0973   20100105  MCN0973_20100105           1          0       1.0   \n",
       "...         ...        ...               ...         ...        ...       ...   \n",
       "642975  FPS0900   20110527  FPS0900_20110527           1          0       NaN   \n",
       "642976  FPS0900   20110528  FPS0900_20110528           1          0       NaN   \n",
       "642977  FPS0900   20110529  FPS0900_20110529           1          0       NaN   \n",
       "642978  FPS0900   20110530  FPS0900_20110530           1          0       NaN   \n",
       "642979  FPS0900   20110531  FPS0900_20110531           1          0       NaN   \n",
       "\n",
       "        firstActivity  hasConnect                role  dateHour  ...  psyc_C  \\\n",
       "0                 NaN         NaN  ElectricalEngineer       NaN  ...      39   \n",
       "1                 NaN         NaN  ElectricalEngineer       NaN  ...      39   \n",
       "2                 NaN         NaN  ElectricalEngineer       NaN  ...      39   \n",
       "3                 NaN         NaN  ElectricalEngineer       9.0  ...      39   \n",
       "4                 NaN         NaN  ElectricalEngineer       9.0  ...      39   \n",
       "...               ...         ...                 ...       ...  ...     ...   \n",
       "642975            NaN         NaN  ComputerProgrammer       NaN  ...      48   \n",
       "642976            NaN         NaN  ComputerProgrammer       NaN  ...      48   \n",
       "642977            NaN         NaN  ComputerProgrammer       NaN  ...      48   \n",
       "642978            NaN         NaN  ComputerProgrammer       NaN  ...      48   \n",
       "642979            NaN         NaN  ComputerProgrammer       NaN  ...      48   \n",
       "\n",
       "        psyc_E  psyc_A  psyc_N numMonthsEmployed  sumExtEmailSize  \\\n",
       "0           41      14      29                18              NaN   \n",
       "1           41      14      29                18              NaN   \n",
       "2           41      14      29                18              NaN   \n",
       "3           41      14      29                18          21124.0   \n",
       "4           41      14      29                18              NaN   \n",
       "...        ...     ...     ...               ...              ...   \n",
       "642975      39      16      30                18              NaN   \n",
       "642976      39      16      30                18              NaN   \n",
       "642977      39      16      30                18              NaN   \n",
       "642978      39      16      30                18              NaN   \n",
       "642979      39      16      30                18              NaN   \n",
       "\n",
       "        sumExtEmailAttachments  numExtEmails  probLogonUser  changeNumRole  \n",
       "0                          NaN           NaN       0.000000              0  \n",
       "1                          NaN           NaN       0.000000              0  \n",
       "2                          NaN           NaN       0.000000              0  \n",
       "3                          0.0           1.0       0.398942              0  \n",
       "4                          NaN           NaN       0.398942              0  \n",
       "...                        ...           ...            ...            ...  \n",
       "642975                     NaN           NaN       0.000000              1  \n",
       "642976                     NaN           NaN       0.000000              1  \n",
       "642977                     NaN           NaN       0.000000              1  \n",
       "642978                     NaN           NaN       0.000000              1  \n",
       "642979                     NaN           NaN       0.000000              1  \n",
       "\n",
       "[642980 rows x 26 columns]"
      ]
     },
     "execution_count": 63,
     "metadata": {},
     "output_type": "execute_result"
    }
   ],
   "source": [
    "df_master"
   ]
  },
  {
   "cell_type": "code",
   "execution_count": 8,
   "metadata": {},
   "outputs": [],
   "source": [
    "df_master.rename(columns={'0_y':'dateString','0_x':'user_id'}, inplace=True)"
   ]
  },
  {
   "cell_type": "code",
   "execution_count": 9,
   "metadata": {},
   "outputs": [],
   "source": [
    "df_master['userDate'] = df_master.apply(lambda x: x['user_id'] + '_' + x['dateString'], axis = 1)"
   ]
  },
  {
   "cell_type": "code",
   "execution_count": 10,
   "metadata": {},
   "outputs": [],
   "source": [
    "endDates = df_ldap.groupby('user_id')['date'].max()"
   ]
  },
  {
   "cell_type": "code",
   "execution_count": 11,
   "metadata": {},
   "outputs": [
    {
     "data": {
      "text/plain": [
       "'2011-04'"
      ]
     },
     "execution_count": 11,
     "metadata": {},
     "output_type": "execute_result"
    }
   ],
   "source": [
    "endDates['WCC0009']"
   ]
  },
  {
   "cell_type": "code",
   "execution_count": 12,
   "metadata": {},
   "outputs": [
    {
     "data": {
      "text/plain": [
       "'201001'"
      ]
     },
     "execution_count": 12,
     "metadata": {},
     "output_type": "execute_result"
    }
   ],
   "source": [
    "'20100101'[0:6]"
   ]
  },
  {
   "cell_type": "code",
   "execution_count": 13,
   "metadata": {},
   "outputs": [],
   "source": [
    "def isEmployed(row):\n",
    "    user = row['user_id']\n",
    "    dateString = int(row['dateString'][0:6])\n",
    "    # It is a little of a hack, but comparing -1 from 201012 201100 is still ok.\n",
    "    minusMonth = dateString - 1\n",
    "    if int(endDates[row['user_id']].replace('-','')) >= minusMonth:\n",
    "        return 1\n",
    "    else:\n",
    "        return 0 \n",
    "    "
   ]
  },
  {
   "cell_type": "code",
   "execution_count": 14,
   "metadata": {},
   "outputs": [],
   "source": [
    "df_master['isEmployed'] = df_master.apply(isEmployed, axis=1)"
   ]
  },
  {
   "cell_type": "code",
   "execution_count": 15,
   "metadata": {},
   "outputs": [
    {
     "data": {
      "text/html": [
       "<div>\n",
       "<style scoped>\n",
       "    .dataframe tbody tr th:only-of-type {\n",
       "        vertical-align: middle;\n",
       "    }\n",
       "\n",
       "    .dataframe tbody tr th {\n",
       "        vertical-align: top;\n",
       "    }\n",
       "\n",
       "    .dataframe thead th {\n",
       "        text-align: right;\n",
       "    }\n",
       "</style>\n",
       "<table border=\"1\" class=\"dataframe\">\n",
       "  <thead>\n",
       "    <tr style=\"text-align: right;\">\n",
       "      <th></th>\n",
       "      <th>user_id</th>\n",
       "      <th>dateString</th>\n",
       "      <th>userDate</th>\n",
       "      <th>isEmployed</th>\n",
       "    </tr>\n",
       "  </thead>\n",
       "  <tbody>\n",
       "    <tr>\n",
       "      <th>434199</th>\n",
       "      <td>CCH0959</td>\n",
       "      <td>20100901</td>\n",
       "      <td>CCH0959_20100901</td>\n",
       "      <td>1</td>\n",
       "    </tr>\n",
       "  </tbody>\n",
       "</table>\n",
       "</div>"
      ],
      "text/plain": [
       "        user_id dateString          userDate  isEmployed\n",
       "434199  CCH0959   20100901  CCH0959_20100901           1"
      ]
     },
     "execution_count": 15,
     "metadata": {},
     "output_type": "execute_result"
    }
   ],
   "source": [
    "df_master[(df_master['user_id'] == 'CCH0959') & (df_master['dateString'] == '20100901')]"
   ]
  },
  {
   "cell_type": "code",
   "execution_count": 16,
   "metadata": {},
   "outputs": [],
   "source": [
    "insiders = {'CSF0929':['20100701','20100702','20100703','20100708','20100709','20100714','20100716'], 'CCH0959':['20100802','20100803','20100804','20100805','20100806','20100809',\n",
    "                                                                                                                 '20100810','20100811','20100812','20100813','20100816','20100817','20100818',\n",
    "                                                                                                                 '20100819','20100820','20100823','20100824','20100825','20100826','20100827',\n",
    "                                                                                                                 '20100830','20100831','20100901','20100902','20100903','20100907','20100908',\n",
    "                                                                                                                 '20100909','20100910','20100910','20100913','20100914','20100915','20100916',\n",
    "                                                                                                                 '20100917','20100920','20100921','20100922','20100923','20100924','20100927',\n",
    "                                                                                                                 '20100928','20100929','20100930']}"
   ]
  },
  {
   "cell_type": "code",
   "execution_count": 17,
   "metadata": {},
   "outputs": [],
   "source": [
    "def isInsider(row):\n",
    "    if row['user_id'] in insiders.keys() and row['dateString'] in insiders[row['user_id']]:\n",
    "        return 1\n",
    "    else:\n",
    "        return 0"
   ]
  },
  {
   "cell_type": "code",
   "execution_count": 18,
   "metadata": {},
   "outputs": [],
   "source": [
    "df_master['isInsider'] = df_master.apply(isInsider, axis=1)"
   ]
  },
  {
   "cell_type": "code",
   "execution_count": 19,
   "metadata": {},
   "outputs": [
    {
     "data": {
      "text/html": [
       "<div>\n",
       "<style scoped>\n",
       "    .dataframe tbody tr th:only-of-type {\n",
       "        vertical-align: middle;\n",
       "    }\n",
       "\n",
       "    .dataframe tbody tr th {\n",
       "        vertical-align: top;\n",
       "    }\n",
       "\n",
       "    .dataframe thead th {\n",
       "        text-align: right;\n",
       "    }\n",
       "</style>\n",
       "<table border=\"1\" class=\"dataframe\">\n",
       "  <thead>\n",
       "    <tr style=\"text-align: right;\">\n",
       "      <th></th>\n",
       "      <th>user_id</th>\n",
       "      <th>dateString</th>\n",
       "      <th>userDate</th>\n",
       "      <th>isEmployed</th>\n",
       "      <th>isInsider</th>\n",
       "    </tr>\n",
       "  </thead>\n",
       "  <tbody>\n",
       "    <tr>\n",
       "      <th>44588</th>\n",
       "      <td>CSF0929</td>\n",
       "      <td>20100801</td>\n",
       "      <td>CSF0929_20100801</td>\n",
       "      <td>0</td>\n",
       "      <td>0</td>\n",
       "    </tr>\n",
       "  </tbody>\n",
       "</table>\n",
       "</div>"
      ],
      "text/plain": [
       "       user_id dateString          userDate  isEmployed  isInsider\n",
       "44588  CSF0929   20100801  CSF0929_20100801           0          0"
      ]
     },
     "execution_count": 19,
     "metadata": {},
     "output_type": "execute_result"
    }
   ],
   "source": [
    "df_master[(df_master['user_id'] == 'CSF0929') & (df_master['dateString'] == '20100801')]"
   ]
  },
  {
   "cell_type": "code",
   "execution_count": 20,
   "metadata": {},
   "outputs": [
    {
     "data": {
      "text/plain": [
       "Index(['user_id', 'dateString', 'userDate', 'isEmployed', 'isInsider'], dtype='object')"
      ]
     },
     "execution_count": 20,
     "metadata": {},
     "output_type": "execute_result"
    }
   ],
   "source": [
    "df_master.columns"
   ]
  },
  {
   "cell_type": "code",
   "execution_count": 21,
   "metadata": {},
   "outputs": [
    {
     "ename": "KeyError",
     "evalue": "'probLogonUser'",
     "output_type": "error",
     "traceback": [
      "\u001b[0;31m---------------------------------------------------------------------------\u001b[0m",
      "\u001b[0;31mKeyError\u001b[0m                                  Traceback (most recent call last)",
      "File \u001b[0;32m~/.local/lib/python3.10/site-packages/pandas/core/indexes/base.py:3802\u001b[0m, in \u001b[0;36mIndex.get_loc\u001b[0;34m(self, key, method, tolerance)\u001b[0m\n\u001b[1;32m   3801\u001b[0m \u001b[39mtry\u001b[39;00m:\n\u001b[0;32m-> 3802\u001b[0m     \u001b[39mreturn\u001b[39;00m \u001b[39mself\u001b[39;49m\u001b[39m.\u001b[39;49m_engine\u001b[39m.\u001b[39;49mget_loc(casted_key)\n\u001b[1;32m   3803\u001b[0m \u001b[39mexcept\u001b[39;00m \u001b[39mKeyError\u001b[39;00m \u001b[39mas\u001b[39;00m err:\n",
      "File \u001b[0;32m~/.local/lib/python3.10/site-packages/pandas/_libs/index.pyx:138\u001b[0m, in \u001b[0;36mpandas._libs.index.IndexEngine.get_loc\u001b[0;34m()\u001b[0m\n",
      "File \u001b[0;32m~/.local/lib/python3.10/site-packages/pandas/_libs/index.pyx:165\u001b[0m, in \u001b[0;36mpandas._libs.index.IndexEngine.get_loc\u001b[0;34m()\u001b[0m\n",
      "File \u001b[0;32mpandas/_libs/hashtable_class_helper.pxi:5745\u001b[0m, in \u001b[0;36mpandas._libs.hashtable.PyObjectHashTable.get_item\u001b[0;34m()\u001b[0m\n",
      "File \u001b[0;32mpandas/_libs/hashtable_class_helper.pxi:5753\u001b[0m, in \u001b[0;36mpandas._libs.hashtable.PyObjectHashTable.get_item\u001b[0;34m()\u001b[0m\n",
      "\u001b[0;31mKeyError\u001b[0m: 'probLogonUser'",
      "\nThe above exception was the direct cause of the following exception:\n",
      "\u001b[0;31mKeyError\u001b[0m                                  Traceback (most recent call last)",
      "Cell \u001b[0;32mIn[21], line 2\u001b[0m\n\u001b[1;32m      1\u001b[0m \u001b[39m#df_master[df_master['hasLogin'] > 0][['userDate','user_id','dateHour','probLogonUser']].head(50)\u001b[39;00m\n\u001b[0;32m----> 2\u001b[0m df_master[\u001b[39m'\u001b[39;49m\u001b[39mprobLogonUser\u001b[39;49m\u001b[39m'\u001b[39;49m]\u001b[39m.\u001b[39munique()\n",
      "File \u001b[0;32m~/.local/lib/python3.10/site-packages/pandas/core/frame.py:3807\u001b[0m, in \u001b[0;36mDataFrame.__getitem__\u001b[0;34m(self, key)\u001b[0m\n\u001b[1;32m   3805\u001b[0m \u001b[39mif\u001b[39;00m \u001b[39mself\u001b[39m\u001b[39m.\u001b[39mcolumns\u001b[39m.\u001b[39mnlevels \u001b[39m>\u001b[39m \u001b[39m1\u001b[39m:\n\u001b[1;32m   3806\u001b[0m     \u001b[39mreturn\u001b[39;00m \u001b[39mself\u001b[39m\u001b[39m.\u001b[39m_getitem_multilevel(key)\n\u001b[0;32m-> 3807\u001b[0m indexer \u001b[39m=\u001b[39m \u001b[39mself\u001b[39;49m\u001b[39m.\u001b[39;49mcolumns\u001b[39m.\u001b[39;49mget_loc(key)\n\u001b[1;32m   3808\u001b[0m \u001b[39mif\u001b[39;00m is_integer(indexer):\n\u001b[1;32m   3809\u001b[0m     indexer \u001b[39m=\u001b[39m [indexer]\n",
      "File \u001b[0;32m~/.local/lib/python3.10/site-packages/pandas/core/indexes/base.py:3804\u001b[0m, in \u001b[0;36mIndex.get_loc\u001b[0;34m(self, key, method, tolerance)\u001b[0m\n\u001b[1;32m   3802\u001b[0m     \u001b[39mreturn\u001b[39;00m \u001b[39mself\u001b[39m\u001b[39m.\u001b[39m_engine\u001b[39m.\u001b[39mget_loc(casted_key)\n\u001b[1;32m   3803\u001b[0m \u001b[39mexcept\u001b[39;00m \u001b[39mKeyError\u001b[39;00m \u001b[39mas\u001b[39;00m err:\n\u001b[0;32m-> 3804\u001b[0m     \u001b[39mraise\u001b[39;00m \u001b[39mKeyError\u001b[39;00m(key) \u001b[39mfrom\u001b[39;00m \u001b[39merr\u001b[39;00m\n\u001b[1;32m   3805\u001b[0m \u001b[39mexcept\u001b[39;00m \u001b[39mTypeError\u001b[39;00m:\n\u001b[1;32m   3806\u001b[0m     \u001b[39m# If we have a listlike key, _check_indexing_error will raise\u001b[39;00m\n\u001b[1;32m   3807\u001b[0m     \u001b[39m#  InvalidIndexError. Otherwise we fall through and re-raise\u001b[39;00m\n\u001b[1;32m   3808\u001b[0m     \u001b[39m#  the TypeError.\u001b[39;00m\n\u001b[1;32m   3809\u001b[0m     \u001b[39mself\u001b[39m\u001b[39m.\u001b[39m_check_indexing_error(key)\n",
      "\u001b[0;31mKeyError\u001b[0m: 'probLogonUser'"
     ]
    }
   ],
   "source": [
    "#df_master[df_master['hasLogin'] > 0][['userDate','user_id','dateHour','probLogonUser']].head(50)\n",
    "df_master['probLogonUser'].unique()"
   ]
  },
  {
   "cell_type": "code",
   "execution_count": 22,
   "metadata": {},
   "outputs": [],
   "source": [
    "df_hasLogin = pd.read_pickle('../logon/hasLogins.pkl')\n",
    "\n",
    "df_master = pd.merge(df_master, df_hasLogin, how='left', on='userDate')\n",
    "\n",
    "df_master.rename(columns={'count':'hasLogin'}, inplace=True)"
   ]
  },
  {
   "cell_type": "code",
   "execution_count": 23,
   "metadata": {},
   "outputs": [],
   "source": [
    "df_firstActivity = pd.read_pickle('../device/firstActivity.pkl')\n",
    "\n",
    "df_master = pd.merge(df_master, df_firstActivity[df_firstActivity['activity'] == 'Connect'], how='left', on='userDate')\n",
    "\n",
    "df_master.drop('activity', axis = 1, inplace=True)"
   ]
  },
  {
   "cell_type": "code",
   "execution_count": 24,
   "metadata": {},
   "outputs": [],
   "source": [
    "df_hasConnect = pd.read_pickle('../device/hasConnect.pkl')\n",
    "\n",
    "df_master = pd.merge(df_master, df_hasConnect, how='left', on='userDate')"
   ]
  },
  {
   "cell_type": "code",
   "execution_count": 25,
   "metadata": {},
   "outputs": [],
   "source": [
    "df_userRole = pd.read_pickle('../ldap/userRole.pkl')\n",
    "\n",
    "df_master = pd.merge(df_master, df_userRole, how='left', on='user_id')"
   ]
  },
  {
   "cell_type": "code",
   "execution_count": 27,
   "metadata": {},
   "outputs": [],
   "source": [
    "#this will create duplicate userDate columns\n",
    "df_logonHour = pd.read_pickle('../logon/logonHour.pkl')\n",
    "\n",
    "df_master = pd.merge(df_master, df_logonHour, how='left', on='userDate')"
   ]
  },
  {
   "cell_type": "code",
   "execution_count": 30,
   "metadata": {},
   "outputs": [],
   "source": [
    "df_roleProbHour = pd.read_pickle('../logon/roleProbHour.pkl')\n",
    "\n",
    "def probHour(row):\n",
    "    if row['hasLogin'] > 0:\n",
    "        roleProbHour = df_roleProbHour.loc[row['role'], row['dateHour']]\n",
    "    else:\n",
    "        roleProbHour = 0\n",
    "    \n",
    "    return roleProbHour\n",
    "\n",
    "\n",
    "df_master['probLogonRole'] = df_master.apply(probHour, axis=1)"
   ]
  },
  {
   "cell_type": "code",
   "execution_count": 32,
   "metadata": {},
   "outputs": [],
   "source": [
    "df_urlByuserDate = pd.read_pickle('../http/urlByUserDate.pkl')\n",
    "df_master = pd.merge(df_master, df_urlByuserDate.rename(columns={'count':'webCount'}), how='left', on='userDate')\n",
    "# test for weirdness : df_temp[(df_temp['hasLogin'] == 0) & (df_temp['webCount'] > 0)]\n",
    "# df_temp[(df_temp['hasLogin'] > 0) & (df_temp['webCount'] > 0)]\n",
    "# df_temp[(df_temp['hasLogin'] > 0) & (df_temp['webCount'] > 0)]\n"
   ]
  },
  {
   "attachments": {},
   "cell_type": "markdown",
   "metadata": {},
   "source": [
    "20230304 - added questionable usage"
   ]
  },
  {
   "cell_type": "code",
   "execution_count": 34,
   "metadata": {},
   "outputs": [],
   "source": [
    "df_webQuestionsableUsage = pd.read_pickle('../http/insiderWebCount.pkl')\n",
    "df_master = pd.merge(df_master, df_webQuestionsableUsage.rename(columns={'isInsiderWeb':'webQuestionableUsage'}), how='left', on='userDate')\n",
    "# df_master[(df_master['hasLogin'] > 0) & (df_master['webCount'] > 0)]"
   ]
  },
  {
   "attachments": {},
   "cell_type": "markdown",
   "metadata": {},
   "source": [
    "20230224 - added numPC and psychometric"
   ]
  },
  {
   "cell_type": "code",
   "execution_count": 36,
   "metadata": {},
   "outputs": [],
   "source": [
    "df_numPC = pd.read_pickle('../logon/numPC.pkl').reset_index()\n",
    "df_master = pd.merge(df_master, df_numPC, how='left', on='userDate')\n",
    "#df_test[(df_test['countPC'] > 1) & ~(np.isnan(df_test['hasLogin']))] \n",
    "# may dup hasLogin"
   ]
  },
  {
   "cell_type": "code",
   "execution_count": 38,
   "metadata": {},
   "outputs": [],
   "source": [
    "df_psychometic = pd.read_pickle('../psychometric/psychometic.pkl')\n",
    "df_master = pd.merge(df_master, df_psychometic, how='left', on='user_id')"
   ]
  },
  {
   "cell_type": "code",
   "execution_count": 40,
   "metadata": {},
   "outputs": [],
   "source": [
    "df_numMonthsEmployed = pd.read_pickle('../ldap/numMonthsEmployed.pkl')\n",
    "df_numMonthsEmployed = df_numMonthsEmployed.to_frame().reset_index().rename(columns={'date':'numMonthsEmployed'})\n",
    "#df_numMonthsEmployed[df_numMonthsEmployed['numMonthsEmployed'] != 18]\n",
    "df_master = pd.merge(df_master, df_numMonthsEmployed, how='left', on='user_id')"
   ]
  },
  {
   "cell_type": "code",
   "execution_count": 41,
   "metadata": {},
   "outputs": [],
   "source": [
    "df_emailCounts = pd.read_pickle('../email/emailCounts.pkl')\n",
    "df_master = pd.merge(df_master, df_emailCounts, how='left', on='userDate')"
   ]
  },
  {
   "cell_type": "code",
   "execution_count": 42,
   "metadata": {},
   "outputs": [],
   "source": [
    "df_userProbHour = pd.read_pickle('../logon/userProbHour.pkl')\n",
    "\n",
    "def probUser(row):\n",
    "    if row['hasLogin'] > 0:\n",
    "        probLogonUser = df_userProbHour.loc[row['user_id'], row['dateHour']]\n",
    "    else:\n",
    "        probLogonUser = 0\n",
    "    \n",
    "    return probLogonUser\n",
    "\n",
    "df_master['probLogonUser'] = df_master.apply(probUser, axis=1)"
   ]
  },
  {
   "cell_type": "code",
   "execution_count": 58,
   "metadata": {},
   "outputs": [],
   "source": [
    "df_changeRoles = pd.read_pickle('../ldap/changeRoles.pkl')\n",
    "df_changeRoles = df_changeRoles.set_index('dateString')\n",
    "\n",
    "def changeInRoles(row):\n",
    "    changeInRole = df_changeRoles.loc[row['dateString'],row['role']]\n",
    "    return changeInRole\n",
    "\n",
    "df_master['changeNumRole'] = df_master.apply(changeInRoles, axis=1)\n",
    "# test : df_master[(df_master['changeNumRole'] > 0 ) & (df_master['role'] == \"AdministrativeAssistant\")]"
   ]
  },
  {
   "cell_type": "code",
   "execution_count": null,
   "metadata": {},
   "outputs": [],
   "source": [
    "#not longer needed - note on num logins\n",
    "#df_master.drop_duplicates(inplace=True)"
   ]
  },
  {
   "cell_type": "code",
   "execution_count": 64,
   "metadata": {},
   "outputs": [],
   "source": [
    "df_master.to_parquet('./master.parquet')"
   ]
  },
  {
   "cell_type": "code",
   "execution_count": 44,
   "metadata": {},
   "outputs": [
    {
     "ename": "FileNotFoundError",
     "evalue": "[Errno 2] No such file or directory: './master.parquet'",
     "output_type": "error",
     "traceback": [
      "\u001b[0;31m---------------------------------------------------------------------------\u001b[0m",
      "\u001b[0;31mFileNotFoundError\u001b[0m                         Traceback (most recent call last)",
      "Cell \u001b[0;32mIn[44], line 1\u001b[0m\n\u001b[0;32m----> 1\u001b[0m df_master \u001b[39m=\u001b[39m pd\u001b[39m.\u001b[39;49mread_parquet(\u001b[39m'\u001b[39;49m\u001b[39m./master.parquet\u001b[39;49m\u001b[39m'\u001b[39;49m)\n",
      "File \u001b[0;32m~/.local/lib/python3.10/site-packages/pandas/io/parquet.py:503\u001b[0m, in \u001b[0;36mread_parquet\u001b[0;34m(path, engine, columns, storage_options, use_nullable_dtypes, **kwargs)\u001b[0m\n\u001b[1;32m    456\u001b[0m \u001b[39m\u001b[39m\u001b[39m\"\"\"\u001b[39;00m\n\u001b[1;32m    457\u001b[0m \u001b[39mLoad a parquet object from the file path, returning a DataFrame.\u001b[39;00m\n\u001b[1;32m    458\u001b[0m \n\u001b[0;32m   (...)\u001b[0m\n\u001b[1;32m    499\u001b[0m \u001b[39mDataFrame\u001b[39;00m\n\u001b[1;32m    500\u001b[0m \u001b[39m\"\"\"\u001b[39;00m\n\u001b[1;32m    501\u001b[0m impl \u001b[39m=\u001b[39m get_engine(engine)\n\u001b[0;32m--> 503\u001b[0m \u001b[39mreturn\u001b[39;00m impl\u001b[39m.\u001b[39;49mread(\n\u001b[1;32m    504\u001b[0m     path,\n\u001b[1;32m    505\u001b[0m     columns\u001b[39m=\u001b[39;49mcolumns,\n\u001b[1;32m    506\u001b[0m     storage_options\u001b[39m=\u001b[39;49mstorage_options,\n\u001b[1;32m    507\u001b[0m     use_nullable_dtypes\u001b[39m=\u001b[39;49muse_nullable_dtypes,\n\u001b[1;32m    508\u001b[0m     \u001b[39m*\u001b[39;49m\u001b[39m*\u001b[39;49mkwargs,\n\u001b[1;32m    509\u001b[0m )\n",
      "File \u001b[0;32m~/.local/lib/python3.10/site-packages/pandas/io/parquet.py:244\u001b[0m, in \u001b[0;36mPyArrowImpl.read\u001b[0;34m(self, path, columns, use_nullable_dtypes, storage_options, **kwargs)\u001b[0m\n\u001b[1;32m    241\u001b[0m \u001b[39mif\u001b[39;00m manager \u001b[39m==\u001b[39m \u001b[39m\"\u001b[39m\u001b[39marray\u001b[39m\u001b[39m\"\u001b[39m:\n\u001b[1;32m    242\u001b[0m     to_pandas_kwargs[\u001b[39m\"\u001b[39m\u001b[39msplit_blocks\u001b[39m\u001b[39m\"\u001b[39m] \u001b[39m=\u001b[39m \u001b[39mTrue\u001b[39;00m  \u001b[39m# type: ignore[assignment]\u001b[39;00m\n\u001b[0;32m--> 244\u001b[0m path_or_handle, handles, kwargs[\u001b[39m\"\u001b[39m\u001b[39mfilesystem\u001b[39m\u001b[39m\"\u001b[39m] \u001b[39m=\u001b[39m _get_path_or_handle(\n\u001b[1;32m    245\u001b[0m     path,\n\u001b[1;32m    246\u001b[0m     kwargs\u001b[39m.\u001b[39;49mpop(\u001b[39m\"\u001b[39;49m\u001b[39mfilesystem\u001b[39;49m\u001b[39m\"\u001b[39;49m, \u001b[39mNone\u001b[39;49;00m),\n\u001b[1;32m    247\u001b[0m     storage_options\u001b[39m=\u001b[39;49mstorage_options,\n\u001b[1;32m    248\u001b[0m     mode\u001b[39m=\u001b[39;49m\u001b[39m\"\u001b[39;49m\u001b[39mrb\u001b[39;49m\u001b[39m\"\u001b[39;49m,\n\u001b[1;32m    249\u001b[0m )\n\u001b[1;32m    250\u001b[0m \u001b[39mtry\u001b[39;00m:\n\u001b[1;32m    251\u001b[0m     result \u001b[39m=\u001b[39m \u001b[39mself\u001b[39m\u001b[39m.\u001b[39mapi\u001b[39m.\u001b[39mparquet\u001b[39m.\u001b[39mread_table(\n\u001b[1;32m    252\u001b[0m         path_or_handle, columns\u001b[39m=\u001b[39mcolumns, \u001b[39m*\u001b[39m\u001b[39m*\u001b[39mkwargs\n\u001b[1;32m    253\u001b[0m     )\u001b[39m.\u001b[39mto_pandas(\u001b[39m*\u001b[39m\u001b[39m*\u001b[39mto_pandas_kwargs)\n",
      "File \u001b[0;32m~/.local/lib/python3.10/site-packages/pandas/io/parquet.py:102\u001b[0m, in \u001b[0;36m_get_path_or_handle\u001b[0;34m(path, fs, storage_options, mode, is_dir)\u001b[0m\n\u001b[1;32m     92\u001b[0m handles \u001b[39m=\u001b[39m \u001b[39mNone\u001b[39;00m\n\u001b[1;32m     93\u001b[0m \u001b[39mif\u001b[39;00m (\n\u001b[1;32m     94\u001b[0m     \u001b[39mnot\u001b[39;00m fs\n\u001b[1;32m     95\u001b[0m     \u001b[39mand\u001b[39;00m \u001b[39mnot\u001b[39;00m is_dir\n\u001b[0;32m   (...)\u001b[0m\n\u001b[1;32m    100\u001b[0m     \u001b[39m# fsspec resources can also point to directories\u001b[39;00m\n\u001b[1;32m    101\u001b[0m     \u001b[39m# this branch is used for example when reading from non-fsspec URLs\u001b[39;00m\n\u001b[0;32m--> 102\u001b[0m     handles \u001b[39m=\u001b[39m get_handle(\n\u001b[1;32m    103\u001b[0m         path_or_handle, mode, is_text\u001b[39m=\u001b[39;49m\u001b[39mFalse\u001b[39;49;00m, storage_options\u001b[39m=\u001b[39;49mstorage_options\n\u001b[1;32m    104\u001b[0m     )\n\u001b[1;32m    105\u001b[0m     fs \u001b[39m=\u001b[39m \u001b[39mNone\u001b[39;00m\n\u001b[1;32m    106\u001b[0m     path_or_handle \u001b[39m=\u001b[39m handles\u001b[39m.\u001b[39mhandle\n",
      "File \u001b[0;32m~/.local/lib/python3.10/site-packages/pandas/io/common.py:865\u001b[0m, in \u001b[0;36mget_handle\u001b[0;34m(path_or_buf, mode, encoding, compression, memory_map, is_text, errors, storage_options)\u001b[0m\n\u001b[1;32m    856\u001b[0m         handle \u001b[39m=\u001b[39m \u001b[39mopen\u001b[39m(\n\u001b[1;32m    857\u001b[0m             handle,\n\u001b[1;32m    858\u001b[0m             ioargs\u001b[39m.\u001b[39mmode,\n\u001b[0;32m   (...)\u001b[0m\n\u001b[1;32m    861\u001b[0m             newline\u001b[39m=\u001b[39m\u001b[39m\"\u001b[39m\u001b[39m\"\u001b[39m,\n\u001b[1;32m    862\u001b[0m         )\n\u001b[1;32m    863\u001b[0m     \u001b[39melse\u001b[39;00m:\n\u001b[1;32m    864\u001b[0m         \u001b[39m# Binary mode\u001b[39;00m\n\u001b[0;32m--> 865\u001b[0m         handle \u001b[39m=\u001b[39m \u001b[39mopen\u001b[39;49m(handle, ioargs\u001b[39m.\u001b[39;49mmode)\n\u001b[1;32m    866\u001b[0m     handles\u001b[39m.\u001b[39mappend(handle)\n\u001b[1;32m    868\u001b[0m \u001b[39m# Convert BytesIO or file objects passed with an encoding\u001b[39;00m\n",
      "\u001b[0;31mFileNotFoundError\u001b[0m: [Errno 2] No such file or directory: './master.parquet'"
     ]
    }
   ],
   "source": [
    "df_master = pd.read_parquet('./master.parquet')"
   ]
  },
  {
   "cell_type": "code",
   "execution_count": 46,
   "metadata": {},
   "outputs": [
    {
     "data": {
      "text/plain": [
       "Index(['user_id', 'dateString', 'userDate', 'isEmployed', 'isInsider',\n",
       "       'hasLogin', 'firstActivity', 'hasConnect', 'role', 'dateHour',\n",
       "       'probLogonRole', 'webCount', 'webQuestionableUsage', 'countPC',\n",
       "       'employee_name', 'psyc_O', 'psyc_C', 'psyc_E', 'psyc_A', 'psyc_N',\n",
       "       'numMonthsEmployed', 'sumExtEmailSize', 'sumExtEmailAttachments',\n",
       "       'numExtEmails', 'probLogonUser'],\n",
       "      dtype='object')"
      ]
     },
     "execution_count": 46,
     "metadata": {},
     "output_type": "execute_result"
    }
   ],
   "source": [
    "df_master.columns"
   ]
  },
  {
   "cell_type": "code",
   "execution_count": null,
   "metadata": {},
   "outputs": [],
   "source": [
    "# no longer needed switch to parquet\n",
    "#df_master.to_pickle('./master.pkl')"
   ]
  },
  {
   "cell_type": "code",
   "execution_count": null,
   "metadata": {},
   "outputs": [],
   "source": [
    "# no longer needed switch to parquet\n",
    "#df_master = pd.read_pickle('./master.pkl')"
   ]
  },
  {
   "cell_type": "code",
   "execution_count": 47,
   "metadata": {},
   "outputs": [
    {
     "data": {
      "text/html": [
       "<div>\n",
       "<style scoped>\n",
       "    .dataframe tbody tr th:only-of-type {\n",
       "        vertical-align: middle;\n",
       "    }\n",
       "\n",
       "    .dataframe tbody tr th {\n",
       "        vertical-align: top;\n",
       "    }\n",
       "\n",
       "    .dataframe thead th {\n",
       "        text-align: right;\n",
       "    }\n",
       "</style>\n",
       "<table border=\"1\" class=\"dataframe\">\n",
       "  <thead>\n",
       "    <tr style=\"text-align: right;\">\n",
       "      <th></th>\n",
       "      <th>dateString</th>\n",
       "      <th>userDate</th>\n",
       "    </tr>\n",
       "  </thead>\n",
       "  <tbody>\n",
       "    <tr>\n",
       "      <th>0</th>\n",
       "      <td>20100101</td>\n",
       "      <td>MCN0973_20100101</td>\n",
       "    </tr>\n",
       "    <tr>\n",
       "      <th>1</th>\n",
       "      <td>20100102</td>\n",
       "      <td>MCN0973_20100102</td>\n",
       "    </tr>\n",
       "    <tr>\n",
       "      <th>2</th>\n",
       "      <td>20100103</td>\n",
       "      <td>MCN0973_20100103</td>\n",
       "    </tr>\n",
       "    <tr>\n",
       "      <th>3</th>\n",
       "      <td>20100104</td>\n",
       "      <td>MCN0973_20100104</td>\n",
       "    </tr>\n",
       "    <tr>\n",
       "      <th>4</th>\n",
       "      <td>20100105</td>\n",
       "      <td>MCN0973_20100105</td>\n",
       "    </tr>\n",
       "    <tr>\n",
       "      <th>...</th>\n",
       "      <td>...</td>\n",
       "      <td>...</td>\n",
       "    </tr>\n",
       "    <tr>\n",
       "      <th>642975</th>\n",
       "      <td>20110527</td>\n",
       "      <td>FPS0900_20110527</td>\n",
       "    </tr>\n",
       "    <tr>\n",
       "      <th>642976</th>\n",
       "      <td>20110528</td>\n",
       "      <td>FPS0900_20110528</td>\n",
       "    </tr>\n",
       "    <tr>\n",
       "      <th>642977</th>\n",
       "      <td>20110529</td>\n",
       "      <td>FPS0900_20110529</td>\n",
       "    </tr>\n",
       "    <tr>\n",
       "      <th>642978</th>\n",
       "      <td>20110530</td>\n",
       "      <td>FPS0900_20110530</td>\n",
       "    </tr>\n",
       "    <tr>\n",
       "      <th>642979</th>\n",
       "      <td>20110531</td>\n",
       "      <td>FPS0900_20110531</td>\n",
       "    </tr>\n",
       "  </tbody>\n",
       "</table>\n",
       "<p>642980 rows × 2 columns</p>\n",
       "</div>"
      ],
      "text/plain": [
       "       dateString          userDate\n",
       "0        20100101  MCN0973_20100101\n",
       "1        20100102  MCN0973_20100102\n",
       "2        20100103  MCN0973_20100103\n",
       "3        20100104  MCN0973_20100104\n",
       "4        20100105  MCN0973_20100105\n",
       "...           ...               ...\n",
       "642975   20110527  FPS0900_20110527\n",
       "642976   20110528  FPS0900_20110528\n",
       "642977   20110529  FPS0900_20110529\n",
       "642978   20110530  FPS0900_20110530\n",
       "642979   20110531  FPS0900_20110531\n",
       "\n",
       "[642980 rows x 2 columns]"
      ]
     },
     "execution_count": 47,
     "metadata": {},
     "output_type": "execute_result"
    }
   ],
   "source": [
    "df_master[['dateString', 'userDate']]"
   ]
  }
 ],
 "metadata": {
  "kernelspec": {
   "display_name": ".venv",
   "language": "python",
   "name": "python3"
  },
  "language_info": {
   "codemirror_mode": {
    "name": "ipython",
    "version": 3
   },
   "file_extension": ".py",
   "mimetype": "text/x-python",
   "name": "python",
   "nbconvert_exporter": "python",
   "pygments_lexer": "ipython3",
   "version": "3.10.6"
  },
  "orig_nbformat": 4,
  "vscode": {
   "interpreter": {
    "hash": "59a61050de5602df89d115e2a8b106731378e82c33a23b198cb5069ccb3357e6"
   }
  }
 },
 "nbformat": 4,
 "nbformat_minor": 2
}
