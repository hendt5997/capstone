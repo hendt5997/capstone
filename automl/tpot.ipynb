{
 "cells": [
  {
   "cell_type": "code",
   "execution_count": 1,
   "metadata": {},
   "outputs": [
    {
     "name": "stderr",
     "output_type": "stream",
     "text": [
      "/home/vzb403/.local/lib/python3.10/site-packages/tpot/builtins/__init__.py:36: UserWarning: Warning: optional dependency `torch` is not available. - skipping import of NN models.\n",
      "  warnings.warn(\"Warning: optional dependency `torch` is not available. - skipping import of NN models.\")\n"
     ]
    }
   ],
   "source": [
    "from tpot import TPOTClassifier\n",
    "import pandas as pd\n",
    "import sklearn.model_selection"
   ]
  },
  {
   "cell_type": "code",
   "execution_count": null,
   "metadata": {},
   "outputs": [],
   "source": [
    "%pip install torch"
   ]
  },
  {
   "cell_type": "code",
   "execution_count": 2,
   "metadata": {},
   "outputs": [],
   "source": [
    "df_master = pd.read_parquet('../master/master.parquet')"
   ]
  },
  {
   "cell_type": "code",
   "execution_count": 3,
   "metadata": {},
   "outputs": [],
   "source": [
    "for colToStd in ['webCount', 'webQuestionableUsage','numExtEmails','sumExtEmailAttachments','sumExtEmailSize']:\n",
    "    df_roleStd = df_master.groupby('role').apply(lambda x: (x[colToStd] - x[colToStd].mean())/x[colToStd].std()).to_frame()\\\n",
    "    .reset_index(level=0).drop('role', axis=1).rename(columns={colToStd:colToStd+'RoleStd'})\n",
    "    df_master = df_master.join(df_roleStd)"
   ]
  },
  {
   "cell_type": "code",
   "execution_count": 4,
   "metadata": {},
   "outputs": [],
   "source": [
    "for colToStd in ['webCount', 'webQuestionableUsage','numExtEmails','sumExtEmailAttachments','sumExtEmailSize']:\n",
    "    df_roleStd = df_master.groupby('user_id').apply(lambda x: (x[colToStd] - x[colToStd].mean())/x[colToStd].std()).to_frame()\\\n",
    "    .reset_index(level=0).drop('user_id', axis=1).rename(columns={colToStd:colToStd+'UserStd'})\n",
    "    df_master = df_master.join(df_roleStd)"
   ]
  },
  {
   "cell_type": "code",
   "execution_count": 5,
   "metadata": {},
   "outputs": [],
   "source": [
    "df_master = df_master.fillna(0)\n",
    "y=df_master['isInsider']\n",
    "X = df_master.drop(['isInsider','user_id', 'dateString', 'userDate', 'dateHour','employee_name','role'], axis=1)"
   ]
  },
  {
   "cell_type": "code",
   "execution_count": 6,
   "metadata": {},
   "outputs": [
    {
     "data": {
      "text/plain": [
       "Index(['isEmployed', 'hasLogin', 'firstActivity', 'hasConnect',\n",
       "       'probLogonRole', 'webCount', 'countPC', 'psyc_O', 'psyc_C', 'psyc_E',\n",
       "       'psyc_A', 'psyc_N', 'numMonthsEmployed', 'sumExtEmailSize',\n",
       "       'sumExtEmailAttachments', 'numExtEmails', 'probLogonUser',\n",
       "       'webQuestionableUsage', 'webCountRoleStd',\n",
       "       'webQuestionableUsageRoleStd', 'numExtEmailsRoleStd',\n",
       "       'sumExtEmailAttachmentsRoleStd', 'sumExtEmailSizeRoleStd',\n",
       "       'webCountUserStd', 'webQuestionableUsageUserStd', 'numExtEmailsUserStd',\n",
       "       'sumExtEmailAttachmentsUserStd', 'sumExtEmailSizeUserStd'],\n",
       "      dtype='object')"
      ]
     },
     "execution_count": 6,
     "metadata": {},
     "output_type": "execute_result"
    }
   ],
   "source": [
    "X.columns"
   ]
  },
  {
   "cell_type": "code",
   "execution_count": 9,
   "metadata": {},
   "outputs": [
    {
     "data": {
      "text/plain": [
       "isEmployed                       1.000000e+00\n",
       "hasLogin                         2.000000e+00\n",
       "firstActivity                    0.000000e+00\n",
       "hasConnect                       0.000000e+00\n",
       "probLogonRole                    4.081745e-02\n",
       "webCount                         0.000000e+00\n",
       "countPC                          2.000000e+00\n",
       "psyc_O                           2.200000e+01\n",
       "psyc_C                           3.300000e+01\n",
       "psyc_E                           2.000000e+01\n",
       "psyc_A                           1.300000e+01\n",
       "psyc_N                           2.500000e+01\n",
       "numMonthsEmployed                5.000000e+00\n",
       "sumExtEmailSize                  0.000000e+00\n",
       "sumExtEmailAttachments           0.000000e+00\n",
       "numExtEmails                     0.000000e+00\n",
       "probLogonUser                    6.947473e-07\n",
       "webQuestionableUsage             0.000000e+00\n",
       "webCountRoleStd                  0.000000e+00\n",
       "webQuestionableUsageRoleStd      0.000000e+00\n",
       "numExtEmailsRoleStd              0.000000e+00\n",
       "sumExtEmailAttachmentsRoleStd    0.000000e+00\n",
       "sumExtEmailSizeRoleStd           0.000000e+00\n",
       "webCountUserStd                  0.000000e+00\n",
       "webQuestionableUsageUserStd      0.000000e+00\n",
       "numExtEmailsUserStd              0.000000e+00\n",
       "sumExtEmailAttachmentsUserStd    0.000000e+00\n",
       "sumExtEmailSizeUserStd           0.000000e+00\n",
       "Name: 45455, dtype: float64"
      ]
     },
     "execution_count": 9,
     "metadata": {},
     "output_type": "execute_result"
    }
   ],
   "source": [
    "X.iloc[45455]"
   ]
  },
  {
   "cell_type": "code",
   "execution_count": 7,
   "metadata": {},
   "outputs": [],
   "source": [
    "X_train, X_test, y_train, y_test = sklearn.model_selection.train_test_split(X, y, random_state=42, stratify=y)"
   ]
  },
  {
   "cell_type": "code",
   "execution_count": 10,
   "metadata": {},
   "outputs": [
    {
     "data": {
      "application/vnd.jupyter.widget-view+json": {
       "model_id": "f05451c9a5864d508058c7d882b439ec",
       "version_major": 2,
       "version_minor": 0
      },
      "text/plain": [
       "Optimization Progress:   0%|          | 0/300 [00:00<?, ?pipeline/s]"
      ]
     },
     "metadata": {},
     "output_type": "display_data"
    },
    {
     "name": "stderr",
     "output_type": "stream",
     "text": [
      "/home/vzb403/.local/lib/python3.10/site-packages/tpot/builtins/__init__.py:36: UserWarning: Warning: optional dependency `torch` is not available. - skipping import of NN models.\n",
      "  warnings.warn(\"Warning: optional dependency `torch` is not available. - skipping import of NN models.\")\n",
      "/home/vzb403/.local/lib/python3.10/site-packages/tpot/builtins/__init__.py:36: UserWarning: Warning: optional dependency `torch` is not available. - skipping import of NN models.\n",
      "  warnings.warn(\"Warning: optional dependency `torch` is not available. - skipping import of NN models.\")\n",
      "/home/vzb403/.local/lib/python3.10/site-packages/tpot/builtins/__init__.py:36: UserWarning: Warning: optional dependency `torch` is not available. - skipping import of NN models.\n",
      "  warnings.warn(\"Warning: optional dependency `torch` is not available. - skipping import of NN models.\")\n",
      "/home/vzb403/.local/lib/python3.10/site-packages/tpot/builtins/__init__.py:36: UserWarning: Warning: optional dependency `torch` is not available. - skipping import of NN models.\n",
      "  warnings.warn(\"Warning: optional dependency `torch` is not available. - skipping import of NN models.\")\n",
      "/home/vzb403/.local/lib/python3.10/site-packages/tpot/builtins/__init__.py:36: UserWarning: Warning: optional dependency `torch` is not available. - skipping import of NN models.\n",
      "  warnings.warn(\"Warning: optional dependency `torch` is not available. - skipping import of NN models.\")\n",
      "/home/vzb403/.local/lib/python3.10/site-packages/tpot/builtins/__init__.py:36: UserWarning: Warning: optional dependency `torch` is not available. - skipping import of NN models.\n",
      "  warnings.warn(\"Warning: optional dependency `torch` is not available. - skipping import of NN models.\")\n",
      "/home/vzb403/.local/lib/python3.10/site-packages/tpot/builtins/__init__.py:36: UserWarning: Warning: optional dependency `torch` is not available. - skipping import of NN models.\n",
      "  warnings.warn(\"Warning: optional dependency `torch` is not available. - skipping import of NN models.\")\n",
      "/home/vzb403/.local/lib/python3.10/site-packages/tpot/builtins/__init__.py:36: UserWarning: Warning: optional dependency `torch` is not available. - skipping import of NN models.\n",
      "  warnings.warn(\"Warning: optional dependency `torch` is not available. - skipping import of NN models.\")\n",
      "/home/vzb403/.local/lib/python3.10/site-packages/tpot/builtins/__init__.py:36: UserWarning: Warning: optional dependency `torch` is not available. - skipping import of NN models.\n",
      "  warnings.warn(\"Warning: optional dependency `torch` is not available. - skipping import of NN models.\")\n",
      "/home/vzb403/.local/lib/python3.10/site-packages/tpot/builtins/__init__.py:36: UserWarning: Warning: optional dependency `torch` is not available. - skipping import of NN models.\n",
      "  warnings.warn(\"Warning: optional dependency `torch` is not available. - skipping import of NN models.\")\n",
      "/home/vzb403/.local/lib/python3.10/site-packages/tpot/builtins/__init__.py:36: UserWarning: Warning: optional dependency `torch` is not available. - skipping import of NN models.\n",
      "  warnings.warn(\"Warning: optional dependency `torch` is not available. - skipping import of NN models.\")\n",
      "/home/vzb403/.local/lib/python3.10/site-packages/tpot/builtins/__init__.py:36: UserWarning: Warning: optional dependency `torch` is not available. - skipping import of NN models.\n",
      "  warnings.warn(\"Warning: optional dependency `torch` is not available. - skipping import of NN models.\")\n",
      "/home/vzb403/.local/lib/python3.10/site-packages/tpot/builtins/__init__.py:36: UserWarning: Warning: optional dependency `torch` is not available. - skipping import of NN models.\n",
      "  warnings.warn(\"Warning: optional dependency `torch` is not available. - skipping import of NN models.\")\n",
      "/home/vzb403/.local/lib/python3.10/site-packages/tpot/builtins/__init__.py:36: UserWarning: Warning: optional dependency `torch` is not available. - skipping import of NN models.\n",
      "  warnings.warn(\"Warning: optional dependency `torch` is not available. - skipping import of NN models.\")\n",
      "/home/vzb403/.local/lib/python3.10/site-packages/tpot/builtins/__init__.py:36: UserWarning: Warning: optional dependency `torch` is not available. - skipping import of NN models.\n",
      "  warnings.warn(\"Warning: optional dependency `torch` is not available. - skipping import of NN models.\")\n",
      "/home/vzb403/.local/lib/python3.10/site-packages/tpot/builtins/__init__.py:36: UserWarning: Warning: optional dependency `torch` is not available. - skipping import of NN models.\n",
      "  warnings.warn(\"Warning: optional dependency `torch` is not available. - skipping import of NN models.\")\n",
      "/home/vzb403/.local/lib/python3.10/site-packages/tpot/builtins/__init__.py:36: UserWarning: Warning: optional dependency `torch` is not available. - skipping import of NN models.\n",
      "  warnings.warn(\"Warning: optional dependency `torch` is not available. - skipping import of NN models.\")\n",
      "/home/vzb403/.local/lib/python3.10/site-packages/tpot/builtins/__init__.py:36: UserWarning: Warning: optional dependency `torch` is not available. - skipping import of NN models.\n",
      "  warnings.warn(\"Warning: optional dependency `torch` is not available. - skipping import of NN models.\")\n",
      "/home/vzb403/.local/lib/python3.10/site-packages/tpot/builtins/__init__.py:36: UserWarning: Warning: optional dependency `torch` is not available. - skipping import of NN models.\n",
      "  warnings.warn(\"Warning: optional dependency `torch` is not available. - skipping import of NN models.\")\n",
      "/home/vzb403/.local/lib/python3.10/site-packages/tpot/builtins/__init__.py:36: UserWarning: Warning: optional dependency `torch` is not available. - skipping import of NN models.\n",
      "  warnings.warn(\"Warning: optional dependency `torch` is not available. - skipping import of NN models.\")\n",
      "/home/vzb403/.local/lib/python3.10/site-packages/tpot/builtins/__init__.py:36: UserWarning: Warning: optional dependency `torch` is not available. - skipping import of NN models.\n",
      "  warnings.warn(\"Warning: optional dependency `torch` is not available. - skipping import of NN models.\")\n",
      "/home/vzb403/.local/lib/python3.10/site-packages/tpot/builtins/__init__.py:36: UserWarning: Warning: optional dependency `torch` is not available. - skipping import of NN models.\n",
      "  warnings.warn(\"Warning: optional dependency `torch` is not available. - skipping import of NN models.\")\n",
      "/home/vzb403/.local/lib/python3.10/site-packages/tpot/builtins/__init__.py:36: UserWarning: Warning: optional dependency `torch` is not available. - skipping import of NN models.\n",
      "  warnings.warn(\"Warning: optional dependency `torch` is not available. - skipping import of NN models.\")\n",
      "/home/vzb403/.local/lib/python3.10/site-packages/tpot/builtins/__init__.py:36: UserWarning: Warning: optional dependency `torch` is not available. - skipping import of NN models.\n",
      "  warnings.warn(\"Warning: optional dependency `torch` is not available. - skipping import of NN models.\")\n"
     ]
    }
   ],
   "source": [
    "tpot = TPOTClassifier(generations=5, \n",
    "                      population_size=50, \n",
    "                      verbosity=2,\n",
    "                      cv=5,\n",
    "                      n_jobs=-1,\n",
    "                      scoring='f1_micro')\n",
    "\n",
    "tpot.fit(X_train, y_train)"
   ]
  },
  {
   "cell_type": "code",
   "execution_count": null,
   "metadata": {},
   "outputs": [],
   "source": [
    "for i, individual in enumerate(sorted(tpot.evaluated_individuals_)):\n",
    "    print(individual)"
   ]
  }
 ],
 "metadata": {
  "kernelspec": {
   "display_name": "Python 3",
   "language": "python",
   "name": "python3"
  },
  "language_info": {
   "codemirror_mode": {
    "name": "ipython",
    "version": 3
   },
   "file_extension": ".py",
   "mimetype": "text/x-python",
   "name": "python",
   "nbconvert_exporter": "python",
   "pygments_lexer": "ipython3",
   "version": "3.10.6"
  },
  "orig_nbformat": 4
 },
 "nbformat": 4,
 "nbformat_minor": 2
}
