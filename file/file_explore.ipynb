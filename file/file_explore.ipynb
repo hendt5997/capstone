{
 "cells": [
  {
   "cell_type": "code",
   "execution_count": 1,
   "metadata": {},
   "outputs": [],
   "source": [
    "import pandas as pd"
   ]
  },
  {
   "cell_type": "code",
   "execution_count": 2,
   "metadata": {},
   "outputs": [],
   "source": [
    "df_file = pd.read_csv('file.csv')"
   ]
  },
  {
   "cell_type": "code",
   "execution_count": 4,
   "metadata": {},
   "outputs": [
    {
     "data": {
      "text/html": [
       "<div>\n",
       "<style scoped>\n",
       "    .dataframe tbody tr th:only-of-type {\n",
       "        vertical-align: middle;\n",
       "    }\n",
       "\n",
       "    .dataframe tbody tr th {\n",
       "        vertical-align: top;\n",
       "    }\n",
       "\n",
       "    .dataframe thead th {\n",
       "        text-align: right;\n",
       "    }\n",
       "</style>\n",
       "<table border=\"1\" class=\"dataframe\">\n",
       "  <thead>\n",
       "    <tr style=\"text-align: right;\">\n",
       "      <th></th>\n",
       "      <th>id</th>\n",
       "      <th>date</th>\n",
       "      <th>user</th>\n",
       "      <th>pc</th>\n",
       "      <th>filename</th>\n",
       "      <th>content</th>\n",
       "    </tr>\n",
       "  </thead>\n",
       "  <tbody>\n",
       "    <tr>\n",
       "      <th>count</th>\n",
       "      <td>457520</td>\n",
       "      <td>457520</td>\n",
       "      <td>457520</td>\n",
       "      <td>457520</td>\n",
       "      <td>457520</td>\n",
       "      <td>457520</td>\n",
       "    </tr>\n",
       "    <tr>\n",
       "      <th>unique</th>\n",
       "      <td>457520</td>\n",
       "      <td>449720</td>\n",
       "      <td>218</td>\n",
       "      <td>215</td>\n",
       "      <td>457495</td>\n",
       "      <td>457510</td>\n",
       "    </tr>\n",
       "    <tr>\n",
       "      <th>top</th>\n",
       "      <td>{M2T9-E1GX15KS-8671LZJY}</td>\n",
       "      <td>04/20/2010 14:31:22</td>\n",
       "      <td>ATV0292</td>\n",
       "      <td>PC-4773</td>\n",
       "      <td>8PG49RJX.doc</td>\n",
       "      <td>D0-CF-11-E0-A1-B1-1A-E1 ankh ankh ankh ankh an...</td>\n",
       "    </tr>\n",
       "    <tr>\n",
       "      <th>freq</th>\n",
       "      <td>1</td>\n",
       "      <td>13</td>\n",
       "      <td>11872</td>\n",
       "      <td>11872</td>\n",
       "      <td>2</td>\n",
       "      <td>3</td>\n",
       "    </tr>\n",
       "  </tbody>\n",
       "</table>\n",
       "</div>"
      ],
      "text/plain": [
       "                              id                 date     user       pc  \\\n",
       "count                     457520               457520   457520   457520   \n",
       "unique                    457520               449720      218      215   \n",
       "top     {M2T9-E1GX15KS-8671LZJY}  04/20/2010 14:31:22  ATV0292  PC-4773   \n",
       "freq                           1                   13    11872    11872   \n",
       "\n",
       "            filename                                            content  \n",
       "count         457520                                             457520  \n",
       "unique        457495                                             457510  \n",
       "top     8PG49RJX.doc  D0-CF-11-E0-A1-B1-1A-E1 ankh ankh ankh ankh an...  \n",
       "freq               2                                                  3  "
      ]
     },
     "execution_count": 4,
     "metadata": {},
     "output_type": "execute_result"
    }
   ],
   "source": [
    "df_file.describe()"
   ]
  },
  {
   "cell_type": "code",
   "execution_count": 3,
   "metadata": {},
   "outputs": [
    {
     "data": {
      "text/plain": [
       "Index(['id', 'date', 'user', 'pc', 'filename', 'content'], dtype='object')"
      ]
     },
     "execution_count": 3,
     "metadata": {},
     "output_type": "execute_result"
    }
   ],
   "source": [
    "df_file.columns"
   ]
  },
  {
   "cell_type": "code",
   "execution_count": 4,
   "metadata": {},
   "outputs": [
    {
     "data": {
      "text/plain": [
       "id                                   {M2T9-E1GX15KS-8671LZJY}\n",
       "date                                      01/02/2010 07:59:14\n",
       "user                                                  YXG0504\n",
       "pc                                                    PC-4312\n",
       "filename                                         ZZEZ8RF0.doc\n",
       "content     D0-CF-11-E0-A1-B1-1A-E1 arizonacalifornia sina...\n",
       "Name: 0, dtype: object"
      ]
     },
     "execution_count": 4,
     "metadata": {},
     "output_type": "execute_result"
    }
   ],
   "source": [
    "df_file.loc[0]"
   ]
  }
 ],
 "metadata": {
  "kernelspec": {
   "display_name": ".venv",
   "language": "python",
   "name": "python3"
  },
  "language_info": {
   "codemirror_mode": {
    "name": "ipython",
    "version": 3
   },
   "file_extension": ".py",
   "mimetype": "text/x-python",
   "name": "python",
   "nbconvert_exporter": "python",
   "pygments_lexer": "ipython3",
   "version": "3.10.6"
  },
  "orig_nbformat": 4,
  "vscode": {
   "interpreter": {
    "hash": "59a61050de5602df89d115e2a8b106731378e82c33a23b198cb5069ccb3357e6"
   }
  }
 },
 "nbformat": 4,
 "nbformat_minor": 2
}
