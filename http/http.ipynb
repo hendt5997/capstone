{
 "cells": [
  {
   "cell_type": "code",
   "execution_count": 1,
   "metadata": {},
   "outputs": [],
   "source": [
    "# import libraries - modin needed for http\n",
    "import modin.pandas as pd\n",
    "import pytz"
   ]
  },
  {
   "cell_type": "code",
   "execution_count": null,
   "metadata": {},
   "outputs": [],
   "source": [
    "# install timezone\n",
    "%pip install pytz"
   ]
  },
  {
   "cell_type": "code",
   "execution_count": 3,
   "metadata": {},
   "outputs": [
    {
     "name": "stderr",
     "output_type": "stream",
     "text": [
      "\u001b[2m\u001b[36m(raylet)\u001b[0m Spilled 2640 MiB, 6 objects, write throughput 920 MiB/s. Set RAY_verbose_spill_logs=0 to disable this message.\n"
     ]
    }
   ],
   "source": [
    "# read the http file into the test dataframe\n",
    "df_test = pd.read_csv('http.csv')"
   ]
  },
  {
   "cell_type": "code",
   "execution_count": 4,
   "metadata": {},
   "outputs": [
    {
     "data": {
      "text/plain": [
       "23555143"
      ]
     },
     "execution_count": 4,
     "metadata": {},
     "output_type": "execute_result"
    },
    {
     "name": "stderr",
     "output_type": "stream",
     "text": [
      "\u001b[2m\u001b[36m(raylet)\u001b[0m Spilled 4398 MiB, 10 objects, write throughput 489 MiB/s.\n"
     ]
    }
   ],
   "source": [
    "# check - number of url series\n",
    "len(df_test['url'])"
   ]
  },
  {
   "cell_type": "code",
   "execution_count": 5,
   "metadata": {},
   "outputs": [
    {
     "name": "stderr",
     "output_type": "stream",
     "text": [
      "\u001b[2m\u001b[36m(raylet)\u001b[0m Spilled 8355 MiB, 19 objects, write throughput 466 MiB/s.\n",
      "\u001b[2m\u001b[36m(raylet)\u001b[0m Spilled 21111 MiB, 51 objects, write throughput 554 MiB/s.\n"
     ]
    },
    {
     "data": {
      "text/plain": [
       "6697"
      ]
     },
     "execution_count": 5,
     "metadata": {},
     "output_type": "execute_result"
    }
   ],
   "source": [
    "# check - number of unique url\n",
    "df_test['url'].nunique()"
   ]
  },
  {
   "cell_type": "code",
   "execution_count": 6,
   "metadata": {},
   "outputs": [],
   "source": [
    "# break the domain out of the url for evaluation - story to new column\n",
    "df_test['domain'] = df_test['url'].apply(lambda x: x.split('/')[2])"
   ]
  },
  {
   "cell_type": "code",
   "execution_count": 7,
   "metadata": {},
   "outputs": [
    {
     "data": {
      "text/plain": [
       "454"
      ]
     },
     "execution_count": 7,
     "metadata": {},
     "output_type": "execute_result"
    }
   ],
   "source": [
    "# number of unique domains\n",
    "len(df_test['domain'].unique())"
   ]
  },
  {
   "cell_type": "code",
   "execution_count": null,
   "metadata": {},
   "outputs": [],
   "source": [
    "# import libraries needed for api call\n",
    "key = 'masked' # demo key anyway\n",
    "url = 'https://investigate.api.umbrella.com'\n",
    "import requests\n",
    "import time"
   ]
  },
  {
   "cell_type": "code",
   "execution_count": null,
   "metadata": {},
   "outputs": [],
   "source": [
    "# define function to pull domain categorization\n",
    "def get_cat(key, url, domain):\n",
    "    header = {'Authorization':'Bearer '+key,\n",
    "        'Content-Type':'application/json'}\n",
    "    \n",
    "    response = requests.get(url+'/domains/categorization/'+domain+'?showLabels', headers=header).json()\n",
    "\n",
    "    time.sleep(5)\n",
    "\n",
    "    return response"
   ]
  },
  {
   "cell_type": "code",
   "execution_count": null,
   "metadata": {},
   "outputs": [],
   "source": [
    "# check - function\n",
    "get_cat(key, url, 'www.google.comtest')"
   ]
  },
  {
   "cell_type": "code",
   "execution_count": null,
   "metadata": {},
   "outputs": [],
   "source": [
    "# create a dictionary of domains to store their categorization\n",
    "# print response if error\n",
    "domainCats = {}\n",
    "\n",
    "for domain in df_test['domain'].unique():\n",
    "   try:\n",
    "      response = get_cat(key, url, domain)\n",
    "      domainCats[domain] = response[domain]['content_categories']\n",
    "   except:\n",
    "      print(response)"
   ]
  },
  {
   "cell_type": "code",
   "execution_count": 8,
   "metadata": {},
   "outputs": [],
   "source": [
    "# store the domain dictionary as a pickle in the fs\n",
    "import pickle\n",
    "\n",
    "#with open('domainCats.pkl', 'wb') as handle:\n",
    "#    pickle.dump(domainCats, handle, protocol=pickle.HIGHEST_PROTOCOL)\n",
    "\n",
    "with open('domainCats.pkl', 'rb') as handle:\n",
    "    domainCats = pickle.load(handle)\n"
   ]
  },
  {
   "cell_type": "code",
   "execution_count": 9,
   "metadata": {},
   "outputs": [
    {
     "data": {
      "text/plain": [
       "454"
      ]
     },
     "execution_count": 9,
     "metadata": {},
     "output_type": "execute_result"
    }
   ],
   "source": [
    "# check - lenth of dictionary\n",
    "len(domainCats.keys())"
   ]
  },
  {
   "cell_type": "code",
   "execution_count": 10,
   "metadata": {},
   "outputs": [
    {
     "data": {
      "text/plain": [
       "454"
      ]
     },
     "execution_count": 10,
     "metadata": {},
     "output_type": "execute_result"
    }
   ],
   "source": [
    "# check - validations that they match\n",
    "len(df_test['domain'].unique())"
   ]
  },
  {
   "cell_type": "code",
   "execution_count": 11,
   "metadata": {},
   "outputs": [],
   "source": [
    "# convert date to datetime in dataframe\n",
    "df_test['date'] = pd.to_datetime(df_test['date'])"
   ]
  },
  {
   "cell_type": "code",
   "execution_count": 12,
   "metadata": {},
   "outputs": [],
   "source": [
    "# dayDate converstion from date\n",
    "df_test['dayDate'] = df_test['date'].dt.date"
   ]
  },
  {
   "cell_type": "code",
   "execution_count": 13,
   "metadata": {},
   "outputs": [],
   "source": [
    "# date as string from date\n",
    "df_test['dateString'] = df_test['date'].dt.strftime('%Y%m%d')"
   ]
  },
  {
   "cell_type": "code",
   "execution_count": 14,
   "metadata": {},
   "outputs": [],
   "source": [
    "# generate a userDate field\n",
    "df_test['userDate'] = df_test.apply(lambda x: x['user'] + '_' + x['dateString'], axis=1)"
   ]
  },
  {
   "cell_type": "code",
   "execution_count": 15,
   "metadata": {},
   "outputs": [
    {
     "data": {
      "text/plain": [
       "23555143"
      ]
     },
     "execution_count": 15,
     "metadata": {},
     "output_type": "execute_result"
    }
   ],
   "source": [
    "# number of rows in http test dataframe\n",
    "len(df_test['id'])"
   ]
  },
  {
   "cell_type": "code",
   "execution_count": 16,
   "metadata": {},
   "outputs": [
    {
     "name": "stderr",
     "output_type": "stream",
     "text": [
      "\u001b[2m\u001b[33m(raylet)\u001b[0m Error processing line 1 of /home/vzb403/.local/lib/python3.10/site-packages/modin-autoimport-pandas.pth:\n",
      "\u001b[2m\u001b[33m(raylet)\u001b[0m \n",
      "\u001b[2m\u001b[33m(raylet)\u001b[0m   Traceback (most recent call last):\n",
      "\u001b[2m\u001b[33m(raylet)\u001b[0m     File \"/usr/lib/python3.10/site.py\", line 192, in addpackage\n",
      "\u001b[2m\u001b[33m(raylet)\u001b[0m       exec(line)\n",
      "\u001b[2m\u001b[33m(raylet)\u001b[0m     File \"<string>\", line 1, in <module>\n",
      "\u001b[2m\u001b[33m(raylet)\u001b[0m     File \"/home/vzb403/.local/lib/python3.10/site-packages/pandas/__init__.py\", line 16, in <module>\n",
      "\u001b[2m\u001b[33m(raylet)\u001b[0m       raise ImportError(\n",
      "\u001b[2m\u001b[33m(raylet)\u001b[0m   ImportError: Unable to import required dependencies:\n",
      "\u001b[2m\u001b[33m(raylet)\u001b[0m   pytz: No module named 'pytz'\n",
      "\u001b[2m\u001b[33m(raylet)\u001b[0m \n",
      "\u001b[2m\u001b[33m(raylet)\u001b[0m Remainder of file ignored\n",
      "\u001b[2m\u001b[33m(raylet)\u001b[0m Error processing line 1 of /home/vzb403/.local/lib/python3.10/site-packages/modin-autoimport-pandas.pth:\n",
      "\u001b[2m\u001b[33m(raylet)\u001b[0m \n",
      "\u001b[2m\u001b[33m(raylet)\u001b[0m Error processing line 1 of /home/vzb403/.local/lib/python3.10/site-packages/modin-autoimport-pandas.pth:\n",
      "\u001b[2m\u001b[33m(raylet)\u001b[0m \n",
      "\u001b[2m\u001b[33m(raylet)\u001b[0m   Traceback (most recent call last):\n",
      "\u001b[2m\u001b[33m(raylet)\u001b[0m     File \"/usr/lib/python3.10/site.py\", line 192, in addpackage\n",
      "\u001b[2m\u001b[33m(raylet)\u001b[0m       exec(line)\n",
      "\u001b[2m\u001b[33m(raylet)\u001b[0m     File \"<string>\", line 1, in <module>\n",
      "\u001b[2m\u001b[33m(raylet)\u001b[0m     File \"/home/vzb403/.local/lib/python3.10/site-packages/pandas/__init__.py\", line 16, in <module>\n",
      "\u001b[2m\u001b[33m(raylet)\u001b[0m       raise ImportError(\n",
      "\u001b[2m\u001b[33m(raylet)\u001b[0m   ImportError: Unable to import required dependencies:\n",
      "\u001b[2m\u001b[33m(raylet)\u001b[0m   pytz: No module named 'pytz'\n",
      "\u001b[2m\u001b[33m(raylet)\u001b[0m \n",
      "\u001b[2m\u001b[33m(raylet)\u001b[0m Remainder of file ignored\n",
      "\u001b[2m\u001b[33m(raylet)\u001b[0m   Traceback (most recent call last):\n",
      "\u001b[2m\u001b[33m(raylet)\u001b[0m     File \"/usr/lib/python3.10/site.py\", line 192, in addpackage\n",
      "\u001b[2m\u001b[33m(raylet)\u001b[0m       exec(line)\n",
      "\u001b[2m\u001b[33m(raylet)\u001b[0m     File \"<string>\", line 1, in <module>\n",
      "\u001b[2m\u001b[33m(raylet)\u001b[0m     File \"/home/vzb403/.local/lib/python3.10/site-packages/pandas/__init__.py\", line 16, in <module>\n",
      "\u001b[2m\u001b[33m(raylet)\u001b[0m       raise ImportError(\n",
      "\u001b[2m\u001b[33m(raylet)\u001b[0m   ImportError: Unable to import required dependencies:\n",
      "\u001b[2m\u001b[33m(raylet)\u001b[0m   pytz: No module named 'pytz'\n",
      "\u001b[2m\u001b[33m(raylet)\u001b[0m \n",
      "\u001b[2m\u001b[33m(raylet)\u001b[0m Remainder of file ignored\n",
      "\u001b[2m\u001b[33m(raylet)\u001b[0m Error processing line 1 of /home/vzb403/.local/lib/python3.10/site-packages/modin-autoimport-pandas.pth:\n",
      "\u001b[2m\u001b[33m(raylet)\u001b[0m \n",
      "\u001b[2m\u001b[33m(raylet)\u001b[0m   Traceback (most recent call last):\n",
      "\u001b[2m\u001b[33m(raylet)\u001b[0m     File \"/usr/lib/python3.10/site.py\", line 192, in addpackage\n",
      "\u001b[2m\u001b[33m(raylet)\u001b[0m       exec(line)\n",
      "\u001b[2m\u001b[33m(raylet)\u001b[0m     File \"<string>\", line 1, in <module>\n",
      "\u001b[2m\u001b[33m(raylet)\u001b[0m     File \"/home/vzb403/.local/lib/python3.10/site-packages/pandas/__init__.py\", line 16, in <module>\n",
      "\u001b[2m\u001b[33m(raylet)\u001b[0m       raise ImportError(\n",
      "\u001b[2m\u001b[33m(raylet)\u001b[0m   ImportError: Unable to import required dependencies:\n",
      "\u001b[2m\u001b[33m(raylet)\u001b[0m   pytz: No module named 'pytz'\n",
      "\u001b[2m\u001b[33m(raylet)\u001b[0m \n",
      "\u001b[2m\u001b[33m(raylet)\u001b[0m Remainder of file ignored\n",
      "\u001b[2m\u001b[33m(raylet)\u001b[0m Error processing line 1 of /home/vzb403/.local/lib/python3.10/site-packages/modin-autoimport-pandas.pth:\n",
      "\u001b[2m\u001b[33m(raylet)\u001b[0m \n",
      "\u001b[2m\u001b[33m(raylet)\u001b[0m   Traceback (most recent call last):\n",
      "\u001b[2m\u001b[33m(raylet)\u001b[0m     File \"/usr/lib/python3.10/site.py\", line 192, in addpackage\n",
      "\u001b[2m\u001b[33m(raylet)\u001b[0m       exec(line)\n",
      "\u001b[2m\u001b[33m(raylet)\u001b[0m     File \"<string>\", line 1, in <module>\n",
      "\u001b[2m\u001b[33m(raylet)\u001b[0m     File \"/home/vzb403/.local/lib/python3.10/site-packages/pandas/__init__.py\", line 16, in <module>\n",
      "\u001b[2m\u001b[33m(raylet)\u001b[0m       raise ImportError(\n",
      "\u001b[2m\u001b[33m(raylet)\u001b[0m   ImportError: Unable to import required dependencies:\n",
      "\u001b[2m\u001b[33m(raylet)\u001b[0m   pytz: No module named 'pytz'\n",
      "\u001b[2m\u001b[33m(raylet)\u001b[0m \n",
      "\u001b[2m\u001b[33m(raylet)\u001b[0m Remainder of file ignored\n",
      "\u001b[2m\u001b[33m(raylet)\u001b[0m Error processing line 1 of /home/vzb403/.local/lib/python3.10/site-packages/modin-autoimport-pandas.pth:\n",
      "\u001b[2m\u001b[33m(raylet)\u001b[0m \n",
      "\u001b[2m\u001b[33m(raylet)\u001b[0m Error processing line 1 of /home/vzb403/.local/lib/python3.10/site-packages/modin-autoimport-pandas.pth:\n",
      "\u001b[2m\u001b[33m(raylet)\u001b[0m \n",
      "\u001b[2m\u001b[33m(raylet)\u001b[0m   Traceback (most recent call last):\n",
      "\u001b[2m\u001b[33m(raylet)\u001b[0m     File \"/usr/lib/python3.10/site.py\", line 192, in addpackage\n",
      "\u001b[2m\u001b[33m(raylet)\u001b[0m       exec(line)\n",
      "\u001b[2m\u001b[33m(raylet)\u001b[0m     File \"<string>\", line 1, in <module>\n",
      "\u001b[2m\u001b[33m(raylet)\u001b[0m     File \"/home/vzb403/.local/lib/python3.10/site-packages/pandas/__init__.py\", line 16, in <module>\n",
      "\u001b[2m\u001b[33m(raylet)\u001b[0m       raise ImportError(\n",
      "\u001b[2m\u001b[33m(raylet)\u001b[0m   ImportError: Unable to import required dependencies:\n",
      "\u001b[2m\u001b[33m(raylet)\u001b[0m   pytz: No module named 'pytz'\n",
      "\u001b[2m\u001b[33m(raylet)\u001b[0m \n",
      "\u001b[2m\u001b[33m(raylet)\u001b[0m Remainder of file ignored\n",
      "\u001b[2m\u001b[33m(raylet)\u001b[0m   Traceback (most recent call last):\n",
      "\u001b[2m\u001b[33m(raylet)\u001b[0m     File \"/usr/lib/python3.10/site.py\", line 192, in addpackage\n",
      "\u001b[2m\u001b[33m(raylet)\u001b[0m       exec(line)\n",
      "\u001b[2m\u001b[33m(raylet)\u001b[0m     File \"<string>\", line 1, in <module>\n",
      "\u001b[2m\u001b[33m(raylet)\u001b[0m     File \"/home/vzb403/.local/lib/python3.10/site-packages/pandas/__init__.py\", line 16, in <module>\n",
      "\u001b[2m\u001b[33m(raylet)\u001b[0m       raise ImportError(\n",
      "\u001b[2m\u001b[33m(raylet)\u001b[0m   ImportError: Unable to import required dependencies:\n",
      "\u001b[2m\u001b[33m(raylet)\u001b[0m   pytz: No module named 'pytz'\n",
      "\u001b[2m\u001b[33m(raylet)\u001b[0m \n",
      "\u001b[2m\u001b[33m(raylet)\u001b[0m Remainder of file ignored\n",
      "\u001b[2m\u001b[33m(raylet)\u001b[0m Error processing line 1 of /home/vzb403/.local/lib/python3.10/site-packages/modin-autoimport-pandas.pth:\n",
      "\u001b[2m\u001b[33m(raylet)\u001b[0m \n",
      "\u001b[2m\u001b[33m(raylet)\u001b[0m   Traceback (most recent call last):\n",
      "\u001b[2m\u001b[33m(raylet)\u001b[0m     File \"/usr/lib/python3.10/site.py\", line 192, in addpackage\n",
      "\u001b[2m\u001b[33m(raylet)\u001b[0m       exec(line)\n",
      "\u001b[2m\u001b[33m(raylet)\u001b[0m     File \"<string>\", line 1, in <module>\n",
      "\u001b[2m\u001b[33m(raylet)\u001b[0m     File \"/home/vzb403/.local/lib/python3.10/site-packages/pandas/__init__.py\", line 16, in <module>\n",
      "\u001b[2m\u001b[33m(raylet)\u001b[0m       raise ImportError(\n",
      "\u001b[2m\u001b[33m(raylet)\u001b[0m   ImportError: Unable to import required dependencies:\n",
      "\u001b[2m\u001b[33m(raylet)\u001b[0m   pytz: No module named 'pytz'\n",
      "\u001b[2m\u001b[33m(raylet)\u001b[0m \n",
      "\u001b[2m\u001b[33m(raylet)\u001b[0m Remainder of file ignored\n",
      "\u001b[2m\u001b[33m(raylet)\u001b[0m Error processing line 1 of /home/vzb403/.local/lib/python3.10/site-packages/modin-autoimport-pandas.pth:\n",
      "\u001b[2m\u001b[33m(raylet)\u001b[0m \n",
      "\u001b[2m\u001b[33m(raylet)\u001b[0m   Traceback (most recent call last):\n",
      "\u001b[2m\u001b[33m(raylet)\u001b[0m     File \"/usr/lib/python3.10/site.py\", line 192, in addpackage\n",
      "\u001b[2m\u001b[33m(raylet)\u001b[0m       exec(line)\n",
      "\u001b[2m\u001b[33m(raylet)\u001b[0m     File \"<string>\", line 1, in <module>\n",
      "\u001b[2m\u001b[33m(raylet)\u001b[0m     File \"/home/vzb403/.local/lib/python3.10/site-packages/pandas/__init__.py\", line 16, in <module>\n",
      "\u001b[2m\u001b[33m(raylet)\u001b[0m       raise ImportError(\n",
      "\u001b[2m\u001b[33m(raylet)\u001b[0m   ImportError: Unable to import required dependencies:\n",
      "\u001b[2m\u001b[33m(raylet)\u001b[0m   pytz: No module named 'pytz'\n",
      "\u001b[2m\u001b[33m(raylet)\u001b[0m \n",
      "\u001b[2m\u001b[33m(raylet)\u001b[0m Remainder of file ignored\n",
      "\u001b[2m\u001b[33m(raylet)\u001b[0m Error processing line 1 of /home/vzb403/.local/lib/python3.10/site-packages/modin-autoimport-pandas.pth:\n",
      "\u001b[2m\u001b[33m(raylet)\u001b[0m \n",
      "\u001b[2m\u001b[33m(raylet)\u001b[0m   Traceback (most recent call last):\n",
      "\u001b[2m\u001b[33m(raylet)\u001b[0m     File \"/usr/lib/python3.10/site.py\", line 192, in addpackage\n",
      "\u001b[2m\u001b[33m(raylet)\u001b[0m       exec(line)\n",
      "\u001b[2m\u001b[33m(raylet)\u001b[0m     File \"<string>\", line 1, in <module>\n",
      "\u001b[2m\u001b[33m(raylet)\u001b[0m     File \"/home/vzb403/.local/lib/python3.10/site-packages/pandas/__init__.py\", line 16, in <module>\n",
      "\u001b[2m\u001b[33m(raylet)\u001b[0m       raise ImportError(\n",
      "\u001b[2m\u001b[33m(raylet)\u001b[0m   ImportError: Unable to import required dependencies:\n",
      "\u001b[2m\u001b[33m(raylet)\u001b[0m   pytz: No module named 'pytz'\n",
      "\u001b[2m\u001b[33m(raylet)\u001b[0m \n",
      "\u001b[2m\u001b[33m(raylet)\u001b[0m Remainder of file ignored\n",
      "\u001b[2m\u001b[33m(raylet)\u001b[0m Error processing line 1 of /home/vzb403/.local/lib/python3.10/site-packages/modin-autoimport-pandas.pth:\n",
      "\u001b[2m\u001b[33m(raylet)\u001b[0m \n",
      "\u001b[2m\u001b[33m(raylet)\u001b[0m   Traceback (most recent call last):\n",
      "\u001b[2m\u001b[33m(raylet)\u001b[0m     File \"/usr/lib/python3.10/site.py\", line 192, in addpackage\n",
      "\u001b[2m\u001b[33m(raylet)\u001b[0m       exec(line)\n",
      "\u001b[2m\u001b[33m(raylet)\u001b[0m     File \"<string>\", line 1, in <module>\n",
      "\u001b[2m\u001b[33m(raylet)\u001b[0m     File \"/home/vzb403/.local/lib/python3.10/site-packages/pandas/__init__.py\", line 16, in <module>\n",
      "\u001b[2m\u001b[33m(raylet)\u001b[0m       raise ImportError(\n",
      "\u001b[2m\u001b[33m(raylet)\u001b[0m   ImportError: Unable to import required dependencies:\n",
      "\u001b[2m\u001b[33m(raylet)\u001b[0m   pytz: No module named 'pytz'\n",
      "\u001b[2m\u001b[33m(raylet)\u001b[0m \n",
      "\u001b[2m\u001b[33m(raylet)\u001b[0m Remainder of file ignored\n",
      "\u001b[2m\u001b[33m(raylet)\u001b[0m Error processing line 1 of /home/vzb403/.local/lib/python3.10/site-packages/modin-autoimport-pandas.pth:\n",
      "\u001b[2m\u001b[33m(raylet)\u001b[0m \n",
      "\u001b[2m\u001b[33m(raylet)\u001b[0m   Traceback (most recent call last):\n",
      "\u001b[2m\u001b[33m(raylet)\u001b[0m     File \"/usr/lib/python3.10/site.py\", line 192, in addpackage\n",
      "\u001b[2m\u001b[33m(raylet)\u001b[0m       exec(line)\n",
      "\u001b[2m\u001b[33m(raylet)\u001b[0m     File \"<string>\", line 1, in <module>\n",
      "\u001b[2m\u001b[33m(raylet)\u001b[0m     File \"/home/vzb403/.local/lib/python3.10/site-packages/pandas/__init__.py\", line 16, in <module>\n",
      "\u001b[2m\u001b[33m(raylet)\u001b[0m       raise ImportError(\n",
      "\u001b[2m\u001b[33m(raylet)\u001b[0m   ImportError: Unable to import required dependencies:\n",
      "\u001b[2m\u001b[33m(raylet)\u001b[0m   pytz: No module named 'pytz'\n",
      "\u001b[2m\u001b[33m(raylet)\u001b[0m \n",
      "\u001b[2m\u001b[33m(raylet)\u001b[0m Remainder of file ignored\n"
     ]
    }
   ],
   "source": [
    "# groupby userDaye and could the number of url. convert to dataframe and rename columns\n",
    "df_urlByUserDate = df_test.groupby('userDate').count()['url'].to_frame().rename(columns={'url':'count'})"
   ]
  },
  {
   "cell_type": "code",
   "execution_count": 17,
   "metadata": {},
   "outputs": [
    {
     "data": {
      "text/plain": [
       "338213"
      ]
     },
     "execution_count": 17,
     "metadata": {},
     "output_type": "execute_result"
    }
   ],
   "source": [
    "# 338213 < 516000 = some userDates have no web activity, but some userDates have no login as well\n",
    "len(df_urlByUserDate['count'])"
   ]
  },
  {
   "cell_type": "code",
   "execution_count": 18,
   "metadata": {},
   "outputs": [
    {
     "name": "stderr",
     "output_type": "stream",
     "text": [
      "UserWarning: `to_pickle` is not currently supported by PandasOnRay, defaulting to pandas implementation.\n",
      "Please refer to https://modin.readthedocs.io/en/stable/supported_apis/defaulting_to_pandas.html for explanation.\n"
     ]
    }
   ],
   "source": [
    "# save the userDate url to pickle\n",
    "df_urlByUserDate.to_pickle('urlByUserDate.pkl')"
   ]
  },
  {
   "cell_type": "code",
   "execution_count": 19,
   "metadata": {},
   "outputs": [
    {
     "data": {
      "text/html": [
       "<div>\n",
       "<style scoped>\n",
       "    .dataframe tbody tr th:only-of-type {\n",
       "        vertical-align: middle;\n",
       "    }\n",
       "\n",
       "    .dataframe tbody tr th {\n",
       "        vertical-align: top;\n",
       "    }\n",
       "\n",
       "    .dataframe thead th {\n",
       "        text-align: right;\n",
       "    }\n",
       "</style>\n",
       "<table border=\"1\" class=\"dataframe\">\n",
       "  <thead>\n",
       "    <tr style=\"text-align: right;\">\n",
       "      <th></th>\n",
       "      <th>id</th>\n",
       "      <th>date</th>\n",
       "      <th>user</th>\n",
       "      <th>pc</th>\n",
       "      <th>url</th>\n",
       "      <th>content</th>\n",
       "      <th>domain</th>\n",
       "      <th>dayDate</th>\n",
       "      <th>dateString</th>\n",
       "      <th>userDate</th>\n",
       "    </tr>\n",
       "  </thead>\n",
       "  <tbody>\n",
       "    <tr>\n",
       "      <th>0</th>\n",
       "      <td>{U0G4-P5TW04EO-9366IUQF}</td>\n",
       "      <td>2010-01-02 06:36:20</td>\n",
       "      <td>EBH0519</td>\n",
       "      <td>PC-9573</td>\n",
       "      <td>http://usbank.com/1930_FIFA_World_Cup/patenaud...</td>\n",
       "      <td>neros printing pastiche four topiary body pink...</td>\n",
       "      <td>usbank.com</td>\n",
       "      <td>2010-01-02</td>\n",
       "      <td>20100102</td>\n",
       "      <td>EBH0519_20100102</td>\n",
       "    </tr>\n",
       "    <tr>\n",
       "      <th>1</th>\n",
       "      <td>{G0R5-U4RX40DR-3710WPUY}</td>\n",
       "      <td>2010-01-02 06:39:22</td>\n",
       "      <td>EBH0519</td>\n",
       "      <td>PC-9573</td>\n",
       "      <td>http://forbes.com/Chorioactis/urnula.html</td>\n",
       "      <td>balhae fubing guotu namsaeng geng chuzhou ying...</td>\n",
       "      <td>forbes.com</td>\n",
       "      <td>2010-01-02</td>\n",
       "      <td>20100102</td>\n",
       "      <td>EBH0519_20100102</td>\n",
       "    </tr>\n",
       "    <tr>\n",
       "      <th>2</th>\n",
       "      <td>{G0Q6-F5CV96RX-0355APNP}</td>\n",
       "      <td>2010-01-02 06:39:53</td>\n",
       "      <td>EBH0519</td>\n",
       "      <td>PC-9573</td>\n",
       "      <td>http://coupons.com/BeauchampSharp_Tragedy/darb...</td>\n",
       "      <td>ziyi hazelnuts 34850 stat_area1 namsaeng kucha...</td>\n",
       "      <td>coupons.com</td>\n",
       "      <td>2010-01-02</td>\n",
       "      <td>20100102</td>\n",
       "      <td>EBH0519_20100102</td>\n",
       "    </tr>\n",
       "    <tr>\n",
       "      <th>3</th>\n",
       "      <td>{J8X0-C9ZO08VS-9370QIFO}</td>\n",
       "      <td>2010-01-02 06:40:56</td>\n",
       "      <td>EBH0519</td>\n",
       "      <td>PC-9573</td>\n",
       "      <td>http://youtube.com/Amanita_ocreata/velosa.html</td>\n",
       "      <td>flambard anselm anselm precentor thurgot visit...</td>\n",
       "      <td>youtube.com</td>\n",
       "      <td>2010-01-02</td>\n",
       "      <td>20100102</td>\n",
       "      <td>EBH0519_20100102</td>\n",
       "    </tr>\n",
       "    <tr>\n",
       "      <th>4</th>\n",
       "      <td>{E0J4-D6WM72LS-9186JPKE}</td>\n",
       "      <td>2010-01-02 06:47:23</td>\n",
       "      <td>EBH0519</td>\n",
       "      <td>PC-9573</td>\n",
       "      <td>http://twitter.com/Cannon/m198.html</td>\n",
       "      <td>maternus henrici anselm walkelin maternus thur...</td>\n",
       "      <td>twitter.com</td>\n",
       "      <td>2010-01-02</td>\n",
       "      <td>20100102</td>\n",
       "      <td>EBH0519_20100102</td>\n",
       "    </tr>\n",
       "  </tbody>\n",
       "</table>\n",
       "</div>"
      ],
      "text/plain": [
       "                         id                date     user       pc  \\\n",
       "0  {U0G4-P5TW04EO-9366IUQF} 2010-01-02 06:36:20  EBH0519  PC-9573   \n",
       "1  {G0R5-U4RX40DR-3710WPUY} 2010-01-02 06:39:22  EBH0519  PC-9573   \n",
       "2  {G0Q6-F5CV96RX-0355APNP} 2010-01-02 06:39:53  EBH0519  PC-9573   \n",
       "3  {J8X0-C9ZO08VS-9370QIFO} 2010-01-02 06:40:56  EBH0519  PC-9573   \n",
       "4  {E0J4-D6WM72LS-9186JPKE} 2010-01-02 06:47:23  EBH0519  PC-9573   \n",
       "\n",
       "                                                 url  \\\n",
       "0  http://usbank.com/1930_FIFA_World_Cup/patenaud...   \n",
       "1          http://forbes.com/Chorioactis/urnula.html   \n",
       "2  http://coupons.com/BeauchampSharp_Tragedy/darb...   \n",
       "3     http://youtube.com/Amanita_ocreata/velosa.html   \n",
       "4                http://twitter.com/Cannon/m198.html   \n",
       "\n",
       "                                             content       domain     dayDate  \\\n",
       "0  neros printing pastiche four topiary body pink...   usbank.com  2010-01-02   \n",
       "1  balhae fubing guotu namsaeng geng chuzhou ying...   forbes.com  2010-01-02   \n",
       "2  ziyi hazelnuts 34850 stat_area1 namsaeng kucha...  coupons.com  2010-01-02   \n",
       "3  flambard anselm anselm precentor thurgot visit...  youtube.com  2010-01-02   \n",
       "4  maternus henrici anselm walkelin maternus thur...  twitter.com  2010-01-02   \n",
       "\n",
       "  dateString          userDate  \n",
       "0   20100102  EBH0519_20100102  \n",
       "1   20100102  EBH0519_20100102  \n",
       "2   20100102  EBH0519_20100102  \n",
       "3   20100102  EBH0519_20100102  \n",
       "4   20100102  EBH0519_20100102  "
      ]
     },
     "execution_count": 19,
     "metadata": {},
     "output_type": "execute_result"
    }
   ],
   "source": [
    "# check - head of http test\n",
    "df_test.head()"
   ]
  },
  {
   "cell_type": "code",
   "execution_count": 20,
   "metadata": {},
   "outputs": [
    {
     "name": "stderr",
     "output_type": "stream",
     "text": [
      "\u001b[2m\u001b[33m(raylet)\u001b[0m [2023-03-26 19:33:39,008 E 774348 774348] (raylet) node_manager.cc:3097: 1 Workers (tasks / actors) killed due to memory pressure (OOM), 0 Workers crashed due to other reasons at node (ID: 6809ec1799f2218e377e09d93bca1b02d67260156df5bfa672826b4c, IP: 192.168.0.202) over the last time period. To see more information about the Workers killed on this node, use `ray logs raylet.out -ip 192.168.0.202`\n",
      "\u001b[2m\u001b[33m(raylet)\u001b[0m \n",
      "\u001b[2m\u001b[33m(raylet)\u001b[0m Refer to the documentation on how to address the out of memory issue: https://docs.ray.io/en/latest/ray-core/scheduling/ray-oom-prevention.html. Consider provisioning more memory on this node or reducing task parallelism by requesting more CPUs per task. To adjust the kill threshold, set the environment variable `RAY_memory_usage_threshold` when starting Ray. To disable worker killing, set the environment variable `RAY_memory_monitor_refresh_ms` to zero.\n"
     ]
    }
   ],
   "source": [
    "# set the categories of the domain in the dataframe based on the domainCate dictionary\n",
    "df_test['domainCats'] = df_test.apply(lambda x: domainCats[x['domain']], axis=1)"
   ]
  },
  {
   "cell_type": "code",
   "execution_count": 21,
   "metadata": {},
   "outputs": [
    {
     "data": {
      "text/plain": [
       "{'Adult',\n",
       " 'Adult Themes',\n",
       " 'Advertisements',\n",
       " 'Adware',\n",
       " 'Arts',\n",
       " 'Auctions',\n",
       " 'Automotive',\n",
       " 'Blogs',\n",
       " 'Business Services',\n",
       " 'Business and Industry',\n",
       " 'Chat',\n",
       " 'Classifieds',\n",
       " 'Cloud and Data Centers',\n",
       " 'Computer Security',\n",
       " 'Computers and Internet',\n",
       " 'DIY Projects',\n",
       " 'Dating',\n",
       " 'Digital Postcards',\n",
       " 'Dining and Drinking',\n",
       " 'Ecommerce/Shopping',\n",
       " 'Education',\n",
       " 'Educational Institutions',\n",
       " 'Entertainment',\n",
       " 'File Storage',\n",
       " 'File Transfer Services',\n",
       " 'Finance',\n",
       " 'Financial Institutions',\n",
       " 'Forums/Message boards',\n",
       " 'Freeware and Shareware',\n",
       " 'Games',\n",
       " 'Government',\n",
       " 'Government and Law',\n",
       " 'Health and Fitness',\n",
       " 'Health and Medicine',\n",
       " 'Humor',\n",
       " 'Illegal Downloads',\n",
       " 'Infrastructure',\n",
       " 'Instant Messaging',\n",
       " 'Internet Telephony',\n",
       " 'Job Search',\n",
       " 'Jobs/Employment',\n",
       " 'Lingerie and Swimsuits',\n",
       " 'Lingerie/Bikini',\n",
       " 'Lotteries',\n",
       " 'Military',\n",
       " 'Movies',\n",
       " 'Music',\n",
       " 'News',\n",
       " 'News/Media',\n",
       " 'Non-Profits',\n",
       " 'Nudity',\n",
       " 'Online Communities',\n",
       " 'Online Document Sharing and Collaboration',\n",
       " 'Online Meetings',\n",
       " 'Online Storage and Backup',\n",
       " 'Online Trading',\n",
       " 'P2P/File sharing',\n",
       " 'Parked Domains',\n",
       " 'Peer File Transfer',\n",
       " 'Personal Sites',\n",
       " 'Photo Search and Images',\n",
       " 'Photo Sharing',\n",
       " 'Podcasts',\n",
       " 'Politics',\n",
       " 'Pornography',\n",
       " 'Portals',\n",
       " 'Professional Networking',\n",
       " 'Radio',\n",
       " 'Real Estate',\n",
       " 'Recipes and Food',\n",
       " 'Reference',\n",
       " 'Regional Restricted Sites (Italy)',\n",
       " 'Religion',\n",
       " 'Religious',\n",
       " 'Research/Reference',\n",
       " 'SaaS and B2B',\n",
       " 'Safe for Kids',\n",
       " 'Science and Technology',\n",
       " 'Search Engines',\n",
       " 'Search Engines and Portals',\n",
       " 'Shopping',\n",
       " 'Social Networking',\n",
       " 'Society and Culture',\n",
       " 'Software/Technology',\n",
       " 'Sports',\n",
       " 'Sports and Recreation',\n",
       " 'Streaming Audio',\n",
       " 'Streaming Video',\n",
       " 'Television',\n",
       " 'Transportation',\n",
       " 'Travel',\n",
       " 'Video Sharing',\n",
       " 'Visual Search Engines',\n",
       " 'Web Cache and Archives',\n",
       " 'Web Hosting',\n",
       " 'Web Spam',\n",
       " 'Web-based Email',\n",
       " 'Webmail'}"
      ]
     },
     "execution_count": 21,
     "metadata": {},
     "output_type": "execute_result"
    }
   ],
   "source": [
    "# check - find all the values of categories\n",
    "import itertools\n",
    "set(itertools.chain.from_iterable(domainCats.values()))"
   ]
  },
  {
   "cell_type": "code",
   "execution_count": 24,
   "metadata": {},
   "outputs": [],
   "source": [
    "# set a list of categories that might be involved with insider threats based on scenarios - draft\n",
    "insiderCats = ['File Storage',\n",
    " 'File Transfer Services',\n",
    " 'Forums/Message boards',\n",
    " 'Freeware and Shareware',\n",
    " 'Illegal Downloads',\n",
    " 'Instant Messaging',\n",
    " 'Internet Telephony',\n",
    " 'Job Search',\n",
    " 'Jobs/Employment',\n",
    " 'Lingerie and Swimsuits',\n",
    " 'Lingerie/Bikini',\n",
    " 'Nudity',\n",
    " 'Online Document Sharing and Collaboration',\n",
    " 'Online Storage and Backup',\n",
    " 'Photo Sharing',\n",
    " 'Pornography',\n",
    " 'Professional Networking',\n",
    " 'Social Networking',\n",
    " 'Video Sharing',\n",
    " 'Web Spam',\n",
    " 'Web-based Email',\n",
    " 'Webmail']"
   ]
  },
  {
   "cell_type": "code",
   "execution_count": 25,
   "metadata": {},
   "outputs": [],
   "source": [
    "# set a list of categories that might be involved with insider threats based on scenarios - draft\n",
    "insiderCats = ['File Storage',\n",
    " 'File Transfer Services',\n",
    " 'Forums/Message boards',\n",
    " 'Internet Telephony',\n",
    " 'Job Search',\n",
    " 'Jobs/Employment',\n",
    " 'Online Document Sharing and Collaboration',\n",
    " 'Online Storage and Backup',\n",
    " 'Professional Networking',\n",
    " 'Web-based Email',\n",
    " 'Webmail']"
   ]
  },
  {
   "cell_type": "code",
   "execution_count": 26,
   "metadata": {},
   "outputs": [
    {
     "name": "stderr",
     "output_type": "stream",
     "text": [
      "\u001b[2m\u001b[33m(raylet)\u001b[0m Error processing line 1 of /home/vzb403/.local/lib/python3.10/site-packages/modin-autoimport-pandas.pth:\n",
      "\u001b[2m\u001b[33m(raylet)\u001b[0m \n",
      "\u001b[2m\u001b[33m(raylet)\u001b[0m   Traceback (most recent call last):\n",
      "\u001b[2m\u001b[33m(raylet)\u001b[0m     File \"/usr/lib/python3.10/site.py\", line 192, in addpackage\n",
      "\u001b[2m\u001b[33m(raylet)\u001b[0m       exec(line)\n",
      "\u001b[2m\u001b[33m(raylet)\u001b[0m     File \"<string>\", line 1, in <module>\n",
      "\u001b[2m\u001b[33m(raylet)\u001b[0m     File \"/home/vzb403/.local/lib/python3.10/site-packages/pandas/__init__.py\", line 16, in <module>\n",
      "\u001b[2m\u001b[33m(raylet)\u001b[0m       raise ImportError(\n",
      "\u001b[2m\u001b[33m(raylet)\u001b[0m   ImportError: Unable to import required dependencies:\n",
      "\u001b[2m\u001b[33m(raylet)\u001b[0m   pytz: No module named 'pytz'\n",
      "\u001b[2m\u001b[33m(raylet)\u001b[0m \n",
      "\u001b[2m\u001b[33m(raylet)\u001b[0m Remainder of file ignored\n",
      "\u001b[2m\u001b[33m(raylet)\u001b[0m Error processing line 1 of /home/vzb403/.local/lib/python3.10/site-packages/modin-autoimport-pandas.pth:\n",
      "\u001b[2m\u001b[33m(raylet)\u001b[0m \n",
      "\u001b[2m\u001b[33m(raylet)\u001b[0m   Traceback (most recent call last):\n",
      "\u001b[2m\u001b[33m(raylet)\u001b[0m     File \"/usr/lib/python3.10/site.py\", line 192, in addpackage\n",
      "\u001b[2m\u001b[33m(raylet)\u001b[0m       exec(line)\n",
      "\u001b[2m\u001b[33m(raylet)\u001b[0m     File \"<string>\", line 1, in <module>\n",
      "\u001b[2m\u001b[33m(raylet)\u001b[0m     File \"/home/vzb403/.local/lib/python3.10/site-packages/pandas/__init__.py\", line 16, in <module>\n",
      "\u001b[2m\u001b[33m(raylet)\u001b[0m       raise ImportError(\n",
      "\u001b[2m\u001b[33m(raylet)\u001b[0m   ImportError: Unable to import required dependencies:\n",
      "\u001b[2m\u001b[33m(raylet)\u001b[0m   pytz: No module named 'pytz'\n",
      "\u001b[2m\u001b[33m(raylet)\u001b[0m \n",
      "\u001b[2m\u001b[33m(raylet)\u001b[0m Remainder of file ignored\n",
      "\u001b[2m\u001b[33m(raylet)\u001b[0m Error processing line 1 of /home/vzb403/.local/lib/python3.10/site-packages/modin-autoimport-pandas.pth:\n",
      "\u001b[2m\u001b[33m(raylet)\u001b[0m \n",
      "\u001b[2m\u001b[33m(raylet)\u001b[0m   Traceback (most recent call last):\n",
      "\u001b[2m\u001b[33m(raylet)\u001b[0m     File \"/usr/lib/python3.10/site.py\", line 192, in addpackage\n",
      "\u001b[2m\u001b[33m(raylet)\u001b[0m       exec(line)\n",
      "\u001b[2m\u001b[33m(raylet)\u001b[0m     File \"<string>\", line 1, in <module>\n",
      "\u001b[2m\u001b[33m(raylet)\u001b[0m     File \"/home/vzb403/.local/lib/python3.10/site-packages/pandas/__init__.py\", line 16, in <module>\n",
      "\u001b[2m\u001b[33m(raylet)\u001b[0m       raise ImportError(\n",
      "\u001b[2m\u001b[33m(raylet)\u001b[0m   ImportError: Unable to import required dependencies:\n",
      "\u001b[2m\u001b[33m(raylet)\u001b[0m   pytz: No module named 'pytz'\n",
      "\u001b[2m\u001b[33m(raylet)\u001b[0m \n",
      "\u001b[2m\u001b[33m(raylet)\u001b[0m Remainder of file ignored\n",
      "\u001b[2m\u001b[33m(raylet)\u001b[0m Error processing line 1 of /home/vzb403/.local/lib/python3.10/site-packages/modin-autoimport-pandas.pth:\n",
      "\u001b[2m\u001b[33m(raylet)\u001b[0m \n",
      "\u001b[2m\u001b[33m(raylet)\u001b[0m   Traceback (most recent call last):\n",
      "\u001b[2m\u001b[33m(raylet)\u001b[0m     File \"/usr/lib/python3.10/site.py\", line 192, in addpackage\n",
      "\u001b[2m\u001b[33m(raylet)\u001b[0m       exec(line)\n",
      "\u001b[2m\u001b[33m(raylet)\u001b[0m     File \"<string>\", line 1, in <module>\n",
      "\u001b[2m\u001b[33m(raylet)\u001b[0m     File \"/home/vzb403/.local/lib/python3.10/site-packages/pandas/__init__.py\", line 16, in <module>\n",
      "\u001b[2m\u001b[33m(raylet)\u001b[0m       raise ImportError(\n",
      "\u001b[2m\u001b[33m(raylet)\u001b[0m   ImportError: Unable to import required dependencies:\n",
      "\u001b[2m\u001b[33m(raylet)\u001b[0m   pytz: No module named 'pytz'\n",
      "\u001b[2m\u001b[33m(raylet)\u001b[0m \n",
      "\u001b[2m\u001b[33m(raylet)\u001b[0m Remainder of file ignored\n",
      "\u001b[2m\u001b[33m(raylet)\u001b[0m Error processing line 1 of /home/vzb403/.local/lib/python3.10/site-packages/modin-autoimport-pandas.pth:\n",
      "\u001b[2m\u001b[33m(raylet)\u001b[0m \n",
      "\u001b[2m\u001b[33m(raylet)\u001b[0m   Traceback (most recent call last):\n",
      "\u001b[2m\u001b[33m(raylet)\u001b[0m     File \"/usr/lib/python3.10/site.py\", line 192, in addpackage\n",
      "\u001b[2m\u001b[33m(raylet)\u001b[0m       exec(line)\n",
      "\u001b[2m\u001b[33m(raylet)\u001b[0m     File \"<string>\", line 1, in <module>\n",
      "\u001b[2m\u001b[33m(raylet)\u001b[0m     File \"/home/vzb403/.local/lib/python3.10/site-packages/pandas/__init__.py\", line 16, in <module>\n",
      "\u001b[2m\u001b[33m(raylet)\u001b[0m       raise ImportError(\n",
      "\u001b[2m\u001b[33m(raylet)\u001b[0m   ImportError: Unable to import required dependencies:\n",
      "\u001b[2m\u001b[33m(raylet)\u001b[0m   pytz: No module named 'pytz'\n",
      "\u001b[2m\u001b[33m(raylet)\u001b[0m \n",
      "\u001b[2m\u001b[33m(raylet)\u001b[0m Remainder of file ignored\n",
      "\u001b[2m\u001b[33m(raylet)\u001b[0m [2023-03-26 19:36:39,010 E 774348 774348] (raylet) node_manager.cc:3097: 4 Workers (tasks / actors) killed due to memory pressure (OOM), 0 Workers crashed due to other reasons at node (ID: 6809ec1799f2218e377e09d93bca1b02d67260156df5bfa672826b4c, IP: 192.168.0.202) over the last time period. To see more information about the Workers killed on this node, use `ray logs raylet.out -ip 192.168.0.202`\n",
      "\u001b[2m\u001b[33m(raylet)\u001b[0m \n",
      "\u001b[2m\u001b[33m(raylet)\u001b[0m Refer to the documentation on how to address the out of memory issue: https://docs.ray.io/en/latest/ray-core/scheduling/ray-oom-prevention.html. Consider provisioning more memory on this node or reducing task parallelism by requesting more CPUs per task. To adjust the kill threshold, set the environment variable `RAY_memory_usage_threshold` when starting Ray. To disable worker killing, set the environment variable `RAY_memory_monitor_refresh_ms` to zero.\n"
     ]
    }
   ],
   "source": [
    "# define a function to set insider threat value of 1 for each http row in http\n",
    "def isInsiderWeb(row):\n",
    "    if any(item in row['domainCats'] for item in insiderCats):\n",
    "        return 1\n",
    "    else:\n",
    "        return 0\n",
    "\n",
    "df_test['isInsiderWeb'] = df_test.apply(isInsiderWeb, axis=1)"
   ]
  },
  {
   "cell_type": "code",
   "execution_count": 27,
   "metadata": {},
   "outputs": [
    {
     "name": "stderr",
     "output_type": "stream",
     "text": [
      "\u001b[2m\u001b[33m(raylet)\u001b[0m Error processing line 1 of /home/vzb403/.local/lib/python3.10/site-packages/modin-autoimport-pandas.pth:\n",
      "\u001b[2m\u001b[33m(raylet)\u001b[0m \n",
      "\u001b[2m\u001b[33m(raylet)\u001b[0m   Traceback (most recent call last):\n",
      "\u001b[2m\u001b[33m(raylet)\u001b[0m     File \"/usr/lib/python3.10/site.py\", line 192, in addpackage\n",
      "\u001b[2m\u001b[33m(raylet)\u001b[0m       exec(line)\n",
      "\u001b[2m\u001b[33m(raylet)\u001b[0m     File \"<string>\", line 1, in <module>\n",
      "\u001b[2m\u001b[33m(raylet)\u001b[0m     File \"/home/vzb403/.local/lib/python3.10/site-packages/pandas/__init__.py\", line 16, in <module>\n",
      "\u001b[2m\u001b[33m(raylet)\u001b[0m       raise ImportError(\n",
      "\u001b[2m\u001b[33m(raylet)\u001b[0m   ImportError: Unable to import required dependencies:\n",
      "\u001b[2m\u001b[33m(raylet)\u001b[0m   pytz: No module named 'pytz'\n",
      "\u001b[2m\u001b[33m(raylet)\u001b[0m \n",
      "\u001b[2m\u001b[33m(raylet)\u001b[0m Remainder of file ignored\n",
      "\u001b[2m\u001b[33m(raylet)\u001b[0m Error processing line 1 of /home/vzb403/.local/lib/python3.10/site-packages/modin-autoimport-pandas.pth:\n",
      "\u001b[2m\u001b[33m(raylet)\u001b[0m \n",
      "\u001b[2m\u001b[33m(raylet)\u001b[0m   Traceback (most recent call last):\n",
      "\u001b[2m\u001b[33m(raylet)\u001b[0m     File \"/usr/lib/python3.10/site.py\", line 192, in addpackage\n",
      "\u001b[2m\u001b[33m(raylet)\u001b[0m       exec(line)\n",
      "\u001b[2m\u001b[33m(raylet)\u001b[0m     File \"<string>\", line 1, in <module>\n",
      "\u001b[2m\u001b[33m(raylet)\u001b[0m     File \"/home/vzb403/.local/lib/python3.10/site-packages/pandas/__init__.py\", line 16, in <module>\n",
      "\u001b[2m\u001b[33m(raylet)\u001b[0m       raise ImportError(\n",
      "\u001b[2m\u001b[33m(raylet)\u001b[0m   ImportError: Unable to import required dependencies:\n",
      "\u001b[2m\u001b[33m(raylet)\u001b[0m   pytz: No module named 'pytz'\n",
      "\u001b[2m\u001b[33m(raylet)\u001b[0m \n",
      "\u001b[2m\u001b[33m(raylet)\u001b[0m Remainder of file ignored\n",
      "\u001b[2m\u001b[33m(raylet)\u001b[0m Error processing line 1 of /home/vzb403/.local/lib/python3.10/site-packages/modin-autoimport-pandas.pth:\n",
      "\u001b[2m\u001b[33m(raylet)\u001b[0m \n",
      "\u001b[2m\u001b[33m(raylet)\u001b[0m   Traceback (most recent call last):\n",
      "\u001b[2m\u001b[33m(raylet)\u001b[0m     File \"/usr/lib/python3.10/site.py\", line 192, in addpackage\n",
      "\u001b[2m\u001b[33m(raylet)\u001b[0m       exec(line)\n",
      "\u001b[2m\u001b[33m(raylet)\u001b[0m     File \"<string>\", line 1, in <module>\n",
      "\u001b[2m\u001b[33m(raylet)\u001b[0m     File \"/home/vzb403/.local/lib/python3.10/site-packages/pandas/__init__.py\", line 16, in <module>\n",
      "\u001b[2m\u001b[33m(raylet)\u001b[0m       raise ImportError(\n",
      "\u001b[2m\u001b[33m(raylet)\u001b[0m   ImportError: Unable to import required dependencies:\n",
      "\u001b[2m\u001b[33m(raylet)\u001b[0m   pytz: No module named 'pytz'\n",
      "\u001b[2m\u001b[33m(raylet)\u001b[0m \n",
      "\u001b[2m\u001b[33m(raylet)\u001b[0m Remainder of file ignored\n",
      "\u001b[2m\u001b[33m(raylet)\u001b[0m Error processing line 1 of /home/vzb403/.local/lib/python3.10/site-packages/modin-autoimport-pandas.pth:\n",
      "\u001b[2m\u001b[33m(raylet)\u001b[0m \n",
      "\u001b[2m\u001b[33m(raylet)\u001b[0m   Traceback (most recent call last):\n",
      "\u001b[2m\u001b[33m(raylet)\u001b[0m     File \"/usr/lib/python3.10/site.py\", line 192, in addpackage\n",
      "\u001b[2m\u001b[33m(raylet)\u001b[0m       exec(line)\n",
      "\u001b[2m\u001b[33m(raylet)\u001b[0m     File \"<string>\", line 1, in <module>\n",
      "\u001b[2m\u001b[33m(raylet)\u001b[0m     File \"/home/vzb403/.local/lib/python3.10/site-packages/pandas/__init__.py\", line 16, in <module>\n",
      "\u001b[2m\u001b[33m(raylet)\u001b[0m       raise ImportError(\n",
      "\u001b[2m\u001b[33m(raylet)\u001b[0m   ImportError: Unable to import required dependencies:\n",
      "\u001b[2m\u001b[33m(raylet)\u001b[0m   pytz: No module named 'pytz'\n",
      "\u001b[2m\u001b[33m(raylet)\u001b[0m \n",
      "\u001b[2m\u001b[33m(raylet)\u001b[0m Remainder of file ignored\n"
     ]
    }
   ],
   "source": [
    "\n",
    "df_test['domainCatsString'] = df_test.apply(lambda x: str(x['domainCats']), axis=1)"
   ]
  },
  {
   "cell_type": "code",
   "execution_count": 28,
   "metadata": {},
   "outputs": [
    {
     "name": "stderr",
     "output_type": "stream",
     "text": [
      "\u001b[2m\u001b[33m(raylet)\u001b[0m [2023-03-26 19:38:39,013 E 774348 774348] (raylet) node_manager.cc:3097: 5 Workers (tasks / actors) killed due to memory pressure (OOM), 0 Workers crashed due to other reasons at node (ID: 6809ec1799f2218e377e09d93bca1b02d67260156df5bfa672826b4c, IP: 192.168.0.202) over the last time period. To see more information about the Workers killed on this node, use `ray logs raylet.out -ip 192.168.0.202`\n",
      "\u001b[2m\u001b[33m(raylet)\u001b[0m \n",
      "\u001b[2m\u001b[33m(raylet)\u001b[0m Refer to the documentation on how to address the out of memory issue: https://docs.ray.io/en/latest/ray-core/scheduling/ray-oom-prevention.html. Consider provisioning more memory on this node or reducing task parallelism by requesting more CPUs per task. To adjust the kill threshold, set the environment variable `RAY_memory_usage_threshold` when starting Ray. To disable worker killing, set the environment variable `RAY_memory_monitor_refresh_ms` to zero.\n",
      "\u001b[2m\u001b[33m(raylet)\u001b[0m Error processing line 1 of /home/vzb403/.local/lib/python3.10/site-packages/modin-autoimport-pandas.pth:\n",
      "\u001b[2m\u001b[33m(raylet)\u001b[0m \n",
      "\u001b[2m\u001b[33m(raylet)\u001b[0m   Traceback (most recent call last):\n",
      "\u001b[2m\u001b[33m(raylet)\u001b[0m     File \"/usr/lib/python3.10/site.py\", line 192, in addpackage\n",
      "\u001b[2m\u001b[33m(raylet)\u001b[0m       exec(line)\n",
      "\u001b[2m\u001b[33m(raylet)\u001b[0m     File \"<string>\", line 1, in <module>\n",
      "\u001b[2m\u001b[33m(raylet)\u001b[0m     File \"/home/vzb403/.local/lib/python3.10/site-packages/pandas/__init__.py\", line 16, in <module>\n",
      "\u001b[2m\u001b[33m(raylet)\u001b[0m       raise ImportError(\n",
      "\u001b[2m\u001b[33m(raylet)\u001b[0m   ImportError: Unable to import required dependencies:\n",
      "\u001b[2m\u001b[33m(raylet)\u001b[0m   pytz: No module named 'pytz'\n",
      "\u001b[2m\u001b[33m(raylet)\u001b[0m \n",
      "\u001b[2m\u001b[33m(raylet)\u001b[0m Remainder of file ignored\n",
      "\u001b[2m\u001b[33m(raylet)\u001b[0m Error processing line 1 of /home/vzb403/.local/lib/python3.10/site-packages/modin-autoimport-pandas.pth:\n",
      "\u001b[2m\u001b[33m(raylet)\u001b[0m \n",
      "\u001b[2m\u001b[33m(raylet)\u001b[0m   Traceback (most recent call last):\n",
      "\u001b[2m\u001b[33m(raylet)\u001b[0m     File \"/usr/lib/python3.10/site.py\", line 192, in addpackage\n",
      "\u001b[2m\u001b[33m(raylet)\u001b[0m       exec(line)\n",
      "\u001b[2m\u001b[33m(raylet)\u001b[0m     File \"<string>\", line 1, in <module>\n",
      "\u001b[2m\u001b[33m(raylet)\u001b[0m     File \"/home/vzb403/.local/lib/python3.10/site-packages/pandas/__init__.py\", line 16, in <module>\n",
      "\u001b[2m\u001b[33m(raylet)\u001b[0m       raise ImportError(\n",
      "\u001b[2m\u001b[33m(raylet)\u001b[0m   ImportError: Unable to import required dependencies:\n",
      "\u001b[2m\u001b[33m(raylet)\u001b[0m   pytz: No module named 'pytz'\n",
      "\u001b[2m\u001b[33m(raylet)\u001b[0m \n",
      "\u001b[2m\u001b[33m(raylet)\u001b[0m Remainder of file ignored\n",
      "\u001b[2m\u001b[33m(raylet)\u001b[0m Error processing line 1 of /home/vzb403/.local/lib/python3.10/site-packages/modin-autoimport-pandas.pth:\n",
      "\u001b[2m\u001b[33m(raylet)\u001b[0m \n",
      "\u001b[2m\u001b[33m(raylet)\u001b[0m   Traceback (most recent call last):\n",
      "\u001b[2m\u001b[33m(raylet)\u001b[0m     File \"/usr/lib/python3.10/site.py\", line 192, in addpackage\n",
      "\u001b[2m\u001b[33m(raylet)\u001b[0m       exec(line)\n",
      "\u001b[2m\u001b[33m(raylet)\u001b[0m     File \"<string>\", line 1, in <module>\n",
      "\u001b[2m\u001b[33m(raylet)\u001b[0m     File \"/home/vzb403/.local/lib/python3.10/site-packages/pandas/__init__.py\", line 16, in <module>\n",
      "\u001b[2m\u001b[33m(raylet)\u001b[0m       raise ImportError(\n",
      "\u001b[2m\u001b[33m(raylet)\u001b[0m   ImportError: Unable to import required dependencies:\n",
      "\u001b[2m\u001b[33m(raylet)\u001b[0m   pytz: No module named 'pytz'\n",
      "\u001b[2m\u001b[33m(raylet)\u001b[0m \n",
      "\u001b[2m\u001b[33m(raylet)\u001b[0m Remainder of file ignored\n",
      "\u001b[2m\u001b[33m(raylet)\u001b[0m Error processing line 1 of /home/vzb403/.local/lib/python3.10/site-packages/modin-autoimport-pandas.pth:\n",
      "\u001b[2m\u001b[33m(raylet)\u001b[0m \n",
      "\u001b[2m\u001b[33m(raylet)\u001b[0m   Traceback (most recent call last):\n",
      "\u001b[2m\u001b[33m(raylet)\u001b[0m     File \"/usr/lib/python3.10/site.py\", line 192, in addpackage\n",
      "\u001b[2m\u001b[33m(raylet)\u001b[0m       exec(line)\n",
      "\u001b[2m\u001b[33m(raylet)\u001b[0m     File \"<string>\", line 1, in <module>\n",
      "\u001b[2m\u001b[33m(raylet)\u001b[0m     File \"/home/vzb403/.local/lib/python3.10/site-packages/pandas/__init__.py\", line 16, in <module>\n",
      "\u001b[2m\u001b[33m(raylet)\u001b[0m       raise ImportError(\n",
      "\u001b[2m\u001b[33m(raylet)\u001b[0m   ImportError: Unable to import required dependencies:\n",
      "\u001b[2m\u001b[33m(raylet)\u001b[0m   pytz: No module named 'pytz'\n",
      "\u001b[2m\u001b[33m(raylet)\u001b[0m \n",
      "\u001b[2m\u001b[33m(raylet)\u001b[0m Remainder of file ignored\n",
      "\u001b[2m\u001b[33m(raylet)\u001b[0m Error processing line 1 of /home/vzb403/.local/lib/python3.10/site-packages/modin-autoimport-pandas.pth:\n",
      "\u001b[2m\u001b[33m(raylet)\u001b[0m \n",
      "\u001b[2m\u001b[33m(raylet)\u001b[0m   Traceback (most recent call last):\n",
      "\u001b[2m\u001b[33m(raylet)\u001b[0m     File \"/usr/lib/python3.10/site.py\", line 192, in addpackage\n",
      "\u001b[2m\u001b[33m(raylet)\u001b[0m       exec(line)\n",
      "\u001b[2m\u001b[33m(raylet)\u001b[0m     File \"<string>\", line 1, in <module>\n",
      "\u001b[2m\u001b[33m(raylet)\u001b[0m     File \"/home/vzb403/.local/lib/python3.10/site-packages/pandas/__init__.py\", line 16, in <module>\n",
      "\u001b[2m\u001b[33m(raylet)\u001b[0m       raise ImportError(\n",
      "\u001b[2m\u001b[33m(raylet)\u001b[0m   ImportError: Unable to import required dependencies:\n",
      "\u001b[2m\u001b[33m(raylet)\u001b[0m   pytz: No module named 'pytz'\n",
      "\u001b[2m\u001b[33m(raylet)\u001b[0m \n",
      "\u001b[2m\u001b[33m(raylet)\u001b[0m Remainder of file ignored\n",
      "\u001b[2m\u001b[33m(raylet)\u001b[0m Error processing line 1 of /home/vzb403/.local/lib/python3.10/site-packages/modin-autoimport-pandas.pth:\n",
      "\u001b[2m\u001b[33m(raylet)\u001b[0m \n",
      "\u001b[2m\u001b[33m(raylet)\u001b[0m   Traceback (most recent call last):\n",
      "\u001b[2m\u001b[33m(raylet)\u001b[0m     File \"/usr/lib/python3.10/site.py\", line 192, in addpackage\n",
      "\u001b[2m\u001b[33m(raylet)\u001b[0m       exec(line)\n",
      "\u001b[2m\u001b[33m(raylet)\u001b[0m     File \"<string>\", line 1, in <module>\n",
      "\u001b[2m\u001b[33m(raylet)\u001b[0m     File \"/home/vzb403/.local/lib/python3.10/site-packages/pandas/__init__.py\", line 16, in <module>\n",
      "\u001b[2m\u001b[33m(raylet)\u001b[0m       raise ImportError(\n",
      "\u001b[2m\u001b[33m(raylet)\u001b[0m   ImportError: Unable to import required dependencies:\n",
      "\u001b[2m\u001b[33m(raylet)\u001b[0m   pytz: No module named 'pytz'\n",
      "\u001b[2m\u001b[33m(raylet)\u001b[0m \n",
      "\u001b[2m\u001b[33m(raylet)\u001b[0m Remainder of file ignored\n",
      "\u001b[2m\u001b[33m(raylet)\u001b[0m Error processing line 1 of /home/vzb403/.local/lib/python3.10/site-packages/modin-autoimport-pandas.pth:\n",
      "\u001b[2m\u001b[33m(raylet)\u001b[0m \n",
      "\u001b[2m\u001b[33m(raylet)\u001b[0m   Traceback (most recent call last):\n",
      "\u001b[2m\u001b[33m(raylet)\u001b[0m     File \"/usr/lib/python3.10/site.py\", line 192, in addpackage\n",
      "\u001b[2m\u001b[33m(raylet)\u001b[0m       exec(line)\n",
      "\u001b[2m\u001b[33m(raylet)\u001b[0m     File \"<string>\", line 1, in <module>\n",
      "\u001b[2m\u001b[33m(raylet)\u001b[0m     File \"/home/vzb403/.local/lib/python3.10/site-packages/pandas/__init__.py\", line 16, in <module>\n",
      "\u001b[2m\u001b[33m(raylet)\u001b[0m       raise ImportError(\n",
      "\u001b[2m\u001b[33m(raylet)\u001b[0m   ImportError: Unable to import required dependencies:\n",
      "\u001b[2m\u001b[33m(raylet)\u001b[0m   pytz: No module named 'pytz'\n",
      "\u001b[2m\u001b[33m(raylet)\u001b[0m \n",
      "\u001b[2m\u001b[33m(raylet)\u001b[0m Remainder of file ignored\n",
      "\u001b[2m\u001b[33m(raylet)\u001b[0m Error processing line 1 of /home/vzb403/.local/lib/python3.10/site-packages/modin-autoimport-pandas.pth:\n",
      "\u001b[2m\u001b[33m(raylet)\u001b[0m \n",
      "\u001b[2m\u001b[33m(raylet)\u001b[0m   Traceback (most recent call last):\n",
      "\u001b[2m\u001b[33m(raylet)\u001b[0m     File \"/usr/lib/python3.10/site.py\", line 192, in addpackage\n",
      "\u001b[2m\u001b[33m(raylet)\u001b[0m       exec(line)\n",
      "\u001b[2m\u001b[33m(raylet)\u001b[0m     File \"<string>\", line 1, in <module>\n",
      "\u001b[2m\u001b[33m(raylet)\u001b[0m     File \"/home/vzb403/.local/lib/python3.10/site-packages/pandas/__init__.py\", line 16, in <module>\n",
      "\u001b[2m\u001b[33m(raylet)\u001b[0m       raise ImportError(\n",
      "\u001b[2m\u001b[33m(raylet)\u001b[0m   ImportError: Unable to import required dependencies:\n",
      "\u001b[2m\u001b[33m(raylet)\u001b[0m   pytz: No module named 'pytz'\n",
      "\u001b[2m\u001b[33m(raylet)\u001b[0m \n",
      "\u001b[2m\u001b[33m(raylet)\u001b[0m Remainder of file ignored\n",
      "\u001b[2m\u001b[33m(raylet)\u001b[0m Error processing line 1 of /home/vzb403/.local/lib/python3.10/site-packages/modin-autoimport-pandas.pth:\n",
      "\u001b[2m\u001b[33m(raylet)\u001b[0m \n",
      "\u001b[2m\u001b[33m(raylet)\u001b[0m   Traceback (most recent call last):\n",
      "\u001b[2m\u001b[33m(raylet)\u001b[0m     File \"/usr/lib/python3.10/site.py\", line 192, in addpackage\n",
      "\u001b[2m\u001b[33m(raylet)\u001b[0m       exec(line)\n",
      "\u001b[2m\u001b[33m(raylet)\u001b[0m     File \"<string>\", line 1, in <module>\n",
      "\u001b[2m\u001b[33m(raylet)\u001b[0m     File \"/home/vzb403/.local/lib/python3.10/site-packages/pandas/__init__.py\", line 16, in <module>\n",
      "\u001b[2m\u001b[33m(raylet)\u001b[0m       raise ImportError(\n",
      "\u001b[2m\u001b[33m(raylet)\u001b[0m   ImportError: Unable to import required dependencies:\n",
      "\u001b[2m\u001b[33m(raylet)\u001b[0m   pytz: No module named 'pytz'\n",
      "\u001b[2m\u001b[33m(raylet)\u001b[0m \n",
      "\u001b[2m\u001b[33m(raylet)\u001b[0m Remainder of file ignored\n",
      "\u001b[2m\u001b[33m(raylet)\u001b[0m Error processing line 1 of /home/vzb403/.local/lib/python3.10/site-packages/modin-autoimport-pandas.pth:\n",
      "\u001b[2m\u001b[33m(raylet)\u001b[0m \n",
      "\u001b[2m\u001b[33m(raylet)\u001b[0m   Traceback (most recent call last):\n",
      "\u001b[2m\u001b[33m(raylet)\u001b[0m     File \"/usr/lib/python3.10/site.py\", line 192, in addpackage\n",
      "\u001b[2m\u001b[33m(raylet)\u001b[0m       exec(line)\n",
      "\u001b[2m\u001b[33m(raylet)\u001b[0m     File \"<string>\", line 1, in <module>\n",
      "\u001b[2m\u001b[33m(raylet)\u001b[0m     File \"/home/vzb403/.local/lib/python3.10/site-packages/pandas/__init__.py\", line 16, in <module>\n",
      "\u001b[2m\u001b[33m(raylet)\u001b[0m       raise ImportError(\n",
      "\u001b[2m\u001b[33m(raylet)\u001b[0m   ImportError: Unable to import required dependencies:\n",
      "\u001b[2m\u001b[33m(raylet)\u001b[0m   pytz: No module named 'pytz'\n",
      "\u001b[2m\u001b[33m(raylet)\u001b[0m \n",
      "\u001b[2m\u001b[33m(raylet)\u001b[0m Remainder of file ignored\n",
      "\u001b[2m\u001b[33m(raylet)\u001b[0m Error processing line 1 of /home/vzb403/.local/lib/python3.10/site-packages/modin-autoimport-pandas.pth:\n",
      "\u001b[2m\u001b[33m(raylet)\u001b[0m \n",
      "\u001b[2m\u001b[33m(raylet)\u001b[0m   Traceback (most recent call last):\n",
      "\u001b[2m\u001b[33m(raylet)\u001b[0m     File \"/usr/lib/python3.10/site.py\", line 192, in addpackage\n",
      "\u001b[2m\u001b[33m(raylet)\u001b[0m       exec(line)\n",
      "\u001b[2m\u001b[33m(raylet)\u001b[0m     File \"<string>\", line 1, in <module>\n",
      "\u001b[2m\u001b[33m(raylet)\u001b[0m     File \"/home/vzb403/.local/lib/python3.10/site-packages/pandas/__init__.py\", line 16, in <module>\n",
      "\u001b[2m\u001b[33m(raylet)\u001b[0m       raise ImportError(\n",
      "\u001b[2m\u001b[33m(raylet)\u001b[0m   ImportError: Unable to import required dependencies:\n",
      "\u001b[2m\u001b[33m(raylet)\u001b[0m   pytz: No module named 'pytz'\n",
      "\u001b[2m\u001b[33m(raylet)\u001b[0m \n",
      "\u001b[2m\u001b[33m(raylet)\u001b[0m Remainder of file ignored\n"
     ]
    }
   ],
   "source": [
    "# set the categories of the domain in the dataframe based on the domainCate dictionary - sum the quantity of the items per userDate\n",
    "df_insiderWebCount = df_test[df_test['isInsiderWeb'] == 1].groupby('userDate').sum()"
   ]
  },
  {
   "cell_type": "code",
   "execution_count": 29,
   "metadata": {},
   "outputs": [
    {
     "data": {
      "text/html": [
       "<div>\n",
       "<style scoped>\n",
       "    .dataframe tbody tr th:only-of-type {\n",
       "        vertical-align: middle;\n",
       "    }\n",
       "\n",
       "    .dataframe tbody tr th {\n",
       "        vertical-align: top;\n",
       "    }\n",
       "\n",
       "    .dataframe thead th {\n",
       "        text-align: right;\n",
       "    }\n",
       "</style>\n",
       "<table border=\"1\" class=\"dataframe\">\n",
       "  <thead>\n",
       "    <tr style=\"text-align: right;\">\n",
       "      <th></th>\n",
       "      <th>isInsiderWeb</th>\n",
       "    </tr>\n",
       "    <tr>\n",
       "      <th>userDate</th>\n",
       "      <th></th>\n",
       "    </tr>\n",
       "  </thead>\n",
       "  <tbody>\n",
       "    <tr>\n",
       "      <th>AAC0070_20100104</th>\n",
       "      <td>1</td>\n",
       "    </tr>\n",
       "    <tr>\n",
       "      <th>AAC0070_20100105</th>\n",
       "      <td>10</td>\n",
       "    </tr>\n",
       "    <tr>\n",
       "      <th>AAC0070_20100106</th>\n",
       "      <td>4</td>\n",
       "    </tr>\n",
       "    <tr>\n",
       "      <th>AAC0070_20100107</th>\n",
       "      <td>3</td>\n",
       "    </tr>\n",
       "    <tr>\n",
       "      <th>AAC0070_20100111</th>\n",
       "      <td>2</td>\n",
       "    </tr>\n",
       "    <tr>\n",
       "      <th>...</th>\n",
       "      <td>...</td>\n",
       "    </tr>\n",
       "    <tr>\n",
       "      <th>ZSP0972_20110506</th>\n",
       "      <td>5</td>\n",
       "    </tr>\n",
       "    <tr>\n",
       "      <th>ZSP0972_20110509</th>\n",
       "      <td>3</td>\n",
       "    </tr>\n",
       "    <tr>\n",
       "      <th>ZSP0972_20110510</th>\n",
       "      <td>4</td>\n",
       "    </tr>\n",
       "    <tr>\n",
       "      <th>ZSP0972_20110511</th>\n",
       "      <td>3</td>\n",
       "    </tr>\n",
       "    <tr>\n",
       "      <th>ZSP0972_20110512</th>\n",
       "      <td>4</td>\n",
       "    </tr>\n",
       "  </tbody>\n",
       "</table>\n",
       "<p>271161 rows x 1 columns</p>\n",
       "</div>"
      ],
      "text/plain": [
       "                  isInsiderWeb\n",
       "userDate                      \n",
       "AAC0070_20100104             1\n",
       "AAC0070_20100105            10\n",
       "AAC0070_20100106             4\n",
       "AAC0070_20100107             3\n",
       "AAC0070_20100111             2\n",
       "...                        ...\n",
       "ZSP0972_20110506             5\n",
       "ZSP0972_20110509             3\n",
       "ZSP0972_20110510             4\n",
       "ZSP0972_20110511             3\n",
       "ZSP0972_20110512             4\n",
       "\n",
       "[271161 rows x 1 columns]"
      ]
     },
     "execution_count": 29,
     "metadata": {},
     "output_type": "execute_result"
    }
   ],
   "source": [
    "# check - new df for sum insiderthreat count\n",
    "df_insiderWebCount"
   ]
  },
  {
   "cell_type": "code",
   "execution_count": 30,
   "metadata": {},
   "outputs": [
    {
     "name": "stderr",
     "output_type": "stream",
     "text": [
      "UserWarning: `to_pickle` is not currently supported by PandasOnRay, defaulting to pandas implementation.\n"
     ]
    }
   ],
   "source": [
    "# save the file to a pickle\n",
    "df_insiderWebCount.to_pickle('insiderWebCount.pkl')"
   ]
  },
  {
   "cell_type": "code",
   "execution_count": 31,
   "metadata": {},
   "outputs": [
    {
     "data": {
      "text/plain": [
       "['File Storage', 'Photo Sharing', 'Visual Search Engines', 'Photo Search and Images']                                   1071\n",
       "['Ecommerce/Shopping', 'Forums/Message boards', 'Shopping']                                                              625\n",
       "['Movies', 'Forums/Message boards', 'Entertainment']                                                                     486\n",
       "['Blogs', 'Software/Technology', 'Forums/Message boards', 'Podcasts', 'Online Document Sharing and Collaboration']       235\n",
       "['Jobs/Employment', 'Business Services', 'Business and Industry']                                                        233\n",
       "['File Storage', 'File Transfer Services']                                                                               133\n",
       "['Social Networking', 'Forums/Message boards', 'Online Communities']                                                     116\n",
       "['File Storage', 'Search Engines', 'Software/Technology', 'Webmail', 'Search Engines and Portals']                        96\n",
       "['Classifieds', 'Ecommerce/Shopping', 'Forums/Message boards', 'Shopping']                                                93\n",
       "['File Storage', 'Movies', 'Online Storage and Backup']                                                                    5\n",
       "['Search Engines', 'Webmail', 'Search Engines and Portals']                                                           607116\n",
       "['Auctions', 'Classifieds', 'Jobs/Employment']                                                                        268100\n",
       "['Blogs', 'Forums/Message boards', 'Online Communities']                                                              256407\n",
       "['Blogs', 'Software/Technology', 'Forums/Message boards', 'Online Communities']                                       247327\n",
       "['Jobs/Employment', 'Business Services', 'Job Search']                                                                108998\n",
       "['Jobs/Employment', 'Professional Networking']                                                                        104165\n",
       "['News/Media', 'Forums/Message boards', 'Online Communities']                                                          84474\n",
       "['Forums/Message boards', 'Online Communities']                                                                        41799\n",
       "['Blogs', 'Social Networking', 'Forums/Message boards', 'Online Communities']                                          27593\n",
       "['File Storage', 'Software/Technology', 'File Transfer Services']                                                      22208\n",
       "['Chat', 'Social Networking', 'Forums/Message boards', 'Online Communities']                                           21232\n",
       "['File Storage', 'Online Storage and Backup']                                                                          19716\n",
       "['Jobs/Employment', 'SaaS and B2B']                                                                                    14191\n",
       "['P2P/File sharing', 'File Transfer Services']                                                                         11660\n",
       "['News/Media', 'Adult Themes', 'Forums/Message boards', 'Research/Reference', 'Online Communities']                     5894\n",
       "['Games', 'News/Media', 'Forums/Message boards', 'Entertainment']                                                       5690\n",
       "['Games', 'Software/Technology', 'Forums/Message boards']                                                               4132\n",
       "['File Storage', 'Business Services', 'Online Document Sharing and Collaboration']                                      4041\n",
       "['Chat', 'Instant Messaging', 'Software/Technology', 'Internet Telephony']                                              3568\n",
       "['File Transfer Services']                                                                                              3316\n",
       "['Jobs/Employment', 'Job Search']                                                                                       3055\n",
       "['Blogs', 'Business Services', 'Forums/Message boards', 'Online Communities']                                           2829\n",
       "['Webmail', 'Web-based Email']                                                                                          2538\n",
       "['Dating', 'Forums/Message boards']                                                                                     2236\n",
       "['News/Media', 'Social Networking', 'Forums/Message boards', 'News']                                                    1586\n",
       "['Software/Technology', 'Forums/Message boards', 'Research/Reference', 'Computers and Internet']                        1580\n",
       "['News/Media', 'Software/Technology', 'Forums/Message boards', 'Online Communities']                                    1541\n",
       "Name: domainCatsString, dtype: int64"
      ]
     },
     "execution_count": 31,
     "metadata": {},
     "output_type": "execute_result"
    },
    {
     "name": "stderr",
     "output_type": "stream",
     "text": [
      "\u001b[2m\u001b[33m(raylet)\u001b[0m [2023-04-01 14:23:48,889 E 774348 774348] (raylet) node_manager.cc:3097: 1 Workers (tasks / actors) killed due to memory pressure (OOM), 0 Workers crashed due to other reasons at node (ID: 6809ec1799f2218e377e09d93bca1b02d67260156df5bfa672826b4c, IP: 192.168.0.202) over the last time period. To see more information about the Workers killed on this node, use `ray logs raylet.out -ip 192.168.0.202`\n",
      "\u001b[2m\u001b[33m(raylet)\u001b[0m \n",
      "\u001b[2m\u001b[33m(raylet)\u001b[0m Refer to the documentation on how to address the out of memory issue: https://docs.ray.io/en/latest/ray-core/scheduling/ray-oom-prevention.html. Consider provisioning more memory on this node or reducing task parallelism by requesting more CPUs per task. To adjust the kill threshold, set the environment variable `RAY_memory_usage_threshold` when starting Ray. To disable worker killing, set the environment variable `RAY_memory_monitor_refresh_ms` to zero.\n",
      "\u001b[2m\u001b[33m(raylet)\u001b[0m [2023-04-01 14:34:48,909 E 774348 774348] (raylet) node_manager.cc:3097: 1 Workers (tasks / actors) killed due to memory pressure (OOM), 0 Workers crashed due to other reasons at node (ID: 6809ec1799f2218e377e09d93bca1b02d67260156df5bfa672826b4c, IP: 192.168.0.202) over the last time period. To see more information about the Workers killed on this node, use `ray logs raylet.out -ip 192.168.0.202`\n",
      "\u001b[2m\u001b[33m(raylet)\u001b[0m \n",
      "\u001b[2m\u001b[33m(raylet)\u001b[0m Refer to the documentation on how to address the out of memory issue: https://docs.ray.io/en/latest/ray-core/scheduling/ray-oom-prevention.html. Consider provisioning more memory on this node or reducing task parallelism by requesting more CPUs per task. To adjust the kill threshold, set the environment variable `RAY_memory_usage_threshold` when starting Ray. To disable worker killing, set the environment variable `RAY_memory_monitor_refresh_ms` to zero.\n",
      "\u001b[2m\u001b[33m(raylet)\u001b[0m [2023-04-01 15:25:48,998 E 774348 774348] (raylet) node_manager.cc:3097: 1 Workers (tasks / actors) killed due to memory pressure (OOM), 0 Workers crashed due to other reasons at node (ID: 6809ec1799f2218e377e09d93bca1b02d67260156df5bfa672826b4c, IP: 192.168.0.202) over the last time period. To see more information about the Workers killed on this node, use `ray logs raylet.out -ip 192.168.0.202`\n",
      "\u001b[2m\u001b[33m(raylet)\u001b[0m \n",
      "\u001b[2m\u001b[33m(raylet)\u001b[0m Refer to the documentation on how to address the out of memory issue: https://docs.ray.io/en/latest/ray-core/scheduling/ray-oom-prevention.html. Consider provisioning more memory on this node or reducing task parallelism by requesting more CPUs per task. To adjust the kill threshold, set the environment variable `RAY_memory_usage_threshold` when starting Ray. To disable worker killing, set the environment variable `RAY_memory_monitor_refresh_ms` to zero.\n",
      "\u001b[2m\u001b[33m(raylet)\u001b[0m [2023-04-01 16:18:49,093 E 774348 774348] (raylet) node_manager.cc:3097: 1 Workers (tasks / actors) killed due to memory pressure (OOM), 0 Workers crashed due to other reasons at node (ID: 6809ec1799f2218e377e09d93bca1b02d67260156df5bfa672826b4c, IP: 192.168.0.202) over the last time period. To see more information about the Workers killed on this node, use `ray logs raylet.out -ip 192.168.0.202`\n",
      "\u001b[2m\u001b[33m(raylet)\u001b[0m \n",
      "\u001b[2m\u001b[33m(raylet)\u001b[0m Refer to the documentation on how to address the out of memory issue: https://docs.ray.io/en/latest/ray-core/scheduling/ray-oom-prevention.html. Consider provisioning more memory on this node or reducing task parallelism by requesting more CPUs per task. To adjust the kill threshold, set the environment variable `RAY_memory_usage_threshold` when starting Ray. To disable worker killing, set the environment variable `RAY_memory_monitor_refresh_ms` to zero.\n",
      "\u001b[2m\u001b[33m(raylet)\u001b[0m [2023-04-01 16:48:49,161 E 774348 774348] (raylet) node_manager.cc:3097: 1 Workers (tasks / actors) killed due to memory pressure (OOM), 0 Workers crashed due to other reasons at node (ID: 6809ec1799f2218e377e09d93bca1b02d67260156df5bfa672826b4c, IP: 192.168.0.202) over the last time period. To see more information about the Workers killed on this node, use `ray logs raylet.out -ip 192.168.0.202`\n",
      "\u001b[2m\u001b[33m(raylet)\u001b[0m \n",
      "\u001b[2m\u001b[33m(raylet)\u001b[0m Refer to the documentation on how to address the out of memory issue: https://docs.ray.io/en/latest/ray-core/scheduling/ray-oom-prevention.html. Consider provisioning more memory on this node or reducing task parallelism by requesting more CPUs per task. To adjust the kill threshold, set the environment variable `RAY_memory_usage_threshold` when starting Ray. To disable worker killing, set the environment variable `RAY_memory_monitor_refresh_ms` to zero.\n",
      "\u001b[2m\u001b[33m(raylet)\u001b[0m [2023-04-01 17:43:49,240 E 774348 774348] (raylet) node_manager.cc:3097: 1 Workers (tasks / actors) killed due to memory pressure (OOM), 0 Workers crashed due to other reasons at node (ID: 6809ec1799f2218e377e09d93bca1b02d67260156df5bfa672826b4c, IP: 192.168.0.202) over the last time period. To see more information about the Workers killed on this node, use `ray logs raylet.out -ip 192.168.0.202`\n",
      "\u001b[2m\u001b[33m(raylet)\u001b[0m \n",
      "\u001b[2m\u001b[33m(raylet)\u001b[0m Refer to the documentation on how to address the out of memory issue: https://docs.ray.io/en/latest/ray-core/scheduling/ray-oom-prevention.html. Consider provisioning more memory on this node or reducing task parallelism by requesting more CPUs per task. To adjust the kill threshold, set the environment variable `RAY_memory_usage_threshold` when starting Ray. To disable worker killing, set the environment variable `RAY_memory_monitor_refresh_ms` to zero.\n",
      "\u001b[2m\u001b[33m(raylet)\u001b[0m [2023-04-01 18:15:49,286 E 774348 774348] (raylet) node_manager.cc:3097: 1 Workers (tasks / actors) killed due to memory pressure (OOM), 0 Workers crashed due to other reasons at node (ID: 6809ec1799f2218e377e09d93bca1b02d67260156df5bfa672826b4c, IP: 192.168.0.202) over the last time period. To see more information about the Workers killed on this node, use `ray logs raylet.out -ip 192.168.0.202`\n",
      "\u001b[2m\u001b[33m(raylet)\u001b[0m \n",
      "\u001b[2m\u001b[33m(raylet)\u001b[0m Refer to the documentation on how to address the out of memory issue: https://docs.ray.io/en/latest/ray-core/scheduling/ray-oom-prevention.html. Consider provisioning more memory on this node or reducing task parallelism by requesting more CPUs per task. To adjust the kill threshold, set the environment variable `RAY_memory_usage_threshold` when starting Ray. To disable worker killing, set the environment variable `RAY_memory_monitor_refresh_ms` to zero.\n",
      "\u001b[2m\u001b[33m(raylet)\u001b[0m [2023-04-01 19:08:49,353 E 774348 774348] (raylet) node_manager.cc:3097: 1 Workers (tasks / actors) killed due to memory pressure (OOM), 0 Workers crashed due to other reasons at node (ID: 6809ec1799f2218e377e09d93bca1b02d67260156df5bfa672826b4c, IP: 192.168.0.202) over the last time period. To see more information about the Workers killed on this node, use `ray logs raylet.out -ip 192.168.0.202`\n",
      "\u001b[2m\u001b[33m(raylet)\u001b[0m \n",
      "\u001b[2m\u001b[33m(raylet)\u001b[0m Refer to the documentation on how to address the out of memory issue: https://docs.ray.io/en/latest/ray-core/scheduling/ray-oom-prevention.html. Consider provisioning more memory on this node or reducing task parallelism by requesting more CPUs per task. To adjust the kill threshold, set the environment variable `RAY_memory_usage_threshold` when starting Ray. To disable worker killing, set the environment variable `RAY_memory_monitor_refresh_ms` to zero.\n",
      "\u001b[2m\u001b[33m(raylet)\u001b[0m [2023-04-01 19:20:49,375 E 774348 774348] (raylet) node_manager.cc:3097: 1 Workers (tasks / actors) killed due to memory pressure (OOM), 0 Workers crashed due to other reasons at node (ID: 6809ec1799f2218e377e09d93bca1b02d67260156df5bfa672826b4c, IP: 192.168.0.202) over the last time period. To see more information about the Workers killed on this node, use `ray logs raylet.out -ip 192.168.0.202`\n",
      "\u001b[2m\u001b[33m(raylet)\u001b[0m \n",
      "\u001b[2m\u001b[33m(raylet)\u001b[0m Refer to the documentation on how to address the out of memory issue: https://docs.ray.io/en/latest/ray-core/scheduling/ray-oom-prevention.html. Consider provisioning more memory on this node or reducing task parallelism by requesting more CPUs per task. To adjust the kill threshold, set the environment variable `RAY_memory_usage_threshold` when starting Ray. To disable worker killing, set the environment variable `RAY_memory_monitor_refresh_ms` to zero.\n",
      "\u001b[2m\u001b[33m(raylet)\u001b[0m [2023-04-01 19:50:49,427 E 774348 774348] (raylet) node_manager.cc:3097: 1 Workers (tasks / actors) killed due to memory pressure (OOM), 0 Workers crashed due to other reasons at node (ID: 6809ec1799f2218e377e09d93bca1b02d67260156df5bfa672826b4c, IP: 192.168.0.202) over the last time period. To see more information about the Workers killed on this node, use `ray logs raylet.out -ip 192.168.0.202`\n",
      "\u001b[2m\u001b[33m(raylet)\u001b[0m \n",
      "\u001b[2m\u001b[33m(raylet)\u001b[0m Refer to the documentation on how to address the out of memory issue: https://docs.ray.io/en/latest/ray-core/scheduling/ray-oom-prevention.html. Consider provisioning more memory on this node or reducing task parallelism by requesting more CPUs per task. To adjust the kill threshold, set the environment variable `RAY_memory_usage_threshold` when starting Ray. To disable worker killing, set the environment variable `RAY_memory_monitor_refresh_ms` to zero.\n",
      "\u001b[2m\u001b[33m(raylet)\u001b[0m [2023-04-01 19:52:49,436 E 774348 774348] (raylet) node_manager.cc:3097: 1 Workers (tasks / actors) killed due to memory pressure (OOM), 0 Workers crashed due to other reasons at node (ID: 6809ec1799f2218e377e09d93bca1b02d67260156df5bfa672826b4c, IP: 192.168.0.202) over the last time period. To see more information about the Workers killed on this node, use `ray logs raylet.out -ip 192.168.0.202`\n",
      "\u001b[2m\u001b[33m(raylet)\u001b[0m \n",
      "\u001b[2m\u001b[33m(raylet)\u001b[0m Refer to the documentation on how to address the out of memory issue: https://docs.ray.io/en/latest/ray-core/scheduling/ray-oom-prevention.html. Consider provisioning more memory on this node or reducing task parallelism by requesting more CPUs per task. To adjust the kill threshold, set the environment variable `RAY_memory_usage_threshold` when starting Ray. To disable worker killing, set the environment variable `RAY_memory_monitor_refresh_ms` to zero.\n",
      "\u001b[2m\u001b[33m(raylet)\u001b[0m [2023-04-01 20:26:49,488 E 774348 774348] (raylet) node_manager.cc:3097: 1 Workers (tasks / actors) killed due to memory pressure (OOM), 0 Workers crashed due to other reasons at node (ID: 6809ec1799f2218e377e09d93bca1b02d67260156df5bfa672826b4c, IP: 192.168.0.202) over the last time period. To see more information about the Workers killed on this node, use `ray logs raylet.out -ip 192.168.0.202`\n",
      "\u001b[2m\u001b[33m(raylet)\u001b[0m \n",
      "\u001b[2m\u001b[33m(raylet)\u001b[0m Refer to the documentation on how to address the out of memory issue: https://docs.ray.io/en/latest/ray-core/scheduling/ray-oom-prevention.html. Consider provisioning more memory on this node or reducing task parallelism by requesting more CPUs per task. To adjust the kill threshold, set the environment variable `RAY_memory_usage_threshold` when starting Ray. To disable worker killing, set the environment variable `RAY_memory_monitor_refresh_ms` to zero.\n",
      "\u001b[2m\u001b[33m(raylet)\u001b[0m [2023-04-01 21:09:49,547 E 774348 774348] (raylet) node_manager.cc:3097: 1 Workers (tasks / actors) killed due to memory pressure (OOM), 0 Workers crashed due to other reasons at node (ID: 6809ec1799f2218e377e09d93bca1b02d67260156df5bfa672826b4c, IP: 192.168.0.202) over the last time period. To see more information about the Workers killed on this node, use `ray logs raylet.out -ip 192.168.0.202`\n",
      "\u001b[2m\u001b[33m(raylet)\u001b[0m \n",
      "\u001b[2m\u001b[33m(raylet)\u001b[0m Refer to the documentation on how to address the out of memory issue: https://docs.ray.io/en/latest/ray-core/scheduling/ray-oom-prevention.html. Consider provisioning more memory on this node or reducing task parallelism by requesting more CPUs per task. To adjust the kill threshold, set the environment variable `RAY_memory_usage_threshold` when starting Ray. To disable worker killing, set the environment variable `RAY_memory_monitor_refresh_ms` to zero.\n"
     ]
    }
   ],
   "source": [
    "# check - which cats have the hight suspicious counts - should there be a negation?\n",
    "df_test[df_test['isInsiderWeb'] == 1]['domainCatsString'].value_counts()"
   ]
  }
 ],
 "metadata": {
  "kernelspec": {
   "display_name": "Python 3",
   "language": "python",
   "name": "python3"
  },
  "language_info": {
   "codemirror_mode": {
    "name": "ipython",
    "version": 3
   },
   "file_extension": ".py",
   "mimetype": "text/x-python",
   "name": "python",
   "nbconvert_exporter": "python",
   "pygments_lexer": "ipython3",
   "version": "3.10.6"
  },
  "orig_nbformat": 4,
  "vscode": {
   "interpreter": {
    "hash": "916dbcbb3f70747c44a77c7bcd40155683ae19c65e1c03b4aa3499c5328201f1"
   }
  }
 },
 "nbformat": 4,
 "nbformat_minor": 2
}
