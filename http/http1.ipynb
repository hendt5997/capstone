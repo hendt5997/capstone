{
 "cells": [
  {
   "cell_type": "code",
   "execution_count": 1,
   "metadata": {},
   "outputs": [],
   "source": [
    "import modin.pandas as pd"
   ]
  },
  {
   "cell_type": "code",
   "execution_count": 2,
   "metadata": {},
   "outputs": [
    {
     "name": "stderr",
     "output_type": "stream",
     "text": [
      "UserWarning: Ray execution environment not yet initialized. Initializing...\n",
      "To remove this warning, run the following python code before doing dataframe operations:\n",
      "\n",
      "    import ray\n",
      "    ray.init(runtime_env={'env_vars': {'__MODIN_AUTOIMPORT_PANDAS__': '1'}})\n",
      "\n",
      "2023-02-17 08:44:17,311\tINFO worker.py:1529 -- Started a local Ray instance. View the dashboard at \u001b[1m\u001b[32m127.0.0.1:8265 \u001b[39m\u001b[22m\n"
     ]
    }
   ],
   "source": [
    "df_http = pd.read_csv('c:/Users/tlhen/Downloads/http.csv')"
   ]
  },
  {
   "cell_type": "code",
   "execution_count": 3,
   "metadata": {},
   "outputs": [],
   "source": [
    "df_http['date'] = pd.to_datetime(df_http['date'])"
   ]
  },
  {
   "cell_type": "code",
   "execution_count": 4,
   "metadata": {},
   "outputs": [],
   "source": [
    "dateDay= df_http['date'].dt.date\n",
    "df_http['dateDay'] = dateDay"
   ]
  },
  {
   "cell_type": "code",
   "execution_count": 5,
   "metadata": {},
   "outputs": [],
   "source": [
    "dateMonth = df_http['date'].dt.strftime(\"%Y%m\")\n",
    "df_http['dateMonth'] = dateMonth"
   ]
  },
  {
   "cell_type": "code",
   "execution_count": 6,
   "metadata": {},
   "outputs": [
    {
     "name": "stderr",
     "output_type": "stream",
     "text": [
      "\u001b[2m\u001b[36m(pid=)\u001b[0m [2023-02-17 09:03:44,701 E 688 13052] (raylet.exe) worker_pool.cc:524: Some workers of the worker process(16628) have not registered within the timeout. The process is still alive, probably it's hanging during start.\n"
     ]
    }
   ],
   "source": [
    "months = df_http['dateMonth'].unique()"
   ]
  },
  {
   "cell_type": "code",
   "execution_count": 7,
   "metadata": {},
   "outputs": [
    {
     "data": {
      "text/plain": [
       "array(['201105'], dtype=object)"
      ]
     },
     "execution_count": 7,
     "metadata": {},
     "output_type": "execute_result"
    }
   ],
   "source": [
    "months[-1:]"
   ]
  },
  {
   "cell_type": "code",
   "execution_count": 8,
   "metadata": {},
   "outputs": [
    {
     "name": "stdout",
     "output_type": "stream",
     "text": [
      "201105\n",
      "temp dataframe\n",
      "662230\n",
      "file written\n",
      "sleeping\n"
     ]
    }
   ],
   "source": [
    "import time\n",
    "\n",
    "#months = df_http['dateMonth'].unique()\n",
    "#print('uniques done')\n",
    "\n",
    "for month in months[-1:]:\n",
    "    print(month)\n",
    "    df_temp = df_http[df_http['dateMonth'] == month]\n",
    "    print('temp dataframe')\n",
    "    print(len(df_temp['dateMonth']))\n",
    "    df_temp.to_csv(f'./{month}.csv')\n",
    "    print('file written')\n",
    "    del df_temp\n",
    "    print('sleeping')\n",
    "    time.sleep(300)\n"
   ]
  }
 ],
 "metadata": {
  "kernelspec": {
   "display_name": ".venv",
   "language": "python",
   "name": "python3"
  },
  "language_info": {
   "codemirror_mode": {
    "name": "ipython",
    "version": 3
   },
   "file_extension": ".py",
   "mimetype": "text/x-python",
   "name": "python",
   "nbconvert_exporter": "python",
   "pygments_lexer": "ipython3",
   "version": "3.10.10"
  },
  "orig_nbformat": 4,
  "vscode": {
   "interpreter": {
    "hash": "59a61050de5602df89d115e2a8b106731378e82c33a23b198cb5069ccb3357e6"
   }
  }
 },
 "nbformat": 4,
 "nbformat_minor": 2
}
