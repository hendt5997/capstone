{
 "cells": [
  {
   "cell_type": "code",
   "execution_count": null,
   "metadata": {},
   "outputs": [],
   "source": [
    "# import pandas subsitute - one or the other of these two\n",
    "import modin.pandas as pd"
   ]
  },
  {
   "cell_type": "code",
   "execution_count": 1,
   "metadata": {},
   "outputs": [],
   "source": [
    "# import libraries\n",
    "import pandas as pd"
   ]
  },
  {
   "cell_type": "code",
   "execution_count": 2,
   "metadata": {},
   "outputs": [],
   "source": [
    "# read csv\n",
    "df_logons = pd.read_csv('logon.csv')"
   ]
  },
  {
   "cell_type": "code",
   "execution_count": 42,
   "metadata": {},
   "outputs": [
    {
     "data": {
      "text/plain": [
       "id             {S7X6-Z2CH44WU-9256VRTB}\n",
       "date                2010-01-02 06:34:00\n",
       "user                            EBH0519\n",
       "pc                              PC-9573\n",
       "activity                          Logon\n",
       "dateHour                              6\n",
       "dateDay                               2\n",
       "calendarDay                  2010-01-02\n",
       "dateString                     20100102\n",
       "userDate               EBH0519_20100102\n",
       "Name: 0, dtype: object"
      ]
     },
     "execution_count": 42,
     "metadata": {},
     "output_type": "execute_result"
    }
   ],
   "source": [
    "# check - first index\n",
    "df_logons.iloc[0]"
   ]
  },
  {
   "cell_type": "code",
   "execution_count": 4,
   "metadata": {},
   "outputs": [
    {
     "data": {
      "text/plain": [
       "pc\n",
       "PC-0015    [TKW0289, WSP0210, JVS0212, DWG0209, BLA0039, ...\n",
       "PC-0027    [HDE0756, BLA0039, DWG0209, LEB0888, LUP0038, ...\n",
       "PC-0042    [AMR0208, JVS0212, PAW0040, WSP0210, LUP0038, ...\n",
       "PC-0051    [LXW0999, HKW0211, DWG0209, UAP0214, ZNS0213, ...\n",
       "PC-0059    [GRM0263, WSP0210, UAP0214, ZNS0213, BLA0039, ...\n",
       "                                 ...                        \n",
       "PC-9961    [HRL0797, ZNS0213, LUP0038, DWG0209, JVS0212, ...\n",
       "PC-9974    [WMH0866, BJE0520, UAP0214, DWG0209, HKW0211, ...\n",
       "PC-9979                 [DZJ0261, PAW0040, BLA0039, JVS0212]\n",
       "PC-9989    [LDF0262, DWG0209, HKW0211, LUP0038, UAP0214, ...\n",
       "PC-9999    [JAW0007, DWG0209, WSP0210, PAW0040, CZB0191, ...\n",
       "Name: user, Length: 953, dtype: object"
      ]
     },
     "execution_count": 4,
     "metadata": {},
     "output_type": "execute_result"
    }
   ],
   "source": [
    "# number of user logins by pc\n",
    "df_logons.groupby('pc')['user'].unique()"
   ]
  },
  {
   "cell_type": "code",
   "execution_count": 5,
   "metadata": {},
   "outputs": [
    {
     "data": {
      "text/plain": [
       "TKW0289    1198\n",
       "JVS0212      10\n",
       "DWG0209       4\n",
       "ZNS0213       4\n",
       "WSP0210       2\n",
       "BLA0039       2\n",
       "LUP0038       2\n",
       "HKW0211       2\n",
       "BJH0243       2\n",
       "Name: user, dtype: int64"
      ]
     },
     "execution_count": 5,
     "metadata": {},
     "output_type": "execute_result"
    }
   ],
   "source": [
    "# looking specifically at one, we see that one user principle uses this machine\n",
    "df_logons[df_logons['pc'] == 'PC-0015']['user'].value_counts()"
   ]
  },
  {
   "cell_type": "code",
   "execution_count": 1,
   "metadata": {},
   "outputs": [
    {
     "ename": "NameError",
     "evalue": "name 'df_logons' is not defined",
     "output_type": "error",
     "traceback": [
      "\u001b[0;31m---------------------------------------------------------------------------\u001b[0m",
      "\u001b[0;31mNameError\u001b[0m                                 Traceback (most recent call last)",
      "Cell \u001b[0;32mIn[1], line 2\u001b[0m\n\u001b[1;32m      1\u001b[0m \u001b[39m# the number of pcs in the environment\u001b[39;00m\n\u001b[0;32m----> 2\u001b[0m \u001b[39mlen\u001b[39m(df_logons)\n",
      "\u001b[0;31mNameError\u001b[0m: name 'df_logons' is not defined"
     ]
    }
   ],
   "source": [
    "# the number of pcs in the environment\n",
    "len(df_logons)"
   ]
  },
  {
   "cell_type": "code",
   "execution_count": 7,
   "metadata": {},
   "outputs": [
    {
     "data": {
      "text/plain": [
       "array(['Logon', 'Logoff'], dtype=object)"
      ]
     },
     "execution_count": 7,
     "metadata": {},
     "output_type": "execute_result"
    }
   ],
   "source": [
    "# types of activities\n",
    "df_logons['activity'].unique()"
   ]
  },
  {
   "cell_type": "code",
   "execution_count": 8,
   "metadata": {},
   "outputs": [],
   "source": [
    "# convert date to datetime\n",
    "df_logons['date']  = pd.to_datetime(df_logons['date'])"
   ]
  },
  {
   "cell_type": "code",
   "execution_count": 9,
   "metadata": {},
   "outputs": [],
   "source": [
    "# pull hour from datetime\n",
    "df_logons['dateHour'] = df_logons['date'].dt.hour"
   ]
  },
  {
   "cell_type": "code",
   "execution_count": 10,
   "metadata": {},
   "outputs": [],
   "source": [
    "# pull day from datetime\n",
    "df_logons['dateDay'] = df_logons['date'].dt.day"
   ]
  },
  {
   "cell_type": "code",
   "execution_count": 11,
   "metadata": {},
   "outputs": [
    {
     "data": {
      "text/html": [
       "<div>\n",
       "<style scoped>\n",
       "    .dataframe tbody tr th:only-of-type {\n",
       "        vertical-align: middle;\n",
       "    }\n",
       "\n",
       "    .dataframe tbody tr th {\n",
       "        vertical-align: top;\n",
       "    }\n",
       "\n",
       "    .dataframe thead th {\n",
       "        text-align: right;\n",
       "    }\n",
       "</style>\n",
       "<table border=\"1\" class=\"dataframe\">\n",
       "  <thead>\n",
       "    <tr style=\"text-align: right;\">\n",
       "      <th></th>\n",
       "      <th>id</th>\n",
       "      <th>date</th>\n",
       "      <th>pc</th>\n",
       "      <th>activity</th>\n",
       "      <th>dateHour</th>\n",
       "      <th>dateDay</th>\n",
       "    </tr>\n",
       "    <tr>\n",
       "      <th>user</th>\n",
       "      <th></th>\n",
       "      <th></th>\n",
       "      <th></th>\n",
       "      <th></th>\n",
       "      <th></th>\n",
       "      <th></th>\n",
       "    </tr>\n",
       "  </thead>\n",
       "  <tbody>\n",
       "    <tr>\n",
       "      <th>AAC0070</th>\n",
       "      <td>690</td>\n",
       "      <td>690</td>\n",
       "      <td>690</td>\n",
       "      <td>690</td>\n",
       "      <td>690</td>\n",
       "      <td>690</td>\n",
       "    </tr>\n",
       "    <tr>\n",
       "      <th>AAP0946</th>\n",
       "      <td>1185</td>\n",
       "      <td>1185</td>\n",
       "      <td>1185</td>\n",
       "      <td>1185</td>\n",
       "      <td>1185</td>\n",
       "      <td>1185</td>\n",
       "    </tr>\n",
       "    <tr>\n",
       "      <th>AAR0716</th>\n",
       "      <td>993</td>\n",
       "      <td>993</td>\n",
       "      <td>993</td>\n",
       "      <td>993</td>\n",
       "      <td>993</td>\n",
       "      <td>993</td>\n",
       "    </tr>\n",
       "    <tr>\n",
       "      <th>AAS0850</th>\n",
       "      <td>963</td>\n",
       "      <td>963</td>\n",
       "      <td>963</td>\n",
       "      <td>963</td>\n",
       "      <td>963</td>\n",
       "      <td>963</td>\n",
       "    </tr>\n",
       "    <tr>\n",
       "      <th>ABG0865</th>\n",
       "      <td>1680</td>\n",
       "      <td>1680</td>\n",
       "      <td>1680</td>\n",
       "      <td>1680</td>\n",
       "      <td>1680</td>\n",
       "      <td>1680</td>\n",
       "    </tr>\n",
       "    <tr>\n",
       "      <th>...</th>\n",
       "      <td>...</td>\n",
       "      <td>...</td>\n",
       "      <td>...</td>\n",
       "      <td>...</td>\n",
       "      <td>...</td>\n",
       "      <td>...</td>\n",
       "    </tr>\n",
       "    <tr>\n",
       "      <th>ZKC0722</th>\n",
       "      <td>690</td>\n",
       "      <td>690</td>\n",
       "      <td>690</td>\n",
       "      <td>690</td>\n",
       "      <td>690</td>\n",
       "      <td>690</td>\n",
       "    </tr>\n",
       "    <tr>\n",
       "      <th>ZLB0620</th>\n",
       "      <td>690</td>\n",
       "      <td>690</td>\n",
       "      <td>690</td>\n",
       "      <td>690</td>\n",
       "      <td>690</td>\n",
       "      <td>690</td>\n",
       "    </tr>\n",
       "    <tr>\n",
       "      <th>ZLW0169</th>\n",
       "      <td>690</td>\n",
       "      <td>690</td>\n",
       "      <td>690</td>\n",
       "      <td>690</td>\n",
       "      <td>690</td>\n",
       "      <td>690</td>\n",
       "    </tr>\n",
       "    <tr>\n",
       "      <th>ZNS0213</th>\n",
       "      <td>4852</td>\n",
       "      <td>4852</td>\n",
       "      <td>4852</td>\n",
       "      <td>4852</td>\n",
       "      <td>4852</td>\n",
       "      <td>4852</td>\n",
       "    </tr>\n",
       "    <tr>\n",
       "      <th>ZSP0972</th>\n",
       "      <td>690</td>\n",
       "      <td>690</td>\n",
       "      <td>690</td>\n",
       "      <td>690</td>\n",
       "      <td>690</td>\n",
       "      <td>690</td>\n",
       "    </tr>\n",
       "  </tbody>\n",
       "</table>\n",
       "<p>1000 rows × 6 columns</p>\n",
       "</div>"
      ],
      "text/plain": [
       "           id  date    pc  activity  dateHour  dateDay\n",
       "user                                                  \n",
       "AAC0070   690   690   690       690       690      690\n",
       "AAP0946  1185  1185  1185      1185      1185     1185\n",
       "AAR0716   993   993   993       993       993      993\n",
       "AAS0850   963   963   963       963       963      963\n",
       "ABG0865  1680  1680  1680      1680      1680     1680\n",
       "...       ...   ...   ...       ...       ...      ...\n",
       "ZKC0722   690   690   690       690       690      690\n",
       "ZLB0620   690   690   690       690       690      690\n",
       "ZLW0169   690   690   690       690       690      690\n",
       "ZNS0213  4852  4852  4852      4852      4852     4852\n",
       "ZSP0972   690   690   690       690       690      690\n",
       "\n",
       "[1000 rows x 6 columns]"
      ]
     },
     "execution_count": 11,
     "metadata": {},
     "output_type": "execute_result"
    }
   ],
   "source": [
    "# activities in total for all users all time.\n",
    "df_logons.groupby('user').count()"
   ]
  },
  {
   "cell_type": "code",
   "execution_count": 12,
   "metadata": {},
   "outputs": [],
   "source": [
    "# pull calendar date from datetime\n",
    "df_logons['calendarDay'] = df_logons['date'].dt.date"
   ]
  },
  {
   "cell_type": "code",
   "execution_count": 13,
   "metadata": {},
   "outputs": [
    {
     "data": {
      "text/plain": [
       "datetime.date(2011, 1, 21)"
      ]
     },
     "execution_count": 13,
     "metadata": {},
     "output_type": "execute_result"
    }
   ],
   "source": [
    "# last date seen for user\n",
    "df_logons[df_logons['user'] == 'ABM0173']['calendarDay'].max()"
   ]
  },
  {
   "cell_type": "code",
   "execution_count": 14,
   "metadata": {},
   "outputs": [
    {
     "data": {
      "text/html": [
       "<div>\n",
       "<style scoped>\n",
       "    .dataframe tbody tr th:only-of-type {\n",
       "        vertical-align: middle;\n",
       "    }\n",
       "\n",
       "    .dataframe tbody tr th {\n",
       "        vertical-align: top;\n",
       "    }\n",
       "\n",
       "    .dataframe thead th {\n",
       "        text-align: right;\n",
       "    }\n",
       "</style>\n",
       "<table border=\"1\" class=\"dataframe\">\n",
       "  <thead>\n",
       "    <tr style=\"text-align: right;\">\n",
       "      <th></th>\n",
       "      <th>userDate</th>\n",
       "      <th>date</th>\n",
       "    </tr>\n",
       "  </thead>\n",
       "  <tbody>\n",
       "    <tr>\n",
       "      <th>0</th>\n",
       "      <td>AAC0070_20100104</td>\n",
       "      <td>1</td>\n",
       "    </tr>\n",
       "    <tr>\n",
       "      <th>1</th>\n",
       "      <td>AAC0070_20100105</td>\n",
       "      <td>1</td>\n",
       "    </tr>\n",
       "    <tr>\n",
       "      <th>2</th>\n",
       "      <td>AAC0070_20100106</td>\n",
       "      <td>1</td>\n",
       "    </tr>\n",
       "    <tr>\n",
       "      <th>3</th>\n",
       "      <td>AAC0070_20100107</td>\n",
       "      <td>1</td>\n",
       "    </tr>\n",
       "    <tr>\n",
       "      <th>4</th>\n",
       "      <td>AAC0070_20100108</td>\n",
       "      <td>1</td>\n",
       "    </tr>\n",
       "    <tr>\n",
       "      <th>...</th>\n",
       "      <td>...</td>\n",
       "      <td>...</td>\n",
       "    </tr>\n",
       "    <tr>\n",
       "      <th>339993</th>\n",
       "      <td>ZSP0972_20110509</td>\n",
       "      <td>1</td>\n",
       "    </tr>\n",
       "    <tr>\n",
       "      <th>339994</th>\n",
       "      <td>ZSP0972_20110510</td>\n",
       "      <td>1</td>\n",
       "    </tr>\n",
       "    <tr>\n",
       "      <th>339995</th>\n",
       "      <td>ZSP0972_20110511</td>\n",
       "      <td>1</td>\n",
       "    </tr>\n",
       "    <tr>\n",
       "      <th>339996</th>\n",
       "      <td>ZSP0972_20110512</td>\n",
       "      <td>1</td>\n",
       "    </tr>\n",
       "    <tr>\n",
       "      <th>339997</th>\n",
       "      <td>ZSP0972_20110513</td>\n",
       "      <td>1</td>\n",
       "    </tr>\n",
       "  </tbody>\n",
       "</table>\n",
       "<p>339998 rows × 2 columns</p>\n",
       "</div>"
      ],
      "text/plain": [
       "                userDate  date\n",
       "0       AAC0070_20100104     1\n",
       "1       AAC0070_20100105     1\n",
       "2       AAC0070_20100106     1\n",
       "3       AAC0070_20100107     1\n",
       "4       AAC0070_20100108     1\n",
       "...                  ...   ...\n",
       "339993  ZSP0972_20110509     1\n",
       "339994  ZSP0972_20110510     1\n",
       "339995  ZSP0972_20110511     1\n",
       "339996  ZSP0972_20110512     1\n",
       "339997  ZSP0972_20110513     1\n",
       "\n",
       "[339998 rows x 2 columns]"
      ]
     },
     "execution_count": 14,
     "metadata": {},
     "output_type": "execute_result"
    }
   ],
   "source": [
    "# compile hasLogin dateframe\n",
    "# group by user calendar day when activity is logon. count and pull one column. reset the index\n",
    "df_hasLogon = df_logons[df_logons['activity'] == 'Logon'].groupby(['user', 'calendarDay']).count()['date'].reset_index()\n",
    "# create a string that represents the date and add as column\n",
    "df_hasLogon['dateString'] = df_hasLogon['calendarDay'].apply(lambda x: x.strftime('%Y%m%d'))\n",
    "# create the userDate field by concat user_dateString\n",
    "df_hasLogon['userDate'] = df_hasLogon.apply(lambda x: x['user'] + '_' + x['dateString'], axis=1)\n",
    "# drop all the columns except for the two needed\n",
    "df_hasLogon = df_hasLogon[['userDate','date']]\n",
    "# display dataframe\n",
    "df_hasLogon"
   ]
  },
  {
   "cell_type": "code",
   "execution_count": 15,
   "metadata": {},
   "outputs": [],
   "source": [
    "# rename the columns and save to a pickle file in the directory\n",
    "df_hasLogon.rename(columns={'date':'count'}).to_pickle('hasLogins.pkl')"
   ]
  },
  {
   "cell_type": "code",
   "execution_count": 16,
   "metadata": {},
   "outputs": [],
   "source": [
    "# create datestring in main dataframe\n",
    "df_logons['dateString'] = df_logons['calendarDay'].apply(lambda x: x.strftime('%Y%m%d'))\n",
    "# create userDate in main dataframe\n",
    "df_logons['userDate'] = df_logons.apply(lambda x: x['user'] + '_' + x['dateString'], axis=1)\n",
    "# find the number of distinct pc where a logon event occured by userDate. rename the columns\n",
    "df_numPC = df_logons[df_logons['activity'] == 'Logon'].groupby('userDate')['pc'].nunique().to_frame().rename(columns={'pc':'countPC'})\n",
    "# display when not 1\n",
    "df_numPC[df_numPC['countPC'] != 1]\n",
    "# save to a pickle file\n",
    "df_numPC.to_pickle('numPC.pkl')"
   ]
  },
  {
   "cell_type": "code",
   "execution_count": 17,
   "metadata": {},
   "outputs": [],
   "source": [
    "# import KDE\n",
    "from sklearn.neighbors import KernelDensity"
   ]
  },
  {
   "cell_type": "code",
   "execution_count": 18,
   "metadata": {},
   "outputs": [
    {
     "data": {
      "text/html": [
       "<div>\n",
       "<style scoped>\n",
       "    .dataframe tbody tr th:only-of-type {\n",
       "        vertical-align: middle;\n",
       "    }\n",
       "\n",
       "    .dataframe tbody tr th {\n",
       "        vertical-align: top;\n",
       "    }\n",
       "\n",
       "    .dataframe thead th {\n",
       "        text-align: right;\n",
       "    }\n",
       "</style>\n",
       "<table border=\"1\" class=\"dataframe\">\n",
       "  <thead>\n",
       "    <tr style=\"text-align: right;\">\n",
       "      <th></th>\n",
       "      <th>id</th>\n",
       "      <th>date</th>\n",
       "      <th>user</th>\n",
       "      <th>pc</th>\n",
       "      <th>activity</th>\n",
       "      <th>dateDay</th>\n",
       "      <th>calendarDay</th>\n",
       "      <th>dateString</th>\n",
       "      <th>userDate</th>\n",
       "    </tr>\n",
       "    <tr>\n",
       "      <th>dateHour</th>\n",
       "      <th></th>\n",
       "      <th></th>\n",
       "      <th></th>\n",
       "      <th></th>\n",
       "      <th></th>\n",
       "      <th></th>\n",
       "      <th></th>\n",
       "      <th></th>\n",
       "      <th></th>\n",
       "    </tr>\n",
       "  </thead>\n",
       "  <tbody>\n",
       "    <tr>\n",
       "      <th>0</th>\n",
       "      <td>2369</td>\n",
       "      <td>2369</td>\n",
       "      <td>2369</td>\n",
       "      <td>2369</td>\n",
       "      <td>2369</td>\n",
       "      <td>2369</td>\n",
       "      <td>2369</td>\n",
       "      <td>2369</td>\n",
       "      <td>2369</td>\n",
       "    </tr>\n",
       "    <tr>\n",
       "      <th>1</th>\n",
       "      <td>2489</td>\n",
       "      <td>2489</td>\n",
       "      <td>2489</td>\n",
       "      <td>2489</td>\n",
       "      <td>2489</td>\n",
       "      <td>2489</td>\n",
       "      <td>2489</td>\n",
       "      <td>2489</td>\n",
       "      <td>2489</td>\n",
       "    </tr>\n",
       "    <tr>\n",
       "      <th>2</th>\n",
       "      <td>2629</td>\n",
       "      <td>2629</td>\n",
       "      <td>2629</td>\n",
       "      <td>2629</td>\n",
       "      <td>2629</td>\n",
       "      <td>2629</td>\n",
       "      <td>2629</td>\n",
       "      <td>2629</td>\n",
       "      <td>2629</td>\n",
       "    </tr>\n",
       "    <tr>\n",
       "      <th>3</th>\n",
       "      <td>2667</td>\n",
       "      <td>2667</td>\n",
       "      <td>2667</td>\n",
       "      <td>2667</td>\n",
       "      <td>2667</td>\n",
       "      <td>2667</td>\n",
       "      <td>2667</td>\n",
       "      <td>2667</td>\n",
       "      <td>2667</td>\n",
       "    </tr>\n",
       "    <tr>\n",
       "      <th>4</th>\n",
       "      <td>2709</td>\n",
       "      <td>2709</td>\n",
       "      <td>2709</td>\n",
       "      <td>2709</td>\n",
       "      <td>2709</td>\n",
       "      <td>2709</td>\n",
       "      <td>2709</td>\n",
       "      <td>2709</td>\n",
       "      <td>2709</td>\n",
       "    </tr>\n",
       "    <tr>\n",
       "      <th>5</th>\n",
       "      <td>2919</td>\n",
       "      <td>2919</td>\n",
       "      <td>2919</td>\n",
       "      <td>2919</td>\n",
       "      <td>2919</td>\n",
       "      <td>2919</td>\n",
       "      <td>2919</td>\n",
       "      <td>2919</td>\n",
       "      <td>2919</td>\n",
       "    </tr>\n",
       "    <tr>\n",
       "      <th>6</th>\n",
       "      <td>19706</td>\n",
       "      <td>19706</td>\n",
       "      <td>19706</td>\n",
       "      <td>19706</td>\n",
       "      <td>19706</td>\n",
       "      <td>19706</td>\n",
       "      <td>19706</td>\n",
       "      <td>19706</td>\n",
       "      <td>19706</td>\n",
       "    </tr>\n",
       "    <tr>\n",
       "      <th>7</th>\n",
       "      <td>175917</td>\n",
       "      <td>175917</td>\n",
       "      <td>175917</td>\n",
       "      <td>175917</td>\n",
       "      <td>175917</td>\n",
       "      <td>175917</td>\n",
       "      <td>175917</td>\n",
       "      <td>175917</td>\n",
       "      <td>175917</td>\n",
       "    </tr>\n",
       "    <tr>\n",
       "      <th>8</th>\n",
       "      <td>124665</td>\n",
       "      <td>124665</td>\n",
       "      <td>124665</td>\n",
       "      <td>124665</td>\n",
       "      <td>124665</td>\n",
       "      <td>124665</td>\n",
       "      <td>124665</td>\n",
       "      <td>124665</td>\n",
       "      <td>124665</td>\n",
       "    </tr>\n",
       "    <tr>\n",
       "      <th>9</th>\n",
       "      <td>37764</td>\n",
       "      <td>37764</td>\n",
       "      <td>37764</td>\n",
       "      <td>37764</td>\n",
       "      <td>37764</td>\n",
       "      <td>37764</td>\n",
       "      <td>37764</td>\n",
       "      <td>37764</td>\n",
       "      <td>37764</td>\n",
       "    </tr>\n",
       "    <tr>\n",
       "      <th>10</th>\n",
       "      <td>10291</td>\n",
       "      <td>10291</td>\n",
       "      <td>10291</td>\n",
       "      <td>10291</td>\n",
       "      <td>10291</td>\n",
       "      <td>10291</td>\n",
       "      <td>10291</td>\n",
       "      <td>10291</td>\n",
       "      <td>10291</td>\n",
       "    </tr>\n",
       "    <tr>\n",
       "      <th>11</th>\n",
       "      <td>19816</td>\n",
       "      <td>19816</td>\n",
       "      <td>19816</td>\n",
       "      <td>19816</td>\n",
       "      <td>19816</td>\n",
       "      <td>19816</td>\n",
       "      <td>19816</td>\n",
       "      <td>19816</td>\n",
       "      <td>19816</td>\n",
       "    </tr>\n",
       "    <tr>\n",
       "      <th>12</th>\n",
       "      <td>31556</td>\n",
       "      <td>31556</td>\n",
       "      <td>31556</td>\n",
       "      <td>31556</td>\n",
       "      <td>31556</td>\n",
       "      <td>31556</td>\n",
       "      <td>31556</td>\n",
       "      <td>31556</td>\n",
       "      <td>31556</td>\n",
       "    </tr>\n",
       "    <tr>\n",
       "      <th>13</th>\n",
       "      <td>28600</td>\n",
       "      <td>28600</td>\n",
       "      <td>28600</td>\n",
       "      <td>28600</td>\n",
       "      <td>28600</td>\n",
       "      <td>28600</td>\n",
       "      <td>28600</td>\n",
       "      <td>28600</td>\n",
       "      <td>28600</td>\n",
       "    </tr>\n",
       "    <tr>\n",
       "      <th>14</th>\n",
       "      <td>17105</td>\n",
       "      <td>17105</td>\n",
       "      <td>17105</td>\n",
       "      <td>17105</td>\n",
       "      <td>17105</td>\n",
       "      <td>17105</td>\n",
       "      <td>17105</td>\n",
       "      <td>17105</td>\n",
       "      <td>17105</td>\n",
       "    </tr>\n",
       "    <tr>\n",
       "      <th>15</th>\n",
       "      <td>45309</td>\n",
       "      <td>45309</td>\n",
       "      <td>45309</td>\n",
       "      <td>45309</td>\n",
       "      <td>45309</td>\n",
       "      <td>45309</td>\n",
       "      <td>45309</td>\n",
       "      <td>45309</td>\n",
       "      <td>45309</td>\n",
       "    </tr>\n",
       "    <tr>\n",
       "      <th>16</th>\n",
       "      <td>113578</td>\n",
       "      <td>113578</td>\n",
       "      <td>113578</td>\n",
       "      <td>113578</td>\n",
       "      <td>113578</td>\n",
       "      <td>113578</td>\n",
       "      <td>113578</td>\n",
       "      <td>113578</td>\n",
       "      <td>113578</td>\n",
       "    </tr>\n",
       "    <tr>\n",
       "      <th>17</th>\n",
       "      <td>79764</td>\n",
       "      <td>79764</td>\n",
       "      <td>79764</td>\n",
       "      <td>79764</td>\n",
       "      <td>79764</td>\n",
       "      <td>79764</td>\n",
       "      <td>79764</td>\n",
       "      <td>79764</td>\n",
       "      <td>79764</td>\n",
       "    </tr>\n",
       "    <tr>\n",
       "      <th>18</th>\n",
       "      <td>64092</td>\n",
       "      <td>64092</td>\n",
       "      <td>64092</td>\n",
       "      <td>64092</td>\n",
       "      <td>64092</td>\n",
       "      <td>64092</td>\n",
       "      <td>64092</td>\n",
       "      <td>64092</td>\n",
       "      <td>64092</td>\n",
       "    </tr>\n",
       "    <tr>\n",
       "      <th>19</th>\n",
       "      <td>46750</td>\n",
       "      <td>46750</td>\n",
       "      <td>46750</td>\n",
       "      <td>46750</td>\n",
       "      <td>46750</td>\n",
       "      <td>46750</td>\n",
       "      <td>46750</td>\n",
       "      <td>46750</td>\n",
       "      <td>46750</td>\n",
       "    </tr>\n",
       "    <tr>\n",
       "      <th>20</th>\n",
       "      <td>3181</td>\n",
       "      <td>3181</td>\n",
       "      <td>3181</td>\n",
       "      <td>3181</td>\n",
       "      <td>3181</td>\n",
       "      <td>3181</td>\n",
       "      <td>3181</td>\n",
       "      <td>3181</td>\n",
       "      <td>3181</td>\n",
       "    </tr>\n",
       "    <tr>\n",
       "      <th>21</th>\n",
       "      <td>2768</td>\n",
       "      <td>2768</td>\n",
       "      <td>2768</td>\n",
       "      <td>2768</td>\n",
       "      <td>2768</td>\n",
       "      <td>2768</td>\n",
       "      <td>2768</td>\n",
       "      <td>2768</td>\n",
       "      <td>2768</td>\n",
       "    </tr>\n",
       "    <tr>\n",
       "      <th>22</th>\n",
       "      <td>2852</td>\n",
       "      <td>2852</td>\n",
       "      <td>2852</td>\n",
       "      <td>2852</td>\n",
       "      <td>2852</td>\n",
       "      <td>2852</td>\n",
       "      <td>2852</td>\n",
       "      <td>2852</td>\n",
       "      <td>2852</td>\n",
       "    </tr>\n",
       "    <tr>\n",
       "      <th>23</th>\n",
       "      <td>2613</td>\n",
       "      <td>2613</td>\n",
       "      <td>2613</td>\n",
       "      <td>2613</td>\n",
       "      <td>2613</td>\n",
       "      <td>2613</td>\n",
       "      <td>2613</td>\n",
       "      <td>2613</td>\n",
       "      <td>2613</td>\n",
       "    </tr>\n",
       "  </tbody>\n",
       "</table>\n",
       "</div>"
      ],
      "text/plain": [
       "              id    date    user      pc  activity  dateDay  calendarDay  \\\n",
       "dateHour                                                                   \n",
       "0           2369    2369    2369    2369      2369     2369         2369   \n",
       "1           2489    2489    2489    2489      2489     2489         2489   \n",
       "2           2629    2629    2629    2629      2629     2629         2629   \n",
       "3           2667    2667    2667    2667      2667     2667         2667   \n",
       "4           2709    2709    2709    2709      2709     2709         2709   \n",
       "5           2919    2919    2919    2919      2919     2919         2919   \n",
       "6          19706   19706   19706   19706     19706    19706        19706   \n",
       "7         175917  175917  175917  175917    175917   175917       175917   \n",
       "8         124665  124665  124665  124665    124665   124665       124665   \n",
       "9          37764   37764   37764   37764     37764    37764        37764   \n",
       "10         10291   10291   10291   10291     10291    10291        10291   \n",
       "11         19816   19816   19816   19816     19816    19816        19816   \n",
       "12         31556   31556   31556   31556     31556    31556        31556   \n",
       "13         28600   28600   28600   28600     28600    28600        28600   \n",
       "14         17105   17105   17105   17105     17105    17105        17105   \n",
       "15         45309   45309   45309   45309     45309    45309        45309   \n",
       "16        113578  113578  113578  113578    113578   113578       113578   \n",
       "17         79764   79764   79764   79764     79764    79764        79764   \n",
       "18         64092   64092   64092   64092     64092    64092        64092   \n",
       "19         46750   46750   46750   46750     46750    46750        46750   \n",
       "20          3181    3181    3181    3181      3181     3181         3181   \n",
       "21          2768    2768    2768    2768      2768     2768         2768   \n",
       "22          2852    2852    2852    2852      2852     2852         2852   \n",
       "23          2613    2613    2613    2613      2613     2613         2613   \n",
       "\n",
       "          dateString  userDate  \n",
       "dateHour                        \n",
       "0               2369      2369  \n",
       "1               2489      2489  \n",
       "2               2629      2629  \n",
       "3               2667      2667  \n",
       "4               2709      2709  \n",
       "5               2919      2919  \n",
       "6              19706     19706  \n",
       "7             175917    175917  \n",
       "8             124665    124665  \n",
       "9              37764     37764  \n",
       "10             10291     10291  \n",
       "11             19816     19816  \n",
       "12             31556     31556  \n",
       "13             28600     28600  \n",
       "14             17105     17105  \n",
       "15             45309     45309  \n",
       "16            113578    113578  \n",
       "17             79764     79764  \n",
       "18             64092     64092  \n",
       "19             46750     46750  \n",
       "20              3181      3181  \n",
       "21              2768      2768  \n",
       "22              2852      2852  \n",
       "23              2613      2613  "
      ]
     },
     "execution_count": 18,
     "metadata": {},
     "output_type": "execute_result"
    }
   ],
   "source": [
    "# count the columns by dateHour - only 24; 0-23\n",
    "df_logons.groupby('dateHour').count()"
   ]
  },
  {
   "cell_type": "code",
   "execution_count": 19,
   "metadata": {},
   "outputs": [
    {
     "data": {
      "text/plain": [
       "dateHour\n",
       "7    345\n",
       "Name: dateHour, dtype: int64"
      ]
     },
     "execution_count": 19,
     "metadata": {},
     "output_type": "execute_result"
    }
   ],
   "source": [
    "# check one index location\n",
    "df_logons[df_logons['activity'] == 'Logon'].groupby('user')['dateHour'].value_counts().loc['AAC0070']"
   ]
  },
  {
   "cell_type": "code",
   "execution_count": 20,
   "metadata": {},
   "outputs": [],
   "source": [
    "# new dataframe with Logon by user date\n",
    "df_numLogonDate = df_logons[df_logons['activity'] == 'Logon'].groupby(['user','date']).count()"
   ]
  },
  {
   "cell_type": "code",
   "execution_count": 21,
   "metadata": {},
   "outputs": [
    {
     "data": {
      "text/html": [
       "<div>\n",
       "<style scoped>\n",
       "    .dataframe tbody tr th:only-of-type {\n",
       "        vertical-align: middle;\n",
       "    }\n",
       "\n",
       "    .dataframe tbody tr th {\n",
       "        vertical-align: top;\n",
       "    }\n",
       "\n",
       "    .dataframe thead th {\n",
       "        text-align: right;\n",
       "    }\n",
       "</style>\n",
       "<table border=\"1\" class=\"dataframe\">\n",
       "  <thead>\n",
       "    <tr style=\"text-align: right;\">\n",
       "      <th></th>\n",
       "      <th></th>\n",
       "      <th>id</th>\n",
       "      <th>pc</th>\n",
       "      <th>activity</th>\n",
       "      <th>dateHour</th>\n",
       "      <th>dateDay</th>\n",
       "      <th>calendarDay</th>\n",
       "      <th>dateString</th>\n",
       "      <th>userDate</th>\n",
       "    </tr>\n",
       "    <tr>\n",
       "      <th>user</th>\n",
       "      <th>date</th>\n",
       "      <th></th>\n",
       "      <th></th>\n",
       "      <th></th>\n",
       "      <th></th>\n",
       "      <th></th>\n",
       "      <th></th>\n",
       "      <th></th>\n",
       "      <th></th>\n",
       "    </tr>\n",
       "  </thead>\n",
       "  <tbody>\n",
       "    <tr>\n",
       "      <th>BLA0039</th>\n",
       "      <th>2011-03-31 22:39:33</th>\n",
       "      <td>2</td>\n",
       "      <td>2</td>\n",
       "      <td>2</td>\n",
       "      <td>2</td>\n",
       "      <td>2</td>\n",
       "      <td>2</td>\n",
       "      <td>2</td>\n",
       "      <td>2</td>\n",
       "    </tr>\n",
       "    <tr>\n",
       "      <th>JVS0212</th>\n",
       "      <th>2010-10-27 20:42:34</th>\n",
       "      <td>2</td>\n",
       "      <td>2</td>\n",
       "      <td>2</td>\n",
       "      <td>2</td>\n",
       "      <td>2</td>\n",
       "      <td>2</td>\n",
       "      <td>2</td>\n",
       "      <td>2</td>\n",
       "    </tr>\n",
       "  </tbody>\n",
       "</table>\n",
       "</div>"
      ],
      "text/plain": [
       "                             id  pc  activity  dateHour  dateDay  calendarDay  \\\n",
       "user    date                                                                    \n",
       "BLA0039 2011-03-31 22:39:33   2   2         2         2        2            2   \n",
       "JVS0212 2010-10-27 20:42:34   2   2         2         2        2            2   \n",
       "\n",
       "                             dateString  userDate  \n",
       "user    date                                       \n",
       "BLA0039 2011-03-31 22:39:33           2         2  \n",
       "JVS0212 2010-10-27 20:42:34           2         2  "
      ]
     },
     "execution_count": 21,
     "metadata": {},
     "output_type": "execute_result"
    }
   ],
   "source": [
    "# check when logindate seem to be high\n",
    "df_numLogonDate[df_numLogonDate['id'] > 1 ]"
   ]
  },
  {
   "cell_type": "code",
   "execution_count": 22,
   "metadata": {},
   "outputs": [],
   "source": [
    "# read ldap pick from ldap\n",
    "df_ldap = pd.read_pickle('../ldap/ldap.pkl')"
   ]
  },
  {
   "cell_type": "code",
   "execution_count": 23,
   "metadata": {},
   "outputs": [],
   "source": [
    "# create dataframe with distinct user_id and role, rename for merge\n",
    "df_userRole = df_ldap[['user_id', 'role']].drop_duplicates()\n",
    "df_userRole.rename(columns={'user_id':'user'}, inplace=True)"
   ]
  },
  {
   "cell_type": "code",
   "execution_count": 24,
   "metadata": {},
   "outputs": [],
   "source": [
    "# merge on user to logons so logons + userRole = logonsRole\n",
    "df_logonsRole = df_logons.merge(df_userRole, on='user')"
   ]
  },
  {
   "cell_type": "code",
   "execution_count": 25,
   "metadata": {},
   "outputs": [
    {
     "data": {
      "text/plain": [
       "role           dateHour\n",
       "Accountant     7           1079\n",
       "               15          1058\n",
       "               18           798\n",
       "               9            749\n",
       "               8            660\n",
       "                           ... \n",
       "VicePresident  18           180\n",
       "               11           178\n",
       "               14           133\n",
       "               10            72\n",
       "               17            16\n",
       "Length: 760, dtype: int64"
      ]
     },
     "execution_count": 25,
     "metadata": {},
     "output_type": "execute_result"
    }
   ],
   "source": [
    "# check - dislay logon hour by role \n",
    "df_logonsRole.groupby('role').value_counts(['dateHour'])"
   ]
  },
  {
   "cell_type": "code",
   "execution_count": 41,
   "metadata": {},
   "outputs": [
    {
     "data": {
      "text/plain": [
       "<Axes: title={'center': 'Accountant activity'}, xlabel='hour', ylabel='count'>"
      ]
     },
     "execution_count": 41,
     "metadata": {},
     "output_type": "execute_result"
    },
    {
     "data": {
      "image/png": "[encoded data removed]",
      "text/plain": [
       "<Figure size 640x480 with 1 Axes>"
      ]
     },
     "metadata": {},
     "output_type": "display_data"
    }
   ],
   "source": [
    "# generate visual showing logins and logouts for account\n",
    "#df_logonsRole.groupby('role').value_counts(['dateHour']).loc['Accountant'].sort_index().plot()\n",
    "df_logonsRole.groupby(['role','activity']).value_counts(['dateHour']).loc['Accountant'].to_frame().reset_index()\\\n",
    "    .pivot(index='dateHour', columns='activity', values=0).plot(xlabel='hour', ylabel='count', title='Accountant activity')"
   ]
  },
  {
   "cell_type": "code",
   "execution_count": null,
   "metadata": {},
   "outputs": [],
   "source": [
    "# test - generate dataframe for accountants logon\n",
    "df_LoginAccountant = df_logonsRole[(df_logonsRole['role'] == 'Accountant') &\n",
    "                                    (df_logonsRole['activity'] == 'Logon')]"
   ]
  },
  {
   "cell_type": "code",
   "execution_count": null,
   "metadata": {},
   "outputs": [],
   "source": [
    "# test - find all dateHours for this new accountant dataframe\n",
    "df_LoginAccountant['dateHour'].array"
   ]
  },
  {
   "cell_type": "code",
   "execution_count": null,
   "metadata": {},
   "outputs": [],
   "source": [
    "# test - generate a kde for accountant by dateHour array using reshape to collect results\n",
    "#kde = KernelDensity(kernel='gaussian', bandwidth=1).fit(df_LoginAccountant['dateHour'][:, np.newaxis])\n",
    "kde = KernelDensity(kernel='gaussian', bandwidth=1).fit(df_LoginAccountant['dateHour'].array.reshape(-1, 1))"
   ]
  },
  {
   "cell_type": "code",
   "execution_count": null,
   "metadata": {},
   "outputs": [],
   "source": [
    "# test - all probabilities for all hours for accountant sum to 1 = true\n",
    "import numpy as np\n",
    "\n",
    "temp = []\n",
    "\n",
    "for hour in range(0,24):\n",
    "    density = np.exp(kde.score_samples([[hour]]))\n",
    "    temp.append(density[0])\n",
    "\n",
    "sum(temp)"
   ]
  },
  {
   "cell_type": "code",
   "execution_count": null,
   "metadata": {},
   "outputs": [],
   "source": [
    "# code block to define a dictionary for all the role and the probabilies associated with each logon hour\n",
    "# prints probabily check for each role\n",
    "roleProbHour = {}\n",
    "\n",
    "\n",
    "for role in df_logonsRole['role'].unique():\n",
    "    \n",
    "    df_LoginHour = df_logonsRole[(df_logonsRole['role'] == role) &\n",
    "                                    (df_logonsRole['activity'] == 'Logon')]\n",
    "    kde = KernelDensity(kernel='gaussian', bandwidth=1).fit(df_LoginHour['dateHour'].array.reshape(-1, 1))\n",
    "    temp = {}\n",
    "\n",
    "    for hour in range(0,24):\n",
    "        density = np.exp(kde.score_samples([[hour]]))\n",
    "        temp[hour] = density[0]\n",
    "\n",
    "    roleProbHour[role] = temp\n",
    "\n",
    "    print(role, sum(temp.values()))\n",
    "    "
   ]
  },
  {
   "cell_type": "code",
   "execution_count": null,
   "metadata": {},
   "outputs": [],
   "source": [
    "# generate a dataframe from the dictionary. transposes the dataframe with it all \n",
    "df_roleProbHour = pd.DataFrame(roleProbHour).transpose()\n",
    "#df_roleProbHour.head()\n",
    "#df_roleProbHour.loc['Scientist', 4]\n",
    "\n",
    "# store it into a pickle\n",
    "df_roleProbHour.to_pickle('roleProbHour.pkl')"
   ]
  },
  {
   "cell_type": "code",
   "execution_count": null,
   "metadata": {},
   "outputs": [],
   "source": [
    "# do the same thing for roles and logout/logoff\n",
    "roleProbLogoutHour = {}\n",
    "\n",
    "\n",
    "for role in df_logonsRole['role'].unique():\n",
    "    \n",
    "    df_LoginHour = df_logonsRole[(df_logonsRole['role'] == role) &\n",
    "                                    (df_logonsRole['activity'] == 'Logoff')]\n",
    "    kde = KernelDensity(kernel='gaussian', bandwidth=1).fit(df_LoginHour['dateHour'].array.reshape(-1, 1))\n",
    "    temp = {}\n",
    "\n",
    "    for hour in range(0,24):\n",
    "        density = np.exp(kde.score_samples([[hour]]))\n",
    "        temp[hour] = density[0]\n",
    "\n",
    "    roleProbLogoutHour[role] = temp\n",
    "\n",
    "    print(role, sum(temp.values()))"
   ]
  },
  {
   "cell_type": "code",
   "execution_count": null,
   "metadata": {},
   "outputs": [],
   "source": [
    "# generate dataframe and save to pickle\n",
    "df_roleProbLogoutHour = pd.DataFrame(roleProbLogoutHour).transpose()\n",
    "#df_roleProbHour.head()\n",
    "#df_roleProbHour.loc['Scientist', 4]\n",
    "df_roleProbLogoutHour.to_pickle('roleProbLogoutHour.pkl')"
   ]
  },
  {
   "cell_type": "code",
   "execution_count": null,
   "metadata": {},
   "outputs": [],
   "source": [
    "# generate a copy of logons to find all the logons for each user - multiple rows per userDate\n",
    "df_logonHour = df_logons.copy()\n",
    "df_logonHour['dateString'] = df_logonHour['calendarDay'].apply(lambda x: x.strftime('%Y%m%d'))\n",
    "df_logonHour['userDate'] = df_logonHour.apply(lambda x: x['user'] + '_' + x['dateString'], axis=1)\n",
    "df_logonHour = df_logonHour[df_logonHour['activity'] == 'Logon']\n",
    "df_logonHour = df_logonHour[['userDate','dateHour']]\n",
    "# comment if not to over write\n",
    "#df_logonHour.to_pickle('logonHour.pkl')"
   ]
  },
  {
   "cell_type": "code",
   "execution_count": null,
   "metadata": {},
   "outputs": [],
   "source": [
    "# generate a copy of logons to find all the logoffs for each user - multiple rows per userDate\n",
    "df_logoutHour = df_logons.copy()\n",
    "df_logoutHour['dateString'] = df_logoutHour['calendarDay'].apply(lambda x: x.strftime('%Y%m%d'))\n",
    "df_logoutHour['userDate'] = df_logoutHour.apply(lambda x: x['user'] + '_' + x['dateString'], axis=1)\n",
    "df_logoutHour = df_logoutHour[df_logoutHour['activity'] == 'Logoff']\n",
    "df_logoutHour = df_logoutHour[['userDate','dateHour']]\n",
    "df_logoutHour.to_pickle('logoutHour.pkl')\n"
   ]
  },
  {
   "cell_type": "code",
   "execution_count": null,
   "metadata": {},
   "outputs": [],
   "source": [
    "# check - old test file. open with excel to find all logons for user \n",
    "df_logons[(df_logons['activity'] == 'Logon') & (df_logons['user'] == 'AJM0772')].to_csv('test.csv')"
   ]
  },
  {
   "cell_type": "code",
   "execution_count": null,
   "metadata": {},
   "outputs": [],
   "source": [
    "# code block to define a dictionary for each user and the probabilies associated with each logon hour\n",
    "\n",
    "userProbHour = {}\n",
    "\n",
    "for user in df_logons['user'].unique():\n",
    "    kde = KernelDensity(kernel='gaussian', bandwidth=1).fit(df_logons[ (df_logons['user'] == user) & (df_logons['activity'] == 'Logon') ].groupby('userDate')['dateHour'].min().values.reshape(-1,1))\n",
    "    temp = {}\n",
    "\n",
    "    for hour in range(0,24):\n",
    "        density = np.exp(kde.score_samples([[hour]]))\n",
    "        temp[hour] = density[0]\n",
    "\n",
    "    userProbHour[user] = temp\n",
    "    \n",
    "    #print(user, sum(temp.values()))"
   ]
  },
  {
   "cell_type": "code",
   "execution_count": null,
   "metadata": {},
   "outputs": [],
   "source": [
    "# generate dataframe and save to pickle\n",
    "df_userProbHour = pd.DataFrame(userProbHour).transpose()\n",
    "#df_roleProbHour.head()\n",
    "#df_roleProbHour.loc['Scientist', 4]\n",
    "df_userProbHour.to_pickle('userProbHour.pkl')"
   ]
  },
  {
   "cell_type": "code",
   "execution_count": null,
   "metadata": {},
   "outputs": [],
   "source": [
    "# code block to define a dictionary for each user and the probabilies associated with each logoff hour\n",
    "userProbLogoutHour = {}\n",
    "\n",
    "for user in df_logons['user'].unique():\n",
    "    kde = KernelDensity(kernel='gaussian', bandwidth=1).fit(df_logons[ (df_logons['user'] == user) & (df_logons['activity'] == 'Logoff') ].groupby('userDate')['dateHour'].max().values.reshape(-1,1))\n",
    "    temp = {}\n",
    "\n",
    "    for hour in range(0,24):\n",
    "        density = np.exp(kde.score_samples([[hour]]))\n",
    "        temp[hour] = density[0]\n",
    "\n",
    "    userProbLogoutHour[user] = temp\n",
    "    \n",
    "    #print(user, sum(temp.values()))"
   ]
  },
  {
   "cell_type": "code",
   "execution_count": null,
   "metadata": {},
   "outputs": [],
   "source": [
    "# change to dataframe and save to pickle\n",
    "df_userProbLogoutHour = pd.DataFrame(userProbLogoutHour).transpose()\n",
    "#df_roleProbHour.head()\n",
    "#df_roleProbHour.loc['Scientist', 4]\n",
    "df_userProbLogoutHour.to_pickle('userProbLogoutHour.pkl')"
   ]
  },
  {
   "cell_type": "code",
   "execution_count": null,
   "metadata": {},
   "outputs": [],
   "source": [
    "# check - display dataframe\n",
    "df_userProbLogoutHour"
   ]
  }
 ],
 "metadata": {
  "kernelspec": {
   "display_name": ".venv",
   "language": "python",
   "name": "python3"
  },
  "language_info": {
   "codemirror_mode": {
    "name": "ipython",
    "version": 3
   },
   "file_extension": ".py",
   "mimetype": "text/x-python",
   "name": "python",
   "nbconvert_exporter": "python",
   "pygments_lexer": "ipython3",
   "version": "3.10.6"
  },
  "orig_nbformat": 4,
  "vscode": {
   "interpreter": {
    "hash": "59a61050de5602df89d115e2a8b106731378e82c33a23b198cb5069ccb3357e6"
   }
  }
 },
 "nbformat": 4,
 "nbformat_minor": 2
}
